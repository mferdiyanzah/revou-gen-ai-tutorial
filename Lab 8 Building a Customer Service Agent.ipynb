{
 "cells": [
  {
   "cell_type": "markdown",
   "id": "bae911a4",
   "metadata": {},
   "source": [
    "# Lab 8"
   ]
  },
  {
   "cell_type": "markdown",
   "id": "99559bbc",
   "metadata": {},
   "source": [
    "Use Lab8.py in pages folder"
   ]
  }
 ],
 "metadata": {
  "language_info": {
   "name": "python"
  }
 },
 "nbformat": 4,
 "nbformat_minor": 5
}
