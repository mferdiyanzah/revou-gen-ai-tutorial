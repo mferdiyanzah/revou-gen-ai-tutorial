{
 "cells": [
  {
   "cell_type": "markdown",
   "id": "dc07b551",
   "metadata": {},
   "source": [
    "# Lab 9: Working with Image Models"
   ]
  },
  {
   "cell_type": "code",
   "execution_count": null,
   "id": "f4cc2c8d",
   "metadata": {},
   "outputs": [],
   "source": [
    "from dotenv import load_dotenv\n",
    "load_dotenv(override=True)"
   ]
  },
  {
   "cell_type": "markdown",
   "id": "7088956f",
   "metadata": {},
   "source": [
    "### Describe an image"
   ]
  },
  {
   "cell_type": "code",
   "execution_count": null,
   "id": "0f351d03",
   "metadata": {},
   "outputs": [],
   "source": [
    "from openai import OpenAI\n",
    "client = OpenAI()\n",
    "\n",
    "response = client.chat.completions.create(\n",
    "    model=\"gpt-4.1-mini\",\n",
    "    messages=[{\n",
    "        \"role\": \"user\",\n",
    "        \"content\": [\n",
    "            {\"type\": \"text\", \"text\": \"What's in this image?\"},\n",
    "            {\n",
    "                \"type\": \"image_url\",\n",
    "                \"image_url\": {\n",
    "                    \"url\": \"https://upload.wikimedia.org/wikipedia/commons/thumb/d/dd/Gfp-wisconsin-madison-the-nature-boardwalk.jpg/2560px-Gfp-wisconsin-madison-the-nature-boardwalk.jpg\",\n",
    "                },\n",
    "            },\n",
    "        ],\n",
    "    }],\n",
    ")\n",
    "\n",
    "print(response.choices[0].message.content)"
   ]
  },
  {
   "cell_type": "markdown",
   "id": "819bae5a",
   "metadata": {},
   "source": [
    "### Describe a plot/chart"
   ]
  },
  {
   "cell_type": "code",
   "execution_count": null,
   "id": "a72c7c6b",
   "metadata": {},
   "outputs": [],
   "source": [
    "# Load the image file in binary mode\n",
    "with open(\"./assets/graph.jpeg\", \"rb\") as image_file:\n",
    "    image_data = image_file.read()\n",
    "\n",
    "import base64\n",
    "base64_image = base64.b64encode(image_data).decode('utf-8')\n",
    "\n",
    "response = client.chat.completions.create(\n",
    "    model=\"gpt-4.1-mini\",\n",
    "    messages=[{\n",
    "        \"role\": \"user\",\n",
    "        \"content\": [\n",
    "            {\"type\": \"text\", \"text\": \"Describe the following chart?\"},\n",
    "            {\"type\": \"image_url\", \"image_url\": {\"url\": \"data:image/png;base64,\" + base64_image}},\n",
    "        ],\n",
    "    }],\n",
    ")\n",
    "\n",
    "print(response.choices[0].message.content)"
   ]
  },
  {
   "cell_type": "markdown",
   "id": "cf595bea",
   "metadata": {},
   "source": [
    "### Extract values from image "
   ]
  },
  {
   "cell_type": "code",
   "execution_count": null,
   "id": "f90279be",
   "metadata": {},
   "outputs": [],
   "source": [
    "# Load the image file in binary mode\n",
    "with open(\"./assets/KTP1.png\", \"rb\") as image_file:\n",
    "    image_data = image_file.read()\n",
    "\n",
    "import base64\n",
    "base64_image = base64.b64encode(image_data).decode('utf-8')\n",
    "\n",
    "response = client.chat.completions.create(\n",
    "    model=\"gpt-4.1-mini\",\n",
    "    messages=[{\n",
    "        \"role\": \"user\",\n",
    "        \"content\": [\n",
    "            {\"type\": \"text\", \"text\": \"Extract the information in the following image and present the result in JSON format.\"},\n",
    "            {\"type\": \"image_url\", \"image_url\": {\"url\": \"data:image/png;base64,\" + base64_image}},\n",
    "        ],\n",
    "    }],\n",
    ")\n",
    "\n",
    "print(response.choices[0].message.content)"
   ]
  },
  {
   "cell_type": "code",
   "execution_count": null,
   "id": "e8516212",
   "metadata": {},
   "outputs": [],
   "source": [
    "# Load the image file in binary mode\n",
    "with open(\"./assets/KTP2.jpg\", \"rb\") as image_file:\n",
    "    image_data = image_file.read()\n",
    "\n",
    "import base64\n",
    "base64_image = base64.b64encode(image_data).decode('utf-8')\n",
    "\n",
    "response = client.chat.completions.create(\n",
    "    model=\"gpt-4.1-mini\",\n",
    "    messages=[{\n",
    "        \"role\": \"user\",\n",
    "        \"content\": [\n",
    "            {\"type\": \"text\", \"text\": \"Extract the information in the following image and present the result in JSON format.\"},\n",
    "            {\"type\": \"image_url\", \"image_url\": {\"url\": \"data:image/png;base64,\" + base64_image}},\n",
    "        ],\n",
    "    }],\n",
    ")\n",
    "\n",
    "print(response.choices[0].message.content)"
   ]
  },
  {
   "cell_type": "markdown",
   "id": "82bd85c5",
   "metadata": {},
   "source": [
    "### Handwritting Recognition"
   ]
  },
  {
   "cell_type": "code",
   "execution_count": null,
   "id": "dc8b2644",
   "metadata": {},
   "outputs": [],
   "source": [
    "# Load the image file in binary mode\n",
    "with open(\"./assets/handwriting1.jpg\", \"rb\") as image_file:\n",
    "    image_data = image_file.read()\n",
    "\n",
    "import base64\n",
    "base64_image = base64.b64encode(image_data).decode('utf-8')\n",
    "\n",
    "response = client.chat.completions.create(\n",
    "    model=\"gpt-4.1-mini\",\n",
    "    messages=[{\n",
    "        \"role\": \"user\",\n",
    "        \"content\": [\n",
    "            {\"type\": \"text\", \"text\": \"Read the following handwritten letter. Write the message by keeping the format.\"},\n",
    "            {\"type\": \"image_url\", \"image_url\": {\"url\": \"data:image/png;base64,\" + base64_image}},\n",
    "        ],\n",
    "    }],\n",
    ")\n",
    "\n",
    "print(response.choices[0].message.content)"
   ]
  },
  {
   "cell_type": "code",
   "execution_count": null,
   "id": "07caaf95",
   "metadata": {},
   "outputs": [],
   "source": [
    "# Load the image file in binary mode\n",
    "with open(\"./assets/handwritten_form.jpg\", \"rb\") as image_file:\n",
    "    image_data = image_file.read()\n",
    "\n",
    "import base64\n",
    "base64_image = base64.b64encode(image_data).decode('utf-8')\n",
    "\n",
    "response = client.chat.completions.create(\n",
    "    model=\"gpt-4.1-mini\",\n",
    "    messages=[{\n",
    "        \"role\": \"user\",\n",
    "        \"content\": [\n",
    "            {\"type\": \"text\", \"text\": \"Extract the address written on the following form.\"},\n",
    "            {\"type\": \"image_url\", \"image_url\": {\"url\": \"data:image/png;base64,\" + base64_image}},\n",
    "        ],\n",
    "    }],\n",
    ")\n",
    "\n",
    "print(response.choices[0].message.content)"
   ]
  },
  {
   "cell_type": "code",
   "execution_count": null,
   "id": "152fdc74",
   "metadata": {},
   "outputs": [],
   "source": [
    "# Load the image file in binary mode\n",
    "with open(\"./assets/handwritten_form1.webp\", \"rb\") as image_file:\n",
    "    image_data = image_file.read()\n",
    "\n",
    "import base64\n",
    "base64_image = base64.b64encode(image_data).decode('utf-8')\n",
    "\n",
    "response = client.chat.completions.create(\n",
    "    model=\"gpt-4.1-mini\",\n",
    "    messages=[{\n",
    "        \"role\": \"user\",\n",
    "        \"content\": [\n",
    "            {\"type\": \"text\", \"text\": \"Extract all filled fields from the following form.\"},\n",
    "            {\"type\": \"image_url\", \"image_url\": {\"url\": \"data:image/png;base64,\" + base64_image}},\n",
    "        ],\n",
    "    }],\n",
    ")\n",
    "\n",
    "print(response.choices[0].message.content)"
   ]
  },
  {
   "cell_type": "markdown",
   "id": "80f8ede2",
   "metadata": {},
   "source": [
    "## GENERATION"
   ]
  },
  {
   "cell_type": "markdown",
   "id": "fa14e809",
   "metadata": {},
   "source": [
    "### Image Generation"
   ]
  },
  {
   "cell_type": "code",
   "execution_count": null,
   "id": "e80b97ed",
   "metadata": {},
   "outputs": [],
   "source": [
    "import base64\n",
    "import os\n",
    "from openai import OpenAI\n",
    "from PIL import Image\n",
    "from io import BytesIO\n",
    "from IPython.display import Image as IPImage, display\n",
    "\n",
    "client = OpenAI()"
   ]
  },
  {
   "cell_type": "code",
   "execution_count": null,
   "id": "b74c690e",
   "metadata": {},
   "outputs": [],
   "source": [
    "# Generate the image\n",
    "prompt1 = \"\"\"\n",
    "Render a realistic image of this character:\n",
    "Blobby Alien Character Spec Name: Glorptak (or nickname: \"Glorp\")\n",
    "Visual Appearance Body Shape: Amorphous and gelatinous. Overall silhouette resembles a teardrop or melting marshmallow, shifting slightly over time. Can squish and elongate when emotional or startled.\n",
    "Material Texture: Semi-translucent, bio-luminescent goo with a jelly-like wobble. Surface occasionally ripples when communicating or moving quickly.\n",
    "Color Palette:\n",
    "- Base: Iridescent lavender or seafoam green\n",
    "- Accents: Subsurface glowing veins of neon pink, electric blue, or golden yellow\n",
    "- Mood-based color shifts (anger = dark red, joy = bright aqua, fear = pale gray)\n",
    "Facial Features:\n",
    "- Eyes: 3-5 asymmetrical floating orbs inside the blob that rotate or blink independently\n",
    "- Mouth: Optional—appears as a rippling crescent on the surface when speaking or emoting\n",
    "- No visible nose or ears; uses vibration-sensitive receptors embedded in goo\n",
    "\"\"\"\n",
    "\n",
    "img_path1 = \"imgs/glorptak.jpg\"\n",
    "\n",
    "result1 = client.images.generate(\n",
    "    model=\"dall-e-2\",\n",
    "    prompt=prompt1,\n",
    "    size=\"256x256\"\n",
    ")"
   ]
  },
  {
   "cell_type": "code",
   "execution_count": null,
   "id": "49221548",
   "metadata": {},
   "outputs": [],
   "source": [
    "# Show the result\n",
    "import requests\n",
    "from PIL import Image\n",
    "from io import BytesIO\n",
    "\n",
    "response = requests.get(result1.data[0].url)\n",
    "image = Image.open(BytesIO(response.content))\n",
    "\n",
    "# Display the image inline\n",
    "display(image)\n"
   ]
  },
  {
   "cell_type": "markdown",
   "id": "87438cf8",
   "metadata": {},
   "source": [
    "# END"
   ]
  }
 ],
 "metadata": {
  "kernelspec": {
   "display_name": "venv",
   "language": "python",
   "name": "python3"
  },
  "language_info": {
   "codemirror_mode": {
    "name": "ipython",
    "version": 3
   },
   "file_extension": ".py",
   "mimetype": "text/x-python",
   "name": "python",
   "nbconvert_exporter": "python",
   "pygments_lexer": "ipython3",
   "version": "3.11.5"
  }
 },
 "nbformat": 4,
 "nbformat_minor": 5
}
