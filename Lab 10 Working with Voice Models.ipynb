{
 "cells": [
  {
   "cell_type": "markdown",
   "id": "79417933",
   "metadata": {},
   "source": [
    "# Lab 10: Working with Voice Models"
   ]
  },
  {
   "cell_type": "code",
   "execution_count": null,
   "id": "4826b964",
   "metadata": {},
   "outputs": [],
   "source": [
    "from dotenv import load_dotenv\n",
    "import ssl \n",
    "ssl._create_default_https_context = ssl._create_unverified_context\n",
    "load_dotenv(override=True)"
   ]
  },
  {
   "cell_type": "markdown",
   "id": "d860f075",
   "metadata": {},
   "source": [
    "## Text to Speech "
   ]
  },
  {
   "cell_type": "code",
   "execution_count": null,
   "id": "ac8d688e",
   "metadata": {},
   "outputs": [],
   "source": [
    " # Text to Speech \n",
    "\n",
    "from pathlib import Path\n",
    "from openai import OpenAI\n",
    "\n",
    "client = OpenAI()\n",
    "speech_file_path = \"./speech/echo_voice.mp3\"\n",
    "\n",
    "with client.audio.speech.with_streaming_response.create(\n",
    "    model=\"gpt-4o-mini-tts\",\n",
    "    voice=\"echo\",\n",
    "    input=\"Hello, my name is Echo. I am working for Dexa Medica and I live in Indonesia. Nice to meet you, all. Let's learning about generative AI together.\",\n",
    "    instructions=\"Speak in a cheerful and positive tone.\",\n",
    ") as response:\n",
    "    response.stream_to_file(speech_file_path)"
   ]
  },
  {
   "cell_type": "code",
   "execution_count": null,
   "id": "ea78ccf7",
   "metadata": {},
   "outputs": [],
   "source": [
    " # Text to Speech \n",
    "\n",
    "from pathlib import Path\n",
    "from openai import OpenAI\n",
    "\n",
    "client = OpenAI()\n",
    "speech_file_path = \"./speech/coral_voice.mp3\"\n",
    "\n",
    "with client.audio.speech.with_streaming_response.create(\n",
    "    model=\"gpt-4o-mini-tts\",\n",
    "    voice=\"coral\",\n",
    "    input=\"Hello, my name is Coral. I am working for Dexa Medica and I live in Indonesia. Nice to meet you, all. Let's learning about generative AI together.\",\n",
    "    instructions=\"Speak in a formal and strong.\",\n",
    ") as response:\n",
    "    response.stream_to_file(speech_file_path)"
   ]
  },
  {
   "cell_type": "markdown",
   "id": "63c9eaf2",
   "metadata": {},
   "source": [
    "Play around with available voice and personas in https://www.openai.fm/ "
   ]
  },
  {
   "cell_type": "markdown",
   "id": "846c1c42",
   "metadata": {},
   "source": [
    "# Speech to Text"
   ]
  },
  {
   "cell_type": "code",
   "execution_count": null,
   "id": "42fe2c1e",
   "metadata": {},
   "outputs": [],
   "source": [
    "from openai import OpenAI\n",
    "\n",
    "client = OpenAI()\n",
    "audio_file= open(\"./speech/coral_voice.mp3\", \"rb\")\n",
    "\n",
    "transcription = client.audio.transcriptions.create(\n",
    "    model=\"gpt-4o-transcribe\", \n",
    "    file=audio_file\n",
    ")\n",
    "\n",
    "print(transcription.text)"
   ]
  },
  {
   "cell_type": "code",
   "execution_count": null,
   "id": "93feb4ca",
   "metadata": {},
   "outputs": [],
   "source": [
    "from openai import OpenAI\n",
    "\n",
    "client = OpenAI()\n",
    "audio_file = open(\"./speech/Pydantic Tutorial.mp3\", \"rb\")\n",
    "\n",
    "stream = client.audio.transcriptions.create(\n",
    "    model=\"gpt-4o-transcribe\", \n",
    "    file=audio_file,\n",
    "    stream = True\n",
    ")\n",
    "\n",
    "counter = 0\n",
    "for event in stream: \n",
    "    print(event.delta, end=\"\", flush=True)\n",
    "    if counter % 20 == 0:\n",
    "        print(\"\\n\", end=\" \", flush=True)\n",
    "    counter += 1"
   ]
  },
  {
   "cell_type": "markdown",
   "id": "2d745ddd",
   "metadata": {},
   "source": [
    "# END"
   ]
  }
 ],
 "metadata": {
  "kernelspec": {
   "display_name": "venv",
   "language": "python",
   "name": "python3"
  },
  "language_info": {
   "codemirror_mode": {
    "name": "ipython",
    "version": 3
   },
   "file_extension": ".py",
   "mimetype": "text/x-python",
   "name": "python",
   "nbconvert_exporter": "python",
   "pygments_lexer": "ipython3",
   "version": "3.11.5"
  }
 },
 "nbformat": 4,
 "nbformat_minor": 5
}
