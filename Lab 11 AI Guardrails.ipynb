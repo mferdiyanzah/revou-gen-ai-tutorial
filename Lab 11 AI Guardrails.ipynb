{
 "cells": [
  {
   "cell_type": "markdown",
   "id": "730631b3",
   "metadata": {},
   "source": [
    "# Lab 11: AI Guardrails"
   ]
  },
  {
   "cell_type": "markdown",
   "id": "55b4e400",
   "metadata": {},
   "source": [
    "## Initial Setup of Guardrails"
   ]
  },
  {
   "cell_type": "code",
   "execution_count": 1,
   "id": "fe1ae81e",
   "metadata": {},
   "outputs": [
    {
     "name": "stdout",
     "output_type": "stream",
     "text": [
      "Requirement already satisfied: guardrails-ai in ./venv/lib/python3.11/site-packages (0.6.6)\n",
      "Requirement already satisfied: diff-match-patch<20230431,>=20230430 in ./venv/lib/python3.11/site-packages (from guardrails-ai) (20230430)\n",
      "Requirement already satisfied: faker<26.0.0,>=25.2.0 in ./venv/lib/python3.11/site-packages (from guardrails-ai) (25.9.2)\n",
      "Requirement already satisfied: griffe<0.37.0,>=0.36.9 in ./venv/lib/python3.11/site-packages (from guardrails-ai) (0.36.9)\n",
      "Requirement already satisfied: guardrails-api-client<0.5.0,>=0.4.0a1 in ./venv/lib/python3.11/site-packages (from guardrails-ai) (0.4.0a1)\n",
      "Requirement already satisfied: guardrails-hub-types<0.0.5,>=0.0.4 in ./venv/lib/python3.11/site-packages (from guardrails-ai) (0.0.4)\n",
      "Requirement already satisfied: jsonref<2.0.0,>=1.1.0 in ./venv/lib/python3.11/site-packages (from guardrails-ai) (1.1.0)\n",
      "Requirement already satisfied: jsonschema<5.0.0,>=4.22.0 in ./venv/lib/python3.11/site-packages (from jsonschema[format-nongpl]<5.0.0,>=4.22.0->guardrails-ai) (4.23.0)\n",
      "Requirement already satisfied: langchain-core<0.4,>=0.1 in ./venv/lib/python3.11/site-packages (from guardrails-ai) (0.3.61)\n",
      "Requirement already satisfied: litellm<2.0.0,>=1.37.14 in ./venv/lib/python3.11/site-packages (from guardrails-ai) (1.71.1)\n",
      "Requirement already satisfied: lxml<5.0.0,>=4.9.3 in ./venv/lib/python3.11/site-packages (from guardrails-ai) (4.9.4)\n",
      "Requirement already satisfied: openai<2.0.0,>=1.30.1 in ./venv/lib/python3.11/site-packages (from guardrails-ai) (1.76.2)\n",
      "Requirement already satisfied: opentelemetry-exporter-otlp-proto-grpc<2.0.0,>=1.24.0 in ./venv/lib/python3.11/site-packages (from guardrails-ai) (1.33.1)\n",
      "Requirement already satisfied: opentelemetry-exporter-otlp-proto-http<2.0.0,>=1.24.0 in ./venv/lib/python3.11/site-packages (from guardrails-ai) (1.33.1)\n",
      "Requirement already satisfied: opentelemetry-sdk<2.0.0,>=1.24.0 in ./venv/lib/python3.11/site-packages (from guardrails-ai) (1.33.1)\n",
      "Requirement already satisfied: pip>=22 in ./venv/lib/python3.11/site-packages (from guardrails-ai) (25.1.1)\n",
      "Requirement already satisfied: pydantic<3.0,>=2.0.0 in ./venv/lib/python3.11/site-packages (from guardrails-ai) (2.11.4)\n",
      "Requirement already satisfied: pydash<8.0.0,>=7.0.6 in ./venv/lib/python3.11/site-packages (from guardrails-ai) (7.0.7)\n",
      "Requirement already satisfied: pyjwt<3.0.0,>=2.8.0 in ./venv/lib/python3.11/site-packages (from guardrails-ai) (2.10.1)\n",
      "Requirement already satisfied: python-dateutil<3.0.0,>=2.8.2 in ./venv/lib/python3.11/site-packages (from guardrails-ai) (2.9.0.post0)\n",
      "Requirement already satisfied: requests<3.0.0,>=2.31.0 in ./venv/lib/python3.11/site-packages (from guardrails-ai) (2.32.2)\n",
      "Requirement already satisfied: rich<14.0.0,>=13.6.0 in ./venv/lib/python3.11/site-packages (from guardrails-ai) (13.9.4)\n",
      "Requirement already satisfied: rstr<4.0.0,>=3.2.2 in ./venv/lib/python3.11/site-packages (from guardrails-ai) (3.2.2)\n",
      "Requirement already satisfied: semver<4.0.0,>=3.0.2 in ./venv/lib/python3.11/site-packages (from guardrails-ai) (3.0.4)\n",
      "Requirement already satisfied: tenacity>=8.1.0 in ./venv/lib/python3.11/site-packages (from guardrails-ai) (9.1.2)\n",
      "Requirement already satisfied: tiktoken>=0.5.1 in ./venv/lib/python3.11/site-packages (from guardrails-ai) (0.9.0)\n",
      "Requirement already satisfied: typer<0.16,>=0.9.0 in ./venv/lib/python3.11/site-packages (from guardrails-ai) (0.15.4)\n",
      "Requirement already satisfied: typing-extensions<5.0.0,>=4.8.0 in ./venv/lib/python3.11/site-packages (from guardrails-ai) (4.13.2)\n",
      "Requirement already satisfied: colorama>=0.4 in ./venv/lib/python3.11/site-packages (from griffe<0.37.0,>=0.36.9->guardrails-ai) (0.4.6)\n",
      "Requirement already satisfied: setuptools>=21.0.0 in ./venv/lib/python3.11/site-packages (from guardrails-api-client<0.5.0,>=0.4.0a1->guardrails-ai) (80.9.0)\n",
      "Requirement already satisfied: urllib3<2.1.0,>=1.25.3 in ./venv/lib/python3.11/site-packages (from guardrails-api-client<0.5.0,>=0.4.0a1->guardrails-ai) (2.0.7)\n",
      "Requirement already satisfied: attrs>=22.2.0 in ./venv/lib/python3.11/site-packages (from jsonschema<5.0.0,>=4.22.0->jsonschema[format-nongpl]<5.0.0,>=4.22.0->guardrails-ai) (25.3.0)\n",
      "Requirement already satisfied: jsonschema-specifications>=2023.03.6 in ./venv/lib/python3.11/site-packages (from jsonschema<5.0.0,>=4.22.0->jsonschema[format-nongpl]<5.0.0,>=4.22.0->guardrails-ai) (2025.4.1)\n",
      "Requirement already satisfied: referencing>=0.28.4 in ./venv/lib/python3.11/site-packages (from jsonschema<5.0.0,>=4.22.0->jsonschema[format-nongpl]<5.0.0,>=4.22.0->guardrails-ai) (0.36.2)\n",
      "Requirement already satisfied: rpds-py>=0.7.1 in ./venv/lib/python3.11/site-packages (from jsonschema<5.0.0,>=4.22.0->jsonschema[format-nongpl]<5.0.0,>=4.22.0->guardrails-ai) (0.24.0)\n",
      "Requirement already satisfied: fqdn in ./venv/lib/python3.11/site-packages (from jsonschema[format-nongpl]<5.0.0,>=4.22.0->guardrails-ai) (1.5.1)\n",
      "Requirement already satisfied: idna in ./venv/lib/python3.11/site-packages (from jsonschema[format-nongpl]<5.0.0,>=4.22.0->guardrails-ai) (3.10)\n",
      "Requirement already satisfied: isoduration in ./venv/lib/python3.11/site-packages (from jsonschema[format-nongpl]<5.0.0,>=4.22.0->guardrails-ai) (20.11.0)\n",
      "Requirement already satisfied: jsonpointer>1.13 in ./venv/lib/python3.11/site-packages (from jsonschema[format-nongpl]<5.0.0,>=4.22.0->guardrails-ai) (3.0.0)\n",
      "Requirement already satisfied: rfc3339-validator in ./venv/lib/python3.11/site-packages (from jsonschema[format-nongpl]<5.0.0,>=4.22.0->guardrails-ai) (0.1.4)\n",
      "Requirement already satisfied: rfc3986-validator>0.1.0 in ./venv/lib/python3.11/site-packages (from jsonschema[format-nongpl]<5.0.0,>=4.22.0->guardrails-ai) (0.1.1)\n",
      "Requirement already satisfied: uri-template in ./venv/lib/python3.11/site-packages (from jsonschema[format-nongpl]<5.0.0,>=4.22.0->guardrails-ai) (1.3.0)\n",
      "Requirement already satisfied: webcolors>=24.6.0 in ./venv/lib/python3.11/site-packages (from jsonschema[format-nongpl]<5.0.0,>=4.22.0->guardrails-ai) (24.11.1)\n",
      "Requirement already satisfied: langsmith<0.4,>=0.1.126 in ./venv/lib/python3.11/site-packages (from langchain-core<0.4,>=0.1->guardrails-ai) (0.3.42)\n",
      "Requirement already satisfied: jsonpatch<2.0,>=1.33 in ./venv/lib/python3.11/site-packages (from langchain-core<0.4,>=0.1->guardrails-ai) (1.33)\n",
      "Requirement already satisfied: PyYAML>=5.3 in ./venv/lib/python3.11/site-packages (from langchain-core<0.4,>=0.1->guardrails-ai) (6.0.2)\n",
      "Requirement already satisfied: packaging<25,>=23.2 in ./venv/lib/python3.11/site-packages (from langchain-core<0.4,>=0.1->guardrails-ai) (24.2)\n",
      "Requirement already satisfied: httpx<1,>=0.23.0 in ./venv/lib/python3.11/site-packages (from langsmith<0.4,>=0.1.126->langchain-core<0.4,>=0.1->guardrails-ai) (0.28.1)\n",
      "Requirement already satisfied: orjson<4.0.0,>=3.9.14 in ./venv/lib/python3.11/site-packages (from langsmith<0.4,>=0.1.126->langchain-core<0.4,>=0.1->guardrails-ai) (3.10.18)\n",
      "Requirement already satisfied: requests-toolbelt<2.0.0,>=1.0.0 in ./venv/lib/python3.11/site-packages (from langsmith<0.4,>=0.1.126->langchain-core<0.4,>=0.1->guardrails-ai) (1.0.0)\n",
      "Requirement already satisfied: zstandard<0.24.0,>=0.23.0 in ./venv/lib/python3.11/site-packages (from langsmith<0.4,>=0.1.126->langchain-core<0.4,>=0.1->guardrails-ai) (0.23.0)\n",
      "Requirement already satisfied: anyio in ./venv/lib/python3.11/site-packages (from httpx<1,>=0.23.0->langsmith<0.4,>=0.1.126->langchain-core<0.4,>=0.1->guardrails-ai) (4.9.0)\n",
      "Requirement already satisfied: certifi in ./venv/lib/python3.11/site-packages (from httpx<1,>=0.23.0->langsmith<0.4,>=0.1.126->langchain-core<0.4,>=0.1->guardrails-ai) (2025.4.26)\n",
      "Requirement already satisfied: httpcore==1.* in ./venv/lib/python3.11/site-packages (from httpx<1,>=0.23.0->langsmith<0.4,>=0.1.126->langchain-core<0.4,>=0.1->guardrails-ai) (1.0.9)\n",
      "Requirement already satisfied: h11>=0.16 in ./venv/lib/python3.11/site-packages (from httpcore==1.*->httpx<1,>=0.23.0->langsmith<0.4,>=0.1.126->langchain-core<0.4,>=0.1->guardrails-ai) (0.16.0)\n",
      "Requirement already satisfied: aiohttp in ./venv/lib/python3.11/site-packages (from litellm<2.0.0,>=1.37.14->guardrails-ai) (3.11.18)\n",
      "Requirement already satisfied: click in ./venv/lib/python3.11/site-packages (from litellm<2.0.0,>=1.37.14->guardrails-ai) (8.1.8)\n",
      "Requirement already satisfied: httpx-aiohttp>=0.1.4 in ./venv/lib/python3.11/site-packages (from litellm<2.0.0,>=1.37.14->guardrails-ai) (0.1.4)\n",
      "Requirement already satisfied: importlib-metadata>=6.8.0 in ./venv/lib/python3.11/site-packages (from litellm<2.0.0,>=1.37.14->guardrails-ai) (8.6.1)\n",
      "Requirement already satisfied: jinja2<4.0.0,>=3.1.2 in ./venv/lib/python3.11/site-packages (from litellm<2.0.0,>=1.37.14->guardrails-ai) (3.1.6)\n",
      "Requirement already satisfied: python-dotenv>=0.2.0 in ./venv/lib/python3.11/site-packages (from litellm<2.0.0,>=1.37.14->guardrails-ai) (1.1.0)\n",
      "Requirement already satisfied: tokenizers in ./venv/lib/python3.11/site-packages (from litellm<2.0.0,>=1.37.14->guardrails-ai) (0.21.1)\n",
      "Requirement already satisfied: MarkupSafe>=2.0 in ./venv/lib/python3.11/site-packages (from jinja2<4.0.0,>=3.1.2->litellm<2.0.0,>=1.37.14->guardrails-ai) (3.0.2)\n",
      "Requirement already satisfied: distro<2,>=1.7.0 in ./venv/lib/python3.11/site-packages (from openai<2.0.0,>=1.30.1->guardrails-ai) (1.9.0)\n",
      "Requirement already satisfied: jiter<1,>=0.4.0 in ./venv/lib/python3.11/site-packages (from openai<2.0.0,>=1.30.1->guardrails-ai) (0.9.0)\n",
      "Requirement already satisfied: sniffio in ./venv/lib/python3.11/site-packages (from openai<2.0.0,>=1.30.1->guardrails-ai) (1.3.1)\n",
      "Requirement already satisfied: tqdm>4 in ./venv/lib/python3.11/site-packages (from openai<2.0.0,>=1.30.1->guardrails-ai) (4.67.1)\n",
      "Requirement already satisfied: deprecated>=1.2.6 in ./venv/lib/python3.11/site-packages (from opentelemetry-exporter-otlp-proto-grpc<2.0.0,>=1.24.0->guardrails-ai) (1.2.18)\n",
      "Requirement already satisfied: googleapis-common-protos~=1.52 in ./venv/lib/python3.11/site-packages (from opentelemetry-exporter-otlp-proto-grpc<2.0.0,>=1.24.0->guardrails-ai) (1.70.0)\n",
      "Requirement already satisfied: grpcio<2.0.0,>=1.63.2 in ./venv/lib/python3.11/site-packages (from opentelemetry-exporter-otlp-proto-grpc<2.0.0,>=1.24.0->guardrails-ai) (1.67.1)\n",
      "Requirement already satisfied: opentelemetry-api~=1.15 in ./venv/lib/python3.11/site-packages (from opentelemetry-exporter-otlp-proto-grpc<2.0.0,>=1.24.0->guardrails-ai) (1.33.1)\n",
      "Requirement already satisfied: opentelemetry-exporter-otlp-proto-common==1.33.1 in ./venv/lib/python3.11/site-packages (from opentelemetry-exporter-otlp-proto-grpc<2.0.0,>=1.24.0->guardrails-ai) (1.33.1)\n",
      "Requirement already satisfied: opentelemetry-proto==1.33.1 in ./venv/lib/python3.11/site-packages (from opentelemetry-exporter-otlp-proto-grpc<2.0.0,>=1.24.0->guardrails-ai) (1.33.1)\n",
      "Requirement already satisfied: protobuf<6.0,>=5.0 in ./venv/lib/python3.11/site-packages (from opentelemetry-proto==1.33.1->opentelemetry-exporter-otlp-proto-grpc<2.0.0,>=1.24.0->guardrails-ai) (5.29.4)\n",
      "Requirement already satisfied: zipp>=3.20 in ./venv/lib/python3.11/site-packages (from importlib-metadata>=6.8.0->litellm<2.0.0,>=1.37.14->guardrails-ai) (3.22.0)\n",
      "Requirement already satisfied: opentelemetry-semantic-conventions==0.54b1 in ./venv/lib/python3.11/site-packages (from opentelemetry-sdk<2.0.0,>=1.24.0->guardrails-ai) (0.54b1)\n",
      "Requirement already satisfied: annotated-types>=0.6.0 in ./venv/lib/python3.11/site-packages (from pydantic<3.0,>=2.0.0->guardrails-ai) (0.7.0)\n",
      "Requirement already satisfied: pydantic-core==2.33.2 in ./venv/lib/python3.11/site-packages (from pydantic<3.0,>=2.0.0->guardrails-ai) (2.33.2)\n",
      "Requirement already satisfied: typing-inspection>=0.4.0 in ./venv/lib/python3.11/site-packages (from pydantic<3.0,>=2.0.0->guardrails-ai) (0.4.0)\n",
      "Requirement already satisfied: six>=1.5 in ./venv/lib/python3.11/site-packages (from python-dateutil<3.0.0,>=2.8.2->guardrails-ai) (1.17.0)\n",
      "Requirement already satisfied: charset-normalizer<4,>=2 in ./venv/lib/python3.11/site-packages (from requests<3.0.0,>=2.31.0->guardrails-ai) (3.4.2)\n",
      "Requirement already satisfied: markdown-it-py>=2.2.0 in ./venv/lib/python3.11/site-packages (from rich<14.0.0,>=13.6.0->guardrails-ai) (3.0.0)\n",
      "Requirement already satisfied: pygments<3.0.0,>=2.13.0 in ./venv/lib/python3.11/site-packages (from rich<14.0.0,>=13.6.0->guardrails-ai) (2.19.1)\n",
      "Requirement already satisfied: shellingham>=1.3.0 in ./venv/lib/python3.11/site-packages (from typer<0.16,>=0.9.0->guardrails-ai) (1.5.4)\n",
      "Requirement already satisfied: wrapt<2,>=1.10 in ./venv/lib/python3.11/site-packages (from deprecated>=1.2.6->opentelemetry-exporter-otlp-proto-grpc<2.0.0,>=1.24.0->guardrails-ai) (1.17.2)\n",
      "Requirement already satisfied: aiohappyeyeballs>=2.3.0 in ./venv/lib/python3.11/site-packages (from aiohttp->litellm<2.0.0,>=1.37.14->guardrails-ai) (2.6.1)\n",
      "Requirement already satisfied: aiosignal>=1.1.2 in ./venv/lib/python3.11/site-packages (from aiohttp->litellm<2.0.0,>=1.37.14->guardrails-ai) (1.3.2)\n",
      "Requirement already satisfied: frozenlist>=1.1.1 in ./venv/lib/python3.11/site-packages (from aiohttp->litellm<2.0.0,>=1.37.14->guardrails-ai) (1.6.0)\n",
      "Requirement already satisfied: multidict<7.0,>=4.5 in ./venv/lib/python3.11/site-packages (from aiohttp->litellm<2.0.0,>=1.37.14->guardrails-ai) (6.4.3)\n",
      "Requirement already satisfied: propcache>=0.2.0 in ./venv/lib/python3.11/site-packages (from aiohttp->litellm<2.0.0,>=1.37.14->guardrails-ai) (0.3.1)\n",
      "Requirement already satisfied: yarl<2.0,>=1.17.0 in ./venv/lib/python3.11/site-packages (from aiohttp->litellm<2.0.0,>=1.37.14->guardrails-ai) (1.20.0)\n",
      "Requirement already satisfied: mdurl~=0.1 in ./venv/lib/python3.11/site-packages (from markdown-it-py>=2.2.0->rich<14.0.0,>=13.6.0->guardrails-ai) (0.1.2)\n",
      "Requirement already satisfied: regex>=2022.1.18 in ./venv/lib/python3.11/site-packages (from tiktoken>=0.5.1->guardrails-ai) (2024.11.6)\n",
      "Requirement already satisfied: arrow>=0.15.0 in ./venv/lib/python3.11/site-packages (from isoduration->jsonschema[format-nongpl]<5.0.0,>=4.22.0->guardrails-ai) (1.3.0)\n",
      "Requirement already satisfied: types-python-dateutil>=2.8.10 in ./venv/lib/python3.11/site-packages (from arrow>=0.15.0->isoduration->jsonschema[format-nongpl]<5.0.0,>=4.22.0->guardrails-ai) (2.9.0.20250516)\n",
      "Requirement already satisfied: huggingface-hub<1.0,>=0.16.4 in ./venv/lib/python3.11/site-packages (from tokenizers->litellm<2.0.0,>=1.37.14->guardrails-ai) (0.32.1)\n",
      "Requirement already satisfied: filelock in ./venv/lib/python3.11/site-packages (from huggingface-hub<1.0,>=0.16.4->tokenizers->litellm<2.0.0,>=1.37.14->guardrails-ai) (3.18.0)\n",
      "Requirement already satisfied: fsspec>=2023.5.0 in ./venv/lib/python3.11/site-packages (from huggingface-hub<1.0,>=0.16.4->tokenizers->litellm<2.0.0,>=1.37.14->guardrails-ai) (2025.5.1)\n",
      "Requirement already satisfied: hf-xet<2.0.0,>=1.1.2 in ./venv/lib/python3.11/site-packages (from huggingface-hub<1.0,>=0.16.4->tokenizers->litellm<2.0.0,>=1.37.14->guardrails-ai) (1.1.2)\n"
     ]
    }
   ],
   "source": [
    "# Download guardrails\n",
    "# install guardrails \n",
    "! pip install guardrails-ai"
   ]
  },
  {
   "cell_type": "markdown",
   "id": "16724896",
   "metadata": {},
   "source": [
    "### CREATE GUARDRAILS APIKEY"
   ]
  },
  {
   "cell_type": "code",
   "execution_count": 2,
   "id": "a7edb1f8",
   "metadata": {},
   "outputs": [
    {
     "data": {
      "text/plain": [
       "True"
      ]
     },
     "execution_count": 2,
     "metadata": {},
     "output_type": "execute_result"
    }
   ],
   "source": [
    "# Generate an APIKEY \n",
    "# https://hub.guardrailsai.com/keys\n",
    "\n",
    "## Load Environment Table\n",
    "from dotenv import load_dotenv\n",
    "load_dotenv(override=True)  # take environment variables"
   ]
  },
  {
   "cell_type": "code",
   "execution_count": null,
   "id": "e8458100",
   "metadata": {},
   "outputs": [],
   "source": [
    "# Configure the guardrails \n",
    "# !guardrails configure\n",
    "# "
   ]
  },
  {
   "cell_type": "code",
   "execution_count": 3,
   "id": "78d4c7d5",
   "metadata": {},
   "outputs": [],
   "source": [
    "# Load large language model \n",
    "from langchain.chat_models import init_chat_model\n",
    "llm = init_chat_model(\"gpt-4.1-nano\", model_provider=\"openai\")"
   ]
  },
  {
   "cell_type": "markdown",
   "id": "a03d3da7",
   "metadata": {},
   "source": [
    "## Setup Finished\n",
    "---\n",
    "## Testing our First Validator: ReGex Match"
   ]
  },
  {
   "cell_type": "code",
   "execution_count": 4,
   "id": "cb52d010",
   "metadata": {},
   "outputs": [
    {
     "name": "stderr",
     "output_type": "stream",
     "text": [
      "[nltk_data] Error loading punkt: <urlopen error [SSL:\n",
      "[nltk_data]     CERTIFICATE_VERIFY_FAILED] certificate verify failed:\n",
      "[nltk_data]     unable to get local issuer certificate (_ssl.c:1006)>\n",
      "/Users/hizkiafebianto/Documents/GitHub/revou-gen-ai-tutorial/venv/lib/python3.11/site-packages/guardrails/hub/install.py:6: UserWarning: pkg_resources is deprecated as an API. See https://setuptools.pypa.io/en/latest/pkg_resources.html. The pkg_resources package is slated for removal as early as 2025-11-30. Refrain from using this package or pin to Setuptools<81.\n",
      "  import pkg_resources\n"
     ]
    },
    {
     "data": {
      "text/html": [
       "<pre style=\"white-space:pre;overflow-x:auto;line-height:normal;font-family:Menlo,'DejaVu Sans Mono',consolas,'Courier New',monospace\">Installing hub:<span style=\"color: #800080; text-decoration-color: #800080\">//guardrails/</span><span style=\"color: #ff00ff; text-decoration-color: #ff00ff\">regex_match...</span>\n",
       "</pre>\n"
      ],
      "text/plain": [
       "Installing hub:\u001b[35m/\u001b[0m\u001b[35m/guardrails/\u001b[0m\u001b[95mregex_match...\u001b[0m\n"
      ]
     },
     "metadata": {},
     "output_type": "display_data"
    },
    {
     "data": {
      "text/html": [
       "<pre style=\"white-space:pre;overflow-x:auto;line-height:normal;font-family:Menlo,'DejaVu Sans Mono',consolas,'Courier New',monospace\">✅Successfully installed guardrails/regex_match version <span style=\"color: #008080; text-decoration-color: #008080; font-weight: bold\">0.0</span>.<span style=\"color: #008080; text-decoration-color: #008080; font-weight: bold\">0</span>!\n",
       "\n",
       "\n",
       "</pre>\n"
      ],
      "text/plain": [
       "✅Successfully installed guardrails/regex_match version \u001b[1;36m0.0\u001b[0m.\u001b[1;36m0\u001b[0m!\n",
       "\n",
       "\n"
      ]
     },
     "metadata": {},
     "output_type": "display_data"
    },
    {
     "data": {
      "text/plain": [
       "<module 'guardrails_grhub_regex_match' from '/Users/hizkiafebianto/Documents/GitHub/revou-gen-ai-tutorial/venv/lib/python3.11/site-packages/guardrails_grhub_regex_match/__init__.py'>"
      ]
     },
     "execution_count": 4,
     "metadata": {},
     "output_type": "execute_result"
    }
   ],
   "source": [
    "## Install the validator\n",
    "from guardrails import Guard, install\n",
    "\n",
    "install(\"hub://guardrails/regex_match\")"
   ]
  },
  {
   "cell_type": "code",
   "execution_count": 5,
   "id": "db470198",
   "metadata": {},
   "outputs": [],
   "source": [
    "from guardrails.hub import RegexMatch\n",
    "from guardrails import Guard \n",
    "\n",
    "# Initialize the Guard \n",
    "guard = Guard().use(\n",
    "    RegexMatch(regex=\"^[A-Z][a-z]*$\")\n",
    ")"
   ]
  },
  {
   "cell_type": "code",
   "execution_count": 8,
   "id": "7e194767",
   "metadata": {},
   "outputs": [
    {
     "ename": "ValidationError",
     "evalue": "Validation failed for field with errors: Result must match ^[A-Z][a-z]*$",
     "output_type": "error",
     "traceback": [
      "\u001b[31m---------------------------------------------------------------------------\u001b[39m",
      "\u001b[31mValidationError\u001b[39m                           Traceback (most recent call last)",
      "\u001b[36mCell\u001b[39m\u001b[36m \u001b[39m\u001b[32mIn[8]\u001b[39m\u001b[32m, line 2\u001b[39m\n\u001b[32m      1\u001b[39m \u001b[38;5;66;03m# guard.parse(\"Dexa\")\u001b[39;00m\n\u001b[32m----> \u001b[39m\u001b[32m2\u001b[39m \u001b[43mguard\u001b[49m\u001b[43m.\u001b[49m\u001b[43mparse\u001b[49m\u001b[43m(\u001b[49m\u001b[33;43m\"\u001b[39;49m\u001b[33;43mDexaMedica\u001b[39;49m\u001b[33;43m\"\u001b[39;49m\u001b[43m)\u001b[49m \u001b[38;5;66;03m# --> Error validation. Let's catch the error. \u001b[39;00m\n",
      "\u001b[36mFile \u001b[39m\u001b[32m~/Documents/GitHub/revou-gen-ai-tutorial/venv/lib/python3.11/site-packages/guardrails/hub_telemetry/hub_tracing.py:150\u001b[39m, in \u001b[36mtrace.<locals>.decorator.<locals>.wrapper\u001b[39m\u001b[34m(*args, **kwargs)\u001b[39m\n\u001b[32m    148\u001b[39m         \u001b[38;5;28;01mreturn\u001b[39;00m resp\n\u001b[32m    149\u001b[39m \u001b[38;5;28;01melse\u001b[39;00m:\n\u001b[32m--> \u001b[39m\u001b[32m150\u001b[39m     \u001b[38;5;28;01mreturn\u001b[39;00m \u001b[43mfn\u001b[49m\u001b[43m(\u001b[49m\u001b[43m*\u001b[49m\u001b[43margs\u001b[49m\u001b[43m,\u001b[49m\u001b[43m \u001b[49m\u001b[43m*\u001b[49m\u001b[43m*\u001b[49m\u001b[43mkwargs\u001b[49m\u001b[43m)\u001b[49m\n",
      "\u001b[36mFile \u001b[39m\u001b[32m~/Documents/GitHub/revou-gen-ai-tutorial/venv/lib/python3.11/site-packages/guardrails/guard.py:973\u001b[39m, in \u001b[36mGuard.parse\u001b[39m\u001b[34m(self, llm_output, metadata, llm_api, num_reasks, prompt_params, full_schema_reask, *args, **kwargs)\u001b[39m\n\u001b[32m    970\u001b[39m default_messages = \u001b[38;5;28mself\u001b[39m._exec_opts.messages \u001b[38;5;28;01mif\u001b[39;00m llm_api \u001b[38;5;28;01melse\u001b[39;00m \u001b[38;5;28;01mNone\u001b[39;00m\n\u001b[32m    971\u001b[39m messages = kwargs.pop(\u001b[33m\"\u001b[39m\u001b[33mmessages\u001b[39m\u001b[33m\"\u001b[39m, default_messages)\n\u001b[32m--> \u001b[39m\u001b[32m973\u001b[39m \u001b[38;5;28;01mreturn\u001b[39;00m \u001b[43mtrace_guard_execution\u001b[49m\u001b[43m(\u001b[49m\n\u001b[32m    974\u001b[39m \u001b[43m    \u001b[49m\u001b[38;5;28;43mself\u001b[39;49m\u001b[43m.\u001b[49m\u001b[43mname\u001b[49m\u001b[43m,\u001b[49m\n\u001b[32m    975\u001b[39m \u001b[43m    \u001b[49m\u001b[38;5;28;43mself\u001b[39;49m\u001b[43m.\u001b[49m\u001b[43mhistory\u001b[49m\u001b[43m,\u001b[49m\n\u001b[32m    976\u001b[39m \u001b[43m    \u001b[49m\u001b[38;5;28;43mself\u001b[39;49m\u001b[43m.\u001b[49m\u001b[43m_execute\u001b[49m\u001b[43m,\u001b[49m\u001b[43m  \u001b[49m\u001b[38;5;66;43;03m# type: ignore # streams are supported for parse\u001b[39;49;00m\n\u001b[32m    977\u001b[39m \u001b[43m    \u001b[49m\u001b[38;5;28;43mself\u001b[39;49m\u001b[43m.\u001b[49m\u001b[43m_tracer\u001b[49m\u001b[43m,\u001b[49m\n\u001b[32m    978\u001b[39m \u001b[43m    \u001b[49m\u001b[43m*\u001b[49m\u001b[43margs\u001b[49m\u001b[43m,\u001b[49m\n\u001b[32m    979\u001b[39m \u001b[43m    \u001b[49m\u001b[43mllm_output\u001b[49m\u001b[43m=\u001b[49m\u001b[43mllm_output\u001b[49m\u001b[43m,\u001b[49m\n\u001b[32m    980\u001b[39m \u001b[43m    \u001b[49m\u001b[43mllm_api\u001b[49m\u001b[43m=\u001b[49m\u001b[43mllm_api\u001b[49m\u001b[43m,\u001b[49m\n\u001b[32m    981\u001b[39m \u001b[43m    \u001b[49m\u001b[43mprompt_params\u001b[49m\u001b[43m=\u001b[49m\u001b[43mprompt_params\u001b[49m\u001b[43m,\u001b[49m\n\u001b[32m    982\u001b[39m \u001b[43m    \u001b[49m\u001b[43mnum_reasks\u001b[49m\u001b[43m=\u001b[49m\u001b[43mfinal_num_reasks\u001b[49m\u001b[43m,\u001b[49m\n\u001b[32m    983\u001b[39m \u001b[43m    \u001b[49m\u001b[43mmessages\u001b[49m\u001b[43m=\u001b[49m\u001b[43mmessages\u001b[49m\u001b[43m,\u001b[49m\n\u001b[32m    984\u001b[39m \u001b[43m    \u001b[49m\u001b[43mmetadata\u001b[49m\u001b[43m=\u001b[49m\u001b[43mmetadata\u001b[49m\u001b[43m,\u001b[49m\n\u001b[32m    985\u001b[39m \u001b[43m    \u001b[49m\u001b[43mfull_schema_reask\u001b[49m\u001b[43m=\u001b[49m\u001b[43mfull_schema_reask\u001b[49m\u001b[43m,\u001b[49m\n\u001b[32m    986\u001b[39m \u001b[43m    \u001b[49m\u001b[43m*\u001b[49m\u001b[43m*\u001b[49m\u001b[43mkwargs\u001b[49m\u001b[43m,\u001b[49m\n\u001b[32m    987\u001b[39m \u001b[43m\u001b[49m\u001b[43m)\u001b[49m\n",
      "\u001b[36mFile \u001b[39m\u001b[32m~/Documents/GitHub/revou-gen-ai-tutorial/venv/lib/python3.11/site-packages/guardrails/telemetry/guard_tracing.py:206\u001b[39m, in \u001b[36mtrace_guard_execution\u001b[39m\u001b[34m(guard_name, history, _execute_fn, tracer, *args, **kwargs)\u001b[39m\n\u001b[32m    204\u001b[39m         \u001b[38;5;28;01mexcept\u001b[39;00m \u001b[38;5;167;01mException\u001b[39;00m \u001b[38;5;28;01mas\u001b[39;00m e:\n\u001b[32m    205\u001b[39m             guard_span.set_status(status=StatusCode.ERROR, description=\u001b[38;5;28mstr\u001b[39m(e))\n\u001b[32m--> \u001b[39m\u001b[32m206\u001b[39m             \u001b[38;5;28;01mraise\u001b[39;00m e\n\u001b[32m    207\u001b[39m \u001b[38;5;28;01melse\u001b[39;00m:\n\u001b[32m    208\u001b[39m     \u001b[38;5;28;01mreturn\u001b[39;00m _execute_fn(*args, **kwargs)\n",
      "\u001b[36mFile \u001b[39m\u001b[32m~/Documents/GitHub/revou-gen-ai-tutorial/venv/lib/python3.11/site-packages/guardrails/telemetry/guard_tracing.py:195\u001b[39m, in \u001b[36mtrace_guard_execution\u001b[39m\u001b[34m(guard_name, history, _execute_fn, tracer, *args, **kwargs)\u001b[39m\n\u001b[32m    191\u001b[39m     guard_span.set_attribute(\n\u001b[32m    192\u001b[39m         SpanAttributes.OPENINFERENCE_SPAN_KIND, \u001b[33m\"\u001b[39m\u001b[33mGUARDRAIL\u001b[39m\u001b[33m\"\u001b[39m\n\u001b[32m    193\u001b[39m     )\n\u001b[32m    194\u001b[39m \u001b[38;5;28;01mtry\u001b[39;00m:\n\u001b[32m--> \u001b[39m\u001b[32m195\u001b[39m     result = \u001b[43m_execute_fn\u001b[49m\u001b[43m(\u001b[49m\u001b[43m*\u001b[49m\u001b[43margs\u001b[49m\u001b[43m,\u001b[49m\u001b[43m \u001b[49m\u001b[43m*\u001b[49m\u001b[43m*\u001b[49m\u001b[43mkwargs\u001b[49m\u001b[43m)\u001b[49m\n\u001b[32m    196\u001b[39m     \u001b[38;5;28;01mif\u001b[39;00m \u001b[38;5;28misinstance\u001b[39m(result, Iterator) \u001b[38;5;129;01mand\u001b[39;00m \u001b[38;5;129;01mnot\u001b[39;00m \u001b[38;5;28misinstance\u001b[39m(\n\u001b[32m    197\u001b[39m         result, ValidationOutcome\n\u001b[32m    198\u001b[39m     ):\n\u001b[32m    199\u001b[39m         \u001b[38;5;28;01mreturn\u001b[39;00m trace_stream_guard(guard_span, result, history)\n",
      "\u001b[36mFile \u001b[39m\u001b[32m~/Documents/GitHub/revou-gen-ai-tutorial/venv/lib/python3.11/site-packages/guardrails/guard.py:799\u001b[39m, in \u001b[36mGuard._execute\u001b[39m\u001b[34m(self, llm_api, llm_output, prompt_params, num_reasks, messages, reask_messages, metadata, full_schema_reask, *args, **kwargs)\u001b[39m\n\u001b[32m    796\u001b[39m current_otel_context = otel_context.get_current()\n\u001b[32m    797\u001b[39m wrapped__exec = wrap_with_otel_context(current_otel_context, __exec)\n\u001b[32m--> \u001b[39m\u001b[32m799\u001b[39m \u001b[38;5;28;01mreturn\u001b[39;00m \u001b[43mguard_context\u001b[49m\u001b[43m.\u001b[49m\u001b[43mrun\u001b[49m\u001b[43m(\u001b[49m\n\u001b[32m    800\u001b[39m \u001b[43m    \u001b[49m\u001b[43mwrapped__exec\u001b[49m\u001b[43m,\u001b[49m\n\u001b[32m    801\u001b[39m \u001b[43m    \u001b[49m\u001b[38;5;28;43mself\u001b[39;49m\u001b[43m,\u001b[49m\n\u001b[32m    802\u001b[39m \u001b[43m    \u001b[49m\u001b[43mllm_api\u001b[49m\u001b[43m=\u001b[49m\u001b[43mllm_api\u001b[49m\u001b[43m,\u001b[49m\n\u001b[32m    803\u001b[39m \u001b[43m    \u001b[49m\u001b[43mllm_output\u001b[49m\u001b[43m=\u001b[49m\u001b[43mllm_output\u001b[49m\u001b[43m,\u001b[49m\n\u001b[32m    804\u001b[39m \u001b[43m    \u001b[49m\u001b[43mprompt_params\u001b[49m\u001b[43m=\u001b[49m\u001b[43mprompt_params\u001b[49m\u001b[43m,\u001b[49m\n\u001b[32m    805\u001b[39m \u001b[43m    \u001b[49m\u001b[43mnum_reasks\u001b[49m\u001b[43m=\u001b[49m\u001b[43mnum_reasks\u001b[49m\u001b[43m,\u001b[49m\n\u001b[32m    806\u001b[39m \u001b[43m    \u001b[49m\u001b[43mmessages\u001b[49m\u001b[43m=\u001b[49m\u001b[43mmessages\u001b[49m\u001b[43m,\u001b[49m\n\u001b[32m    807\u001b[39m \u001b[43m    \u001b[49m\u001b[43mmetadata\u001b[49m\u001b[43m=\u001b[49m\u001b[43mmetadata\u001b[49m\u001b[43m,\u001b[49m\n\u001b[32m    808\u001b[39m \u001b[43m    \u001b[49m\u001b[43mfull_schema_reask\u001b[49m\u001b[43m=\u001b[49m\u001b[43mfull_schema_reask\u001b[49m\u001b[43m,\u001b[49m\n\u001b[32m    809\u001b[39m \u001b[43m    \u001b[49m\u001b[43m*\u001b[49m\u001b[43margs\u001b[49m\u001b[43m,\u001b[49m\n\u001b[32m    810\u001b[39m \u001b[43m    \u001b[49m\u001b[43m*\u001b[49m\u001b[43m*\u001b[49m\u001b[43mkwargs\u001b[49m\u001b[43m,\u001b[49m\n\u001b[32m    811\u001b[39m \u001b[43m\u001b[49m\u001b[43m)\u001b[49m\n",
      "\u001b[36mFile \u001b[39m\u001b[32m~/Documents/GitHub/revou-gen-ai-tutorial/venv/lib/python3.11/site-packages/guardrails/telemetry/common.py:100\u001b[39m, in \u001b[36mwrap_with_otel_context.<locals>.wrapped_func\u001b[39m\u001b[34m(*args, **kwargs)\u001b[39m\n\u001b[32m     97\u001b[39m token = context.attach(outer_scope_otel_context)\n\u001b[32m     98\u001b[39m \u001b[38;5;28;01mtry\u001b[39;00m:\n\u001b[32m     99\u001b[39m     \u001b[38;5;66;03m# Execute 'func' within the attached context\u001b[39;00m\n\u001b[32m--> \u001b[39m\u001b[32m100\u001b[39m     \u001b[38;5;28;01mreturn\u001b[39;00m \u001b[43mfunc\u001b[49m\u001b[43m(\u001b[49m\u001b[43m*\u001b[49m\u001b[43margs\u001b[49m\u001b[43m,\u001b[49m\u001b[43m \u001b[49m\u001b[43m*\u001b[49m\u001b[43m*\u001b[49m\u001b[43mkwargs\u001b[49m\u001b[43m)\u001b[49m\n\u001b[32m    101\u001b[39m \u001b[38;5;28;01mfinally\u001b[39;00m:\n\u001b[32m    102\u001b[39m     \u001b[38;5;66;03m# Ensure the context is detached after execution\u001b[39;00m\n\u001b[32m    103\u001b[39m     \u001b[38;5;66;03m#   to maintain correct context management\u001b[39;00m\n\u001b[32m    104\u001b[39m     context.detach(token)\n",
      "\u001b[36mFile \u001b[39m\u001b[32m~/Documents/GitHub/revou-gen-ai-tutorial/venv/lib/python3.11/site-packages/guardrails/guard.py:778\u001b[39m, in \u001b[36mGuard._execute.<locals>.__exec\u001b[39m\u001b[34m(self, llm_api, llm_output, prompt_params, num_reasks, messages, metadata, full_schema_reask, *args, **kwargs)\u001b[39m\n\u001b[32m    776\u001b[39m \u001b[38;5;28mself\u001b[39m.history.push(call_log)\n\u001b[32m    777\u001b[39m \u001b[38;5;66;03m# Otherwise, call the LLM synchronously\u001b[39;00m\n\u001b[32m--> \u001b[39m\u001b[32m778\u001b[39m \u001b[38;5;28;01mreturn\u001b[39;00m \u001b[38;5;28;43mself\u001b[39;49m\u001b[43m.\u001b[49m\u001b[43m_exec\u001b[49m\u001b[43m(\u001b[49m\n\u001b[32m    779\u001b[39m \u001b[43m    \u001b[49m\u001b[43mllm_api\u001b[49m\u001b[43m=\u001b[49m\u001b[43mllm_api\u001b[49m\u001b[43m,\u001b[49m\n\u001b[32m    780\u001b[39m \u001b[43m    \u001b[49m\u001b[43mllm_output\u001b[49m\u001b[43m=\u001b[49m\u001b[43mllm_output\u001b[49m\u001b[43m,\u001b[49m\n\u001b[32m    781\u001b[39m \u001b[43m    \u001b[49m\u001b[43mprompt_params\u001b[49m\u001b[43m=\u001b[49m\u001b[43mprompt_params\u001b[49m\u001b[43m,\u001b[49m\n\u001b[32m    782\u001b[39m \u001b[43m    \u001b[49m\u001b[43mnum_reasks\u001b[49m\u001b[43m=\u001b[49m\u001b[38;5;28;43mself\u001b[39;49m\u001b[43m.\u001b[49m\u001b[43m_num_reasks\u001b[49m\u001b[43m,\u001b[49m\n\u001b[32m    783\u001b[39m \u001b[43m    \u001b[49m\u001b[43mmessages\u001b[49m\u001b[43m=\u001b[49m\u001b[43mmessages\u001b[49m\u001b[43m,\u001b[49m\n\u001b[32m    784\u001b[39m \u001b[43m    \u001b[49m\u001b[43mmetadata\u001b[49m\u001b[43m=\u001b[49m\u001b[43mmetadata\u001b[49m\u001b[43m,\u001b[49m\n\u001b[32m    785\u001b[39m \u001b[43m    \u001b[49m\u001b[43mfull_schema_reask\u001b[49m\u001b[43m=\u001b[49m\u001b[43mfull_schema_reask\u001b[49m\u001b[43m,\u001b[49m\n\u001b[32m    786\u001b[39m \u001b[43m    \u001b[49m\u001b[43mcall_log\u001b[49m\u001b[43m=\u001b[49m\u001b[43mcall_log\u001b[49m\u001b[43m,\u001b[49m\n\u001b[32m    787\u001b[39m \u001b[43m    \u001b[49m\u001b[43m*\u001b[49m\u001b[43margs\u001b[49m\u001b[43m,\u001b[49m\n\u001b[32m    788\u001b[39m \u001b[43m    \u001b[49m\u001b[43m*\u001b[49m\u001b[43m*\u001b[49m\u001b[43mkwargs\u001b[49m\u001b[43m,\u001b[49m\n\u001b[32m    789\u001b[39m \u001b[43m\u001b[49m\u001b[43m)\u001b[49m\n",
      "\u001b[36mFile \u001b[39m\u001b[32m~/Documents/GitHub/revou-gen-ai-tutorial/venv/lib/python3.11/site-packages/guardrails/guard.py:877\u001b[39m, in \u001b[36mGuard._exec\u001b[39m\u001b[34m(self, llm_api, llm_output, call_log, prompt_params, num_reasks, metadata, full_schema_reask, messages, *args, **kwargs)\u001b[39m\n\u001b[32m    857\u001b[39m \u001b[38;5;28;01melse\u001b[39;00m:\n\u001b[32m    858\u001b[39m     \u001b[38;5;66;03m# Otherwise, use Runner\u001b[39;00m\n\u001b[32m    859\u001b[39m     runner = Runner(\n\u001b[32m    860\u001b[39m         output_type=\u001b[38;5;28mself\u001b[39m._output_type,\n\u001b[32m    861\u001b[39m         output_schema=\u001b[38;5;28mself\u001b[39m.output_schema.to_dict(),\n\u001b[32m   (...)\u001b[39m\u001b[32m    875\u001b[39m         exec_options=\u001b[38;5;28mself\u001b[39m._exec_opts,\n\u001b[32m    876\u001b[39m     )\n\u001b[32m--> \u001b[39m\u001b[32m877\u001b[39m     call = \u001b[43mrunner\u001b[49m\u001b[43m(\u001b[49m\u001b[43mcall_log\u001b[49m\u001b[43m=\u001b[49m\u001b[43mcall_log\u001b[49m\u001b[43m,\u001b[49m\u001b[43m \u001b[49m\u001b[43mprompt_params\u001b[49m\u001b[43m=\u001b[49m\u001b[43mprompt_params\u001b[49m\u001b[43m)\u001b[49m\n\u001b[32m    878\u001b[39m     \u001b[38;5;28;01mreturn\u001b[39;00m ValidationOutcome[OT].from_guard_history(call)\n",
      "\u001b[36mFile \u001b[39m\u001b[32m~/Documents/GitHub/revou-gen-ai-tutorial/venv/lib/python3.11/site-packages/guardrails/hub_telemetry/hub_tracing.py:150\u001b[39m, in \u001b[36mtrace.<locals>.decorator.<locals>.wrapper\u001b[39m\u001b[34m(*args, **kwargs)\u001b[39m\n\u001b[32m    148\u001b[39m         \u001b[38;5;28;01mreturn\u001b[39;00m resp\n\u001b[32m    149\u001b[39m \u001b[38;5;28;01melse\u001b[39;00m:\n\u001b[32m--> \u001b[39m\u001b[32m150\u001b[39m     \u001b[38;5;28;01mreturn\u001b[39;00m \u001b[43mfn\u001b[49m\u001b[43m(\u001b[49m\u001b[43m*\u001b[49m\u001b[43margs\u001b[49m\u001b[43m,\u001b[49m\u001b[43m \u001b[49m\u001b[43m*\u001b[49m\u001b[43m*\u001b[49m\u001b[43mkwargs\u001b[49m\u001b[43m)\u001b[49m\n",
      "\u001b[36mFile \u001b[39m\u001b[32m~/Documents/GitHub/revou-gen-ai-tutorial/venv/lib/python3.11/site-packages/guardrails/run/runner.py:200\u001b[39m, in \u001b[36mRunner.__call__\u001b[39m\u001b[34m(self, call_log, prompt_params)\u001b[39m\n\u001b[32m    197\u001b[39m \u001b[38;5;28;01mexcept\u001b[39;00m \u001b[38;5;167;01mException\u001b[39;00m \u001b[38;5;28;01mas\u001b[39;00m e:\n\u001b[32m    198\u001b[39m     \u001b[38;5;66;03m# Because Pydantic v1 doesn't respect property setters\u001b[39;00m\n\u001b[32m    199\u001b[39m     call_log.exception = e\n\u001b[32m--> \u001b[39m\u001b[32m200\u001b[39m     \u001b[38;5;28;01mraise\u001b[39;00m e\n\u001b[32m    201\u001b[39m \u001b[38;5;28;01mreturn\u001b[39;00m call_log\n",
      "\u001b[36mFile \u001b[39m\u001b[32m~/Documents/GitHub/revou-gen-ai-tutorial/venv/lib/python3.11/site-packages/guardrails/run/runner.py:170\u001b[39m, in \u001b[36mRunner.__call__\u001b[39m\u001b[34m(self, call_log, prompt_params)\u001b[39m\n\u001b[32m    167\u001b[39m index = \u001b[32m0\u001b[39m\n\u001b[32m    168\u001b[39m \u001b[38;5;28;01mfor\u001b[39;00m index \u001b[38;5;129;01min\u001b[39;00m \u001b[38;5;28mrange\u001b[39m(\u001b[38;5;28mself\u001b[39m.num_reasks + \u001b[32m1\u001b[39m):\n\u001b[32m    169\u001b[39m     \u001b[38;5;66;03m# Run a single step.\u001b[39;00m\n\u001b[32m--> \u001b[39m\u001b[32m170\u001b[39m     iteration = \u001b[38;5;28;43mself\u001b[39;49m\u001b[43m.\u001b[49m\u001b[43mstep\u001b[49m\u001b[43m(\u001b[49m\n\u001b[32m    171\u001b[39m \u001b[43m        \u001b[49m\u001b[43mindex\u001b[49m\u001b[43m=\u001b[49m\u001b[43mindex\u001b[49m\u001b[43m,\u001b[49m\n\u001b[32m    172\u001b[39m \u001b[43m        \u001b[49m\u001b[43mapi\u001b[49m\u001b[43m=\u001b[49m\u001b[38;5;28;43mself\u001b[39;49m\u001b[43m.\u001b[49m\u001b[43mapi\u001b[49m\u001b[43m,\u001b[49m\n\u001b[32m    173\u001b[39m \u001b[43m        \u001b[49m\u001b[43mmessages\u001b[49m\u001b[43m=\u001b[49m\u001b[43mmessages\u001b[49m\u001b[43m,\u001b[49m\n\u001b[32m    174\u001b[39m \u001b[43m        \u001b[49m\u001b[43mprompt_params\u001b[49m\u001b[43m=\u001b[49m\u001b[43mprompt_params\u001b[49m\u001b[43m,\u001b[49m\n\u001b[32m    175\u001b[39m \u001b[43m        \u001b[49m\u001b[43moutput_schema\u001b[49m\u001b[43m=\u001b[49m\u001b[43moutput_schema\u001b[49m\u001b[43m,\u001b[49m\n\u001b[32m    176\u001b[39m \u001b[43m        \u001b[49m\u001b[43moutput\u001b[49m\u001b[43m=\u001b[49m\u001b[38;5;28;43mself\u001b[39;49m\u001b[43m.\u001b[49m\u001b[43moutput\u001b[49m\u001b[43m \u001b[49m\u001b[38;5;28;43;01mif\u001b[39;49;00m\u001b[43m \u001b[49m\u001b[43mindex\u001b[49m\u001b[43m \u001b[49m\u001b[43m==\u001b[49m\u001b[43m \u001b[49m\u001b[32;43m0\u001b[39;49m\u001b[43m \u001b[49m\u001b[38;5;28;43;01melse\u001b[39;49;00m\u001b[43m \u001b[49m\u001b[38;5;28;43;01mNone\u001b[39;49;00m\u001b[43m,\u001b[49m\n\u001b[32m    177\u001b[39m \u001b[43m        \u001b[49m\u001b[43mcall_log\u001b[49m\u001b[43m=\u001b[49m\u001b[43mcall_log\u001b[49m\u001b[43m,\u001b[49m\n\u001b[32m    178\u001b[39m \u001b[43m    \u001b[49m\u001b[43m)\u001b[49m\n\u001b[32m    180\u001b[39m     \u001b[38;5;66;03m# Loop again?\u001b[39;00m\n\u001b[32m    181\u001b[39m     \u001b[38;5;28;01mif\u001b[39;00m \u001b[38;5;129;01mnot\u001b[39;00m \u001b[38;5;28mself\u001b[39m.do_loop(index, iteration.reasks):\n",
      "\u001b[36mFile \u001b[39m\u001b[32m~/Documents/GitHub/revou-gen-ai-tutorial/venv/lib/python3.11/site-packages/guardrails/hub_telemetry/hub_tracing.py:150\u001b[39m, in \u001b[36mtrace.<locals>.decorator.<locals>.wrapper\u001b[39m\u001b[34m(*args, **kwargs)\u001b[39m\n\u001b[32m    148\u001b[39m         \u001b[38;5;28;01mreturn\u001b[39;00m resp\n\u001b[32m    149\u001b[39m \u001b[38;5;28;01melse\u001b[39;00m:\n\u001b[32m--> \u001b[39m\u001b[32m150\u001b[39m     \u001b[38;5;28;01mreturn\u001b[39;00m \u001b[43mfn\u001b[49m\u001b[43m(\u001b[49m\u001b[43m*\u001b[49m\u001b[43margs\u001b[49m\u001b[43m,\u001b[49m\u001b[43m \u001b[49m\u001b[43m*\u001b[49m\u001b[43m*\u001b[49m\u001b[43mkwargs\u001b[49m\u001b[43m)\u001b[49m\n",
      "\u001b[36mFile \u001b[39m\u001b[32m~/Documents/GitHub/revou-gen-ai-tutorial/venv/lib/python3.11/site-packages/guardrails/telemetry/runner_tracing.py:104\u001b[39m, in \u001b[36mtrace_step.<locals>.trace_step_wrapper\u001b[39m\u001b[34m(*args, **kwargs)\u001b[39m\n\u001b[32m    102\u001b[39m             add_step_attributes(step_span, \u001b[38;5;28;01mNone\u001b[39;00m, *args, **kwargs)\n\u001b[32m    103\u001b[39m             add_user_attributes(step_span)\n\u001b[32m--> \u001b[39m\u001b[32m104\u001b[39m             \u001b[38;5;28;01mraise\u001b[39;00m e\n\u001b[32m    105\u001b[39m \u001b[38;5;28;01melse\u001b[39;00m:\n\u001b[32m    106\u001b[39m     \u001b[38;5;28;01mreturn\u001b[39;00m fn(*args, **kwargs)\n",
      "\u001b[36mFile \u001b[39m\u001b[32m~/Documents/GitHub/revou-gen-ai-tutorial/venv/lib/python3.11/site-packages/guardrails/telemetry/runner_tracing.py:96\u001b[39m, in \u001b[36mtrace_step.<locals>.trace_step_wrapper\u001b[39m\u001b[34m(*args, **kwargs)\u001b[39m\n\u001b[32m     92\u001b[39m     step_span.set_attribute(\n\u001b[32m     93\u001b[39m         SpanAttributes.OPENINFERENCE_SPAN_KIND, \u001b[33m\"\u001b[39m\u001b[33mGUARDRAIL\u001b[39m\u001b[33m\"\u001b[39m\n\u001b[32m     94\u001b[39m     )\n\u001b[32m     95\u001b[39m \u001b[38;5;28;01mtry\u001b[39;00m:\n\u001b[32m---> \u001b[39m\u001b[32m96\u001b[39m     response = \u001b[43mfn\u001b[49m\u001b[43m(\u001b[49m\u001b[43m*\u001b[49m\u001b[43margs\u001b[49m\u001b[43m,\u001b[49m\u001b[43m \u001b[49m\u001b[43m*\u001b[49m\u001b[43m*\u001b[49m\u001b[43mkwargs\u001b[49m\u001b[43m)\u001b[49m\n\u001b[32m     97\u001b[39m     add_step_attributes(step_span, response, *args, **kwargs)\n\u001b[32m     98\u001b[39m     add_user_attributes(step_span)\n",
      "\u001b[36mFile \u001b[39m\u001b[32m~/Documents/GitHub/revou-gen-ai-tutorial/venv/lib/python3.11/site-packages/guardrails/run/runner.py:284\u001b[39m, in \u001b[36mRunner.step\u001b[39m\u001b[34m(self, index, output_schema, call_log, api, messages, prompt_params, output)\u001b[39m\n\u001b[32m    282\u001b[39m     iteration.outputs.error = error_message\n\u001b[32m    283\u001b[39m     iteration.outputs.exception = e\n\u001b[32m--> \u001b[39m\u001b[32m284\u001b[39m     \u001b[38;5;28;01mraise\u001b[39;00m e\n\u001b[32m    285\u001b[39m \u001b[38;5;28;01mreturn\u001b[39;00m iteration\n",
      "\u001b[36mFile \u001b[39m\u001b[32m~/Documents/GitHub/revou-gen-ai-tutorial/venv/lib/python3.11/site-packages/guardrails/run/runner.py:269\u001b[39m, in \u001b[36mRunner.step\u001b[39m\u001b[34m(self, index, output_schema, call_log, api, messages, prompt_params, output)\u001b[39m\n\u001b[32m    266\u001b[39m     reasks, _ = \u001b[38;5;28mself\u001b[39m.introspect(parsed_output)\n\u001b[32m    267\u001b[39m \u001b[38;5;28;01melse\u001b[39;00m:\n\u001b[32m    268\u001b[39m     \u001b[38;5;66;03m# Validate: run output validation.\u001b[39;00m\n\u001b[32m--> \u001b[39m\u001b[32m269\u001b[39m     validated_output = \u001b[38;5;28;43mself\u001b[39;49m\u001b[43m.\u001b[49m\u001b[43mvalidate\u001b[49m\u001b[43m(\u001b[49m\n\u001b[32m    270\u001b[39m \u001b[43m        \u001b[49m\u001b[43miteration\u001b[49m\u001b[43m,\u001b[49m\u001b[43m \u001b[49m\u001b[43mindex\u001b[49m\u001b[43m,\u001b[49m\u001b[43m \u001b[49m\u001b[43mparsed_output\u001b[49m\u001b[43m,\u001b[49m\u001b[43m \u001b[49m\u001b[43moutput_schema\u001b[49m\n\u001b[32m    271\u001b[39m \u001b[43m    \u001b[49m\u001b[43m)\u001b[49m\n\u001b[32m    272\u001b[39m     iteration.outputs.validation_response = validated_output\n\u001b[32m    274\u001b[39m     \u001b[38;5;66;03m# Introspect: inspect validated output for reasks.\u001b[39;00m\n",
      "\u001b[36mFile \u001b[39m\u001b[32m~/Documents/GitHub/revou-gen-ai-tutorial/venv/lib/python3.11/site-packages/guardrails/hub_telemetry/hub_tracing.py:150\u001b[39m, in \u001b[36mtrace.<locals>.decorator.<locals>.wrapper\u001b[39m\u001b[34m(*args, **kwargs)\u001b[39m\n\u001b[32m    148\u001b[39m         \u001b[38;5;28;01mreturn\u001b[39;00m resp\n\u001b[32m    149\u001b[39m \u001b[38;5;28;01melse\u001b[39;00m:\n\u001b[32m--> \u001b[39m\u001b[32m150\u001b[39m     \u001b[38;5;28;01mreturn\u001b[39;00m \u001b[43mfn\u001b[49m\u001b[43m(\u001b[49m\u001b[43m*\u001b[49m\u001b[43margs\u001b[49m\u001b[43m,\u001b[49m\u001b[43m \u001b[49m\u001b[43m*\u001b[49m\u001b[43m*\u001b[49m\u001b[43mkwargs\u001b[49m\u001b[43m)\u001b[49m\n",
      "\u001b[36mFile \u001b[39m\u001b[32m~/Documents/GitHub/revou-gen-ai-tutorial/venv/lib/python3.11/site-packages/guardrails/run/runner.py:465\u001b[39m, in \u001b[36mRunner.validate\u001b[39m\u001b[34m(self, iteration, attempt_number, parsed_output, output_schema, stream, **kwargs)\u001b[39m\n\u001b[32m    462\u001b[39m \u001b[38;5;28;01mif\u001b[39;00m \u001b[38;5;28mself\u001b[39m.output_type != OutputTypes.STRING:\n\u001b[32m    463\u001b[39m     stream = \u001b[38;5;28;01mNone\u001b[39;00m\n\u001b[32m--> \u001b[39m\u001b[32m465\u001b[39m validated_output, metadata = \u001b[43mvalidator_service\u001b[49m\u001b[43m.\u001b[49m\u001b[43mvalidate\u001b[49m\u001b[43m(\u001b[49m\n\u001b[32m    466\u001b[39m \u001b[43m    \u001b[49m\u001b[43mvalue\u001b[49m\u001b[43m=\u001b[49m\u001b[43mparsed_output\u001b[49m\u001b[43m,\u001b[49m\n\u001b[32m    467\u001b[39m \u001b[43m    \u001b[49m\u001b[43mmetadata\u001b[49m\u001b[43m=\u001b[49m\u001b[38;5;28;43mself\u001b[39;49m\u001b[43m.\u001b[49m\u001b[43mmetadata\u001b[49m\u001b[43m,\u001b[49m\n\u001b[32m    468\u001b[39m \u001b[43m    \u001b[49m\u001b[43mvalidator_map\u001b[49m\u001b[43m=\u001b[49m\u001b[38;5;28;43mself\u001b[39;49m\u001b[43m.\u001b[49m\u001b[43mvalidation_map\u001b[49m\u001b[43m,\u001b[49m\n\u001b[32m    469\u001b[39m \u001b[43m    \u001b[49m\u001b[43miteration\u001b[49m\u001b[43m=\u001b[49m\u001b[43miteration\u001b[49m\u001b[43m,\u001b[49m\n\u001b[32m    470\u001b[39m \u001b[43m    \u001b[49m\u001b[43mdisable_tracer\u001b[49m\u001b[43m=\u001b[49m\u001b[38;5;28;43mself\u001b[39;49m\u001b[43m.\u001b[49m\u001b[43m_disable_tracer\u001b[49m\u001b[43m,\u001b[49m\n\u001b[32m    471\u001b[39m \u001b[43m    \u001b[49m\u001b[43mpath\u001b[49m\u001b[43m=\u001b[49m\u001b[33;43m\"\u001b[39;49m\u001b[33;43m$\u001b[39;49m\u001b[33;43m\"\u001b[39;49m\u001b[43m,\u001b[49m\n\u001b[32m    472\u001b[39m \u001b[43m    \u001b[49m\u001b[43mstream\u001b[49m\u001b[43m=\u001b[49m\u001b[43mstream\u001b[49m\u001b[43m,\u001b[49m\n\u001b[32m    473\u001b[39m \u001b[43m    \u001b[49m\u001b[43m*\u001b[49m\u001b[43m*\u001b[49m\u001b[43mkwargs\u001b[49m\u001b[43m,\u001b[49m\n\u001b[32m    474\u001b[39m \u001b[43m\u001b[49m\u001b[43m)\u001b[49m\n\u001b[32m    475\u001b[39m \u001b[38;5;28mself\u001b[39m.metadata.update(metadata)\n\u001b[32m    476\u001b[39m validated_output = validator_service.post_process_validation(\n\u001b[32m    477\u001b[39m     validated_output, attempt_number, iteration, \u001b[38;5;28mself\u001b[39m.output_type\n\u001b[32m    478\u001b[39m )\n",
      "\u001b[36mFile \u001b[39m\u001b[32m~/Documents/GitHub/revou-gen-ai-tutorial/venv/lib/python3.11/site-packages/guardrails/validator_service/__init__.py:91\u001b[39m, in \u001b[36mvalidate\u001b[39m\u001b[34m(value, metadata, validator_map, iteration, disable_tracer, path, **kwargs)\u001b[39m\n\u001b[32m     85\u001b[39m         warnings.warn(\n\u001b[32m     86\u001b[39m             \u001b[33m\"\u001b[39m\u001b[33mCould not obtain an event loop.\u001b[39m\u001b[33m\"\u001b[39m\n\u001b[32m     87\u001b[39m             \u001b[33m\"\u001b[39m\u001b[33m Falling back to synchronous validation.\u001b[39m\u001b[33m\"\u001b[39m\n\u001b[32m     88\u001b[39m         )\n\u001b[32m     89\u001b[39m         validator_service = SequentialValidatorService(disable_tracer)\n\u001b[32m---> \u001b[39m\u001b[32m91\u001b[39m \u001b[38;5;28;01mreturn\u001b[39;00m \u001b[43mvalidator_service\u001b[49m\u001b[43m.\u001b[49m\u001b[43mvalidate\u001b[49m\u001b[43m(\u001b[49m\n\u001b[32m     92\u001b[39m \u001b[43m    \u001b[49m\u001b[43mvalue\u001b[49m\u001b[43m,\u001b[49m\n\u001b[32m     93\u001b[39m \u001b[43m    \u001b[49m\u001b[43mmetadata\u001b[49m\u001b[43m,\u001b[49m\n\u001b[32m     94\u001b[39m \u001b[43m    \u001b[49m\u001b[43mvalidator_map\u001b[49m\u001b[43m,\u001b[49m\n\u001b[32m     95\u001b[39m \u001b[43m    \u001b[49m\u001b[43miteration\u001b[49m\u001b[43m,\u001b[49m\n\u001b[32m     96\u001b[39m \u001b[43m    \u001b[49m\u001b[43mpath\u001b[49m\u001b[43m,\u001b[49m\n\u001b[32m     97\u001b[39m \u001b[43m    \u001b[49m\u001b[43mpath\u001b[49m\u001b[43m,\u001b[49m\n\u001b[32m     98\u001b[39m \u001b[43m    \u001b[49m\u001b[43mloop\u001b[49m\u001b[43m=\u001b[49m\u001b[43mloop\u001b[49m\u001b[43m,\u001b[49m\u001b[43m  \u001b[49m\u001b[38;5;66;43;03m# type: ignore It exists when we need it to.\u001b[39;49;00m\n\u001b[32m     99\u001b[39m \u001b[43m    \u001b[49m\u001b[43m*\u001b[49m\u001b[43m*\u001b[49m\u001b[43mkwargs\u001b[49m\u001b[43m,\u001b[49m\n\u001b[32m    100\u001b[39m \u001b[43m\u001b[49m\u001b[43m)\u001b[49m\n",
      "\u001b[36mFile \u001b[39m\u001b[32m~/Documents/GitHub/revou-gen-ai-tutorial/venv/lib/python3.11/site-packages/guardrails/validator_service/sequential_validator_service.py:460\u001b[39m, in \u001b[36mSequentialValidatorService.validate\u001b[39m\u001b[34m(self, value, metadata, validator_map, iteration, absolute_path, reference_path, stream, **kwargs)\u001b[39m\n\u001b[32m    457\u001b[39m         value[key] = child_value\n\u001b[32m    459\u001b[39m \u001b[38;5;66;03m# Then validate the parent value\u001b[39;00m\n\u001b[32m--> \u001b[39m\u001b[32m460\u001b[39m value, metadata = \u001b[38;5;28;43mself\u001b[39;49m\u001b[43m.\u001b[49m\u001b[43mrun_validators\u001b[49m\u001b[43m(\u001b[49m\n\u001b[32m    461\u001b[39m \u001b[43m    \u001b[49m\u001b[43miteration\u001b[49m\u001b[43m,\u001b[49m\n\u001b[32m    462\u001b[39m \u001b[43m    \u001b[49m\u001b[43mvalidator_map\u001b[49m\u001b[43m,\u001b[49m\n\u001b[32m    463\u001b[39m \u001b[43m    \u001b[49m\u001b[43mvalue\u001b[49m\u001b[43m,\u001b[49m\n\u001b[32m    464\u001b[39m \u001b[43m    \u001b[49m\u001b[43mmetadata\u001b[49m\u001b[43m,\u001b[49m\n\u001b[32m    465\u001b[39m \u001b[43m    \u001b[49m\u001b[43mabsolute_path\u001b[49m\u001b[43m,\u001b[49m\n\u001b[32m    466\u001b[39m \u001b[43m    \u001b[49m\u001b[43mreference_path\u001b[49m\u001b[43m,\u001b[49m\n\u001b[32m    467\u001b[39m \u001b[43m    \u001b[49m\u001b[43mstream\u001b[49m\u001b[43m=\u001b[49m\u001b[43mstream\u001b[49m\u001b[43m,\u001b[49m\n\u001b[32m    468\u001b[39m \u001b[43m    \u001b[49m\u001b[43m*\u001b[49m\u001b[43m*\u001b[49m\u001b[43mkwargs\u001b[49m\u001b[43m,\u001b[49m\n\u001b[32m    469\u001b[39m \u001b[43m\u001b[49m\u001b[43m)\u001b[49m\n\u001b[32m    470\u001b[39m \u001b[38;5;28;01mreturn\u001b[39;00m value, metadata\n",
      "\u001b[36mFile \u001b[39m\u001b[32m~/Documents/GitHub/revou-gen-ai-tutorial/venv/lib/python3.11/site-packages/guardrails/validator_service/sequential_validator_service.py:380\u001b[39m, in \u001b[36mSequentialValidatorService.run_validators\u001b[39m\u001b[34m(self, iteration, validator_map, value, metadata, absolute_property_path, reference_property_path, stream, **kwargs)\u001b[39m\n\u001b[32m    370\u001b[39m         fixed_value = result.fix_value\n\u001b[32m    371\u001b[39m         rechecked_value = \u001b[38;5;28mself\u001b[39m.run_validator_sync(\n\u001b[32m    372\u001b[39m             validator,\n\u001b[32m    373\u001b[39m             fixed_value,\n\u001b[32m   (...)\u001b[39m\u001b[32m    378\u001b[39m             **kwargs,\n\u001b[32m    379\u001b[39m         )\n\u001b[32m--> \u001b[39m\u001b[32m380\u001b[39m     value = \u001b[38;5;28;43mself\u001b[39;49m\u001b[43m.\u001b[49m\u001b[43mperform_correction\u001b[49m\u001b[43m(\u001b[49m\n\u001b[32m    381\u001b[39m \u001b[43m        \u001b[49m\u001b[43mresult\u001b[49m\u001b[43m,\u001b[49m\n\u001b[32m    382\u001b[39m \u001b[43m        \u001b[49m\u001b[43mvalue\u001b[49m\u001b[43m,\u001b[49m\n\u001b[32m    383\u001b[39m \u001b[43m        \u001b[49m\u001b[43mvalidator\u001b[49m\u001b[43m,\u001b[49m\n\u001b[32m    384\u001b[39m \u001b[43m        \u001b[49m\u001b[43mrechecked_value\u001b[49m\u001b[43m=\u001b[49m\u001b[43mrechecked_value\u001b[49m\u001b[43m,\u001b[49m\n\u001b[32m    385\u001b[39m \u001b[43m    \u001b[49m\u001b[43m)\u001b[49m\n\u001b[32m    386\u001b[39m \u001b[38;5;28;01melif\u001b[39;00m \u001b[38;5;28misinstance\u001b[39m(result, PassResult):\n\u001b[32m    387\u001b[39m     \u001b[38;5;28;01mif\u001b[39;00m (\n\u001b[32m    388\u001b[39m         validator.override_value_on_pass\n\u001b[32m    389\u001b[39m         \u001b[38;5;129;01mand\u001b[39;00m result.value_override \u001b[38;5;129;01mis\u001b[39;00m \u001b[38;5;129;01mnot\u001b[39;00m result.ValueOverrideSentinel\n\u001b[32m    390\u001b[39m     ):\n",
      "\u001b[36mFile \u001b[39m\u001b[32m~/Documents/GitHub/revou-gen-ai-tutorial/venv/lib/python3.11/site-packages/guardrails/validator_service/validator_service_base.py:106\u001b[39m, in \u001b[36mValidatorServiceBase.perform_correction\u001b[39m\u001b[34m(self, result, value, validator, rechecked_value)\u001b[39m\n\u001b[32m    101\u001b[39m     \u001b[38;5;28;01mreturn\u001b[39;00m FieldReAsk(\n\u001b[32m    102\u001b[39m         incorrect_value=value,\n\u001b[32m    103\u001b[39m         fail_results=[result],\n\u001b[32m    104\u001b[39m     )\n\u001b[32m    105\u001b[39m \u001b[38;5;28;01mif\u001b[39;00m on_fail_descriptor == OnFailAction.EXCEPTION:\n\u001b[32m--> \u001b[39m\u001b[32m106\u001b[39m     \u001b[38;5;28;01mraise\u001b[39;00m ValidationError(\n\u001b[32m    107\u001b[39m         \u001b[33m\"\u001b[39m\u001b[33mValidation failed for field with errors: \u001b[39m\u001b[33m\"\u001b[39m\n\u001b[32m    108\u001b[39m         + \u001b[33m\"\u001b[39m\u001b[33m, \u001b[39m\u001b[33m\"\u001b[39m.join([result.error_message])\n\u001b[32m    109\u001b[39m     )\n\u001b[32m    110\u001b[39m \u001b[38;5;28;01mif\u001b[39;00m on_fail_descriptor == OnFailAction.FILTER:\n\u001b[32m    111\u001b[39m     \u001b[38;5;28;01mreturn\u001b[39;00m Filter()\n",
      "\u001b[31mValidationError\u001b[39m: Validation failed for field with errors: Result must match ^[A-Z][a-z]*$"
     ]
    }
   ],
   "source": [
    "# guard.parse(\"Dexa\")\n",
    "guard.parse(\"Dexa Medica\") # --> Error validation. Let's catch the error. "
   ]
  },
  {
   "cell_type": "code",
   "execution_count": 9,
   "id": "430e7bb9",
   "metadata": {},
   "outputs": [
    {
     "name": "stdout",
     "output_type": "stream",
     "text": [
      "Validation failed for field with errors: Result must match ^[A-Z][a-z]*$\n"
     ]
    }
   ],
   "source": [
    "# Catching the Validation Error\n",
    "from guardrails.errors import ValidationError\n",
    "\n",
    "try:\n",
    "    # Failed validation\n",
    "    guard.parse(\"Dexa Medica\")\n",
    "except (ValidationError) as e:\n",
    "    print(e)\n",
    "    # Add error handling function"
   ]
  },
  {
   "cell_type": "markdown",
   "id": "bb8478ad",
   "metadata": {},
   "source": [
    "---\n",
    "## Combining multiple Validators"
   ]
  },
  {
   "cell_type": "code",
   "execution_count": 10,
   "id": "28176f9f",
   "metadata": {},
   "outputs": [
    {
     "data": {
      "text/html": [
       "<pre style=\"white-space:pre;overflow-x:auto;line-height:normal;font-family:Menlo,'DejaVu Sans Mono',consolas,'Courier New',monospace\">Installing hub:<span style=\"color: #800080; text-decoration-color: #800080\">//guardrails/</span><span style=\"color: #ff00ff; text-decoration-color: #ff00ff\">valid_length...</span>\n",
       "</pre>\n"
      ],
      "text/plain": [
       "Installing hub:\u001b[35m/\u001b[0m\u001b[35m/guardrails/\u001b[0m\u001b[95mvalid_length...\u001b[0m\n"
      ]
     },
     "metadata": {},
     "output_type": "display_data"
    },
    {
     "data": {
      "text/html": [
       "<pre style=\"white-space:pre;overflow-x:auto;line-height:normal;font-family:Menlo,'DejaVu Sans Mono',consolas,'Courier New',monospace\">✅Successfully installed guardrails/valid_length version <span style=\"color: #008080; text-decoration-color: #008080; font-weight: bold\">0.0</span>.<span style=\"color: #008080; text-decoration-color: #008080; font-weight: bold\">0</span>!\n",
       "\n",
       "\n",
       "</pre>\n"
      ],
      "text/plain": [
       "✅Successfully installed guardrails/valid_length version \u001b[1;36m0.0\u001b[0m.\u001b[1;36m0\u001b[0m!\n",
       "\n",
       "\n"
      ]
     },
     "metadata": {},
     "output_type": "display_data"
    },
    {
     "data": {
      "text/plain": [
       "<module 'guardrails_grhub_valid_length' from '/Users/hizkiafebianto/Documents/GitHub/revou-gen-ai-tutorial/venv/lib/python3.11/site-packages/guardrails_grhub_valid_length/__init__.py'>"
      ]
     },
     "execution_count": 10,
     "metadata": {},
     "output_type": "execute_result"
    }
   ],
   "source": [
    "# Installing the validator\n",
    "install(\"hub://guardrails/valid_length\")"
   ]
  },
  {
   "cell_type": "code",
   "execution_count": 11,
   "id": "364525c0",
   "metadata": {},
   "outputs": [],
   "source": [
    "from guardrails.hub import ValidLength, RegexMatch\n",
    "from guardrails import Guard\n",
    "\n",
    "guard = Guard().use_many(\n",
    "    RegexMatch(regex=\"^[A-Z][a-z]*$\"),\n",
    "    ValidLength(min=1, max=12),\n",
    "    # SecretsPresent(on_fail=\"fix\")\n",
    ")"
   ]
  },
  {
   "cell_type": "code",
   "execution_count": 14,
   "id": "fbb3a917",
   "metadata": {},
   "outputs": [
    {
     "ename": "ValidationError",
     "evalue": "Validation failed for field with errors: Value has length greater than 12. Please return a shorter output, that is shorter than 12 characters.",
     "output_type": "error",
     "traceback": [
      "\u001b[31m---------------------------------------------------------------------------\u001b[39m",
      "\u001b[31mValidationError\u001b[39m                           Traceback (most recent call last)",
      "\u001b[36mCell\u001b[39m\u001b[36m \u001b[39m\u001b[32mIn[14]\u001b[39m\u001b[32m, line 7\u001b[39m\n\u001b[32m      1\u001b[39m \u001b[38;5;66;03m# print(guard.parse(\"Caesar\").validation_passed)  # Guardrail Passes\u001b[39;00m\n\u001b[32m      2\u001b[39m \u001b[38;5;66;03m#print(\u001b[39;00m\n\u001b[32m      3\u001b[39m \u001b[38;5;66;03m#    guard.parse(\"Caesar Salad\")\u001b[39;00m\n\u001b[32m      4\u001b[39m \u001b[38;5;66;03m#    .validation_passed\u001b[39;00m\n\u001b[32m      5\u001b[39m \u001b[38;5;66;03m#)  # Guardrail Fails due to regex match\u001b[39;00m\n\u001b[32m      6\u001b[39m \u001b[38;5;28mprint\u001b[39m(\n\u001b[32m----> \u001b[39m\u001b[32m7\u001b[39m     \u001b[43mguard\u001b[49m\u001b[43m.\u001b[49m\u001b[43mparse\u001b[49m\u001b[43m(\u001b[49m\u001b[33;43m\"\u001b[39;49m\u001b[33;43mCaesarisagreatleader\u001b[39;49m\u001b[33;43m\"\u001b[39;49m\u001b[43m)\u001b[49m\n\u001b[32m      8\u001b[39m     .validation_passed\n\u001b[32m      9\u001b[39m )  \u001b[38;5;66;03m# Guardrail Fails due to length\u001b[39;00m\n",
      "\u001b[36mFile \u001b[39m\u001b[32m~/Documents/GitHub/revou-gen-ai-tutorial/venv/lib/python3.11/site-packages/guardrails/hub_telemetry/hub_tracing.py:150\u001b[39m, in \u001b[36mtrace.<locals>.decorator.<locals>.wrapper\u001b[39m\u001b[34m(*args, **kwargs)\u001b[39m\n\u001b[32m    148\u001b[39m         \u001b[38;5;28;01mreturn\u001b[39;00m resp\n\u001b[32m    149\u001b[39m \u001b[38;5;28;01melse\u001b[39;00m:\n\u001b[32m--> \u001b[39m\u001b[32m150\u001b[39m     \u001b[38;5;28;01mreturn\u001b[39;00m \u001b[43mfn\u001b[49m\u001b[43m(\u001b[49m\u001b[43m*\u001b[49m\u001b[43margs\u001b[49m\u001b[43m,\u001b[49m\u001b[43m \u001b[49m\u001b[43m*\u001b[49m\u001b[43m*\u001b[49m\u001b[43mkwargs\u001b[49m\u001b[43m)\u001b[49m\n",
      "\u001b[36mFile \u001b[39m\u001b[32m~/Documents/GitHub/revou-gen-ai-tutorial/venv/lib/python3.11/site-packages/guardrails/guard.py:973\u001b[39m, in \u001b[36mGuard.parse\u001b[39m\u001b[34m(self, llm_output, metadata, llm_api, num_reasks, prompt_params, full_schema_reask, *args, **kwargs)\u001b[39m\n\u001b[32m    970\u001b[39m default_messages = \u001b[38;5;28mself\u001b[39m._exec_opts.messages \u001b[38;5;28;01mif\u001b[39;00m llm_api \u001b[38;5;28;01melse\u001b[39;00m \u001b[38;5;28;01mNone\u001b[39;00m\n\u001b[32m    971\u001b[39m messages = kwargs.pop(\u001b[33m\"\u001b[39m\u001b[33mmessages\u001b[39m\u001b[33m\"\u001b[39m, default_messages)\n\u001b[32m--> \u001b[39m\u001b[32m973\u001b[39m \u001b[38;5;28;01mreturn\u001b[39;00m \u001b[43mtrace_guard_execution\u001b[49m\u001b[43m(\u001b[49m\n\u001b[32m    974\u001b[39m \u001b[43m    \u001b[49m\u001b[38;5;28;43mself\u001b[39;49m\u001b[43m.\u001b[49m\u001b[43mname\u001b[49m\u001b[43m,\u001b[49m\n\u001b[32m    975\u001b[39m \u001b[43m    \u001b[49m\u001b[38;5;28;43mself\u001b[39;49m\u001b[43m.\u001b[49m\u001b[43mhistory\u001b[49m\u001b[43m,\u001b[49m\n\u001b[32m    976\u001b[39m \u001b[43m    \u001b[49m\u001b[38;5;28;43mself\u001b[39;49m\u001b[43m.\u001b[49m\u001b[43m_execute\u001b[49m\u001b[43m,\u001b[49m\u001b[43m  \u001b[49m\u001b[38;5;66;43;03m# type: ignore # streams are supported for parse\u001b[39;49;00m\n\u001b[32m    977\u001b[39m \u001b[43m    \u001b[49m\u001b[38;5;28;43mself\u001b[39;49m\u001b[43m.\u001b[49m\u001b[43m_tracer\u001b[49m\u001b[43m,\u001b[49m\n\u001b[32m    978\u001b[39m \u001b[43m    \u001b[49m\u001b[43m*\u001b[49m\u001b[43margs\u001b[49m\u001b[43m,\u001b[49m\n\u001b[32m    979\u001b[39m \u001b[43m    \u001b[49m\u001b[43mllm_output\u001b[49m\u001b[43m=\u001b[49m\u001b[43mllm_output\u001b[49m\u001b[43m,\u001b[49m\n\u001b[32m    980\u001b[39m \u001b[43m    \u001b[49m\u001b[43mllm_api\u001b[49m\u001b[43m=\u001b[49m\u001b[43mllm_api\u001b[49m\u001b[43m,\u001b[49m\n\u001b[32m    981\u001b[39m \u001b[43m    \u001b[49m\u001b[43mprompt_params\u001b[49m\u001b[43m=\u001b[49m\u001b[43mprompt_params\u001b[49m\u001b[43m,\u001b[49m\n\u001b[32m    982\u001b[39m \u001b[43m    \u001b[49m\u001b[43mnum_reasks\u001b[49m\u001b[43m=\u001b[49m\u001b[43mfinal_num_reasks\u001b[49m\u001b[43m,\u001b[49m\n\u001b[32m    983\u001b[39m \u001b[43m    \u001b[49m\u001b[43mmessages\u001b[49m\u001b[43m=\u001b[49m\u001b[43mmessages\u001b[49m\u001b[43m,\u001b[49m\n\u001b[32m    984\u001b[39m \u001b[43m    \u001b[49m\u001b[43mmetadata\u001b[49m\u001b[43m=\u001b[49m\u001b[43mmetadata\u001b[49m\u001b[43m,\u001b[49m\n\u001b[32m    985\u001b[39m \u001b[43m    \u001b[49m\u001b[43mfull_schema_reask\u001b[49m\u001b[43m=\u001b[49m\u001b[43mfull_schema_reask\u001b[49m\u001b[43m,\u001b[49m\n\u001b[32m    986\u001b[39m \u001b[43m    \u001b[49m\u001b[43m*\u001b[49m\u001b[43m*\u001b[49m\u001b[43mkwargs\u001b[49m\u001b[43m,\u001b[49m\n\u001b[32m    987\u001b[39m \u001b[43m\u001b[49m\u001b[43m)\u001b[49m\n",
      "\u001b[36mFile \u001b[39m\u001b[32m~/Documents/GitHub/revou-gen-ai-tutorial/venv/lib/python3.11/site-packages/guardrails/telemetry/guard_tracing.py:206\u001b[39m, in \u001b[36mtrace_guard_execution\u001b[39m\u001b[34m(guard_name, history, _execute_fn, tracer, *args, **kwargs)\u001b[39m\n\u001b[32m    204\u001b[39m         \u001b[38;5;28;01mexcept\u001b[39;00m \u001b[38;5;167;01mException\u001b[39;00m \u001b[38;5;28;01mas\u001b[39;00m e:\n\u001b[32m    205\u001b[39m             guard_span.set_status(status=StatusCode.ERROR, description=\u001b[38;5;28mstr\u001b[39m(e))\n\u001b[32m--> \u001b[39m\u001b[32m206\u001b[39m             \u001b[38;5;28;01mraise\u001b[39;00m e\n\u001b[32m    207\u001b[39m \u001b[38;5;28;01melse\u001b[39;00m:\n\u001b[32m    208\u001b[39m     \u001b[38;5;28;01mreturn\u001b[39;00m _execute_fn(*args, **kwargs)\n",
      "\u001b[36mFile \u001b[39m\u001b[32m~/Documents/GitHub/revou-gen-ai-tutorial/venv/lib/python3.11/site-packages/guardrails/telemetry/guard_tracing.py:195\u001b[39m, in \u001b[36mtrace_guard_execution\u001b[39m\u001b[34m(guard_name, history, _execute_fn, tracer, *args, **kwargs)\u001b[39m\n\u001b[32m    191\u001b[39m     guard_span.set_attribute(\n\u001b[32m    192\u001b[39m         SpanAttributes.OPENINFERENCE_SPAN_KIND, \u001b[33m\"\u001b[39m\u001b[33mGUARDRAIL\u001b[39m\u001b[33m\"\u001b[39m\n\u001b[32m    193\u001b[39m     )\n\u001b[32m    194\u001b[39m \u001b[38;5;28;01mtry\u001b[39;00m:\n\u001b[32m--> \u001b[39m\u001b[32m195\u001b[39m     result = \u001b[43m_execute_fn\u001b[49m\u001b[43m(\u001b[49m\u001b[43m*\u001b[49m\u001b[43margs\u001b[49m\u001b[43m,\u001b[49m\u001b[43m \u001b[49m\u001b[43m*\u001b[49m\u001b[43m*\u001b[49m\u001b[43mkwargs\u001b[49m\u001b[43m)\u001b[49m\n\u001b[32m    196\u001b[39m     \u001b[38;5;28;01mif\u001b[39;00m \u001b[38;5;28misinstance\u001b[39m(result, Iterator) \u001b[38;5;129;01mand\u001b[39;00m \u001b[38;5;129;01mnot\u001b[39;00m \u001b[38;5;28misinstance\u001b[39m(\n\u001b[32m    197\u001b[39m         result, ValidationOutcome\n\u001b[32m    198\u001b[39m     ):\n\u001b[32m    199\u001b[39m         \u001b[38;5;28;01mreturn\u001b[39;00m trace_stream_guard(guard_span, result, history)\n",
      "\u001b[36mFile \u001b[39m\u001b[32m~/Documents/GitHub/revou-gen-ai-tutorial/venv/lib/python3.11/site-packages/guardrails/guard.py:799\u001b[39m, in \u001b[36mGuard._execute\u001b[39m\u001b[34m(self, llm_api, llm_output, prompt_params, num_reasks, messages, reask_messages, metadata, full_schema_reask, *args, **kwargs)\u001b[39m\n\u001b[32m    796\u001b[39m current_otel_context = otel_context.get_current()\n\u001b[32m    797\u001b[39m wrapped__exec = wrap_with_otel_context(current_otel_context, __exec)\n\u001b[32m--> \u001b[39m\u001b[32m799\u001b[39m \u001b[38;5;28;01mreturn\u001b[39;00m \u001b[43mguard_context\u001b[49m\u001b[43m.\u001b[49m\u001b[43mrun\u001b[49m\u001b[43m(\u001b[49m\n\u001b[32m    800\u001b[39m \u001b[43m    \u001b[49m\u001b[43mwrapped__exec\u001b[49m\u001b[43m,\u001b[49m\n\u001b[32m    801\u001b[39m \u001b[43m    \u001b[49m\u001b[38;5;28;43mself\u001b[39;49m\u001b[43m,\u001b[49m\n\u001b[32m    802\u001b[39m \u001b[43m    \u001b[49m\u001b[43mllm_api\u001b[49m\u001b[43m=\u001b[49m\u001b[43mllm_api\u001b[49m\u001b[43m,\u001b[49m\n\u001b[32m    803\u001b[39m \u001b[43m    \u001b[49m\u001b[43mllm_output\u001b[49m\u001b[43m=\u001b[49m\u001b[43mllm_output\u001b[49m\u001b[43m,\u001b[49m\n\u001b[32m    804\u001b[39m \u001b[43m    \u001b[49m\u001b[43mprompt_params\u001b[49m\u001b[43m=\u001b[49m\u001b[43mprompt_params\u001b[49m\u001b[43m,\u001b[49m\n\u001b[32m    805\u001b[39m \u001b[43m    \u001b[49m\u001b[43mnum_reasks\u001b[49m\u001b[43m=\u001b[49m\u001b[43mnum_reasks\u001b[49m\u001b[43m,\u001b[49m\n\u001b[32m    806\u001b[39m \u001b[43m    \u001b[49m\u001b[43mmessages\u001b[49m\u001b[43m=\u001b[49m\u001b[43mmessages\u001b[49m\u001b[43m,\u001b[49m\n\u001b[32m    807\u001b[39m \u001b[43m    \u001b[49m\u001b[43mmetadata\u001b[49m\u001b[43m=\u001b[49m\u001b[43mmetadata\u001b[49m\u001b[43m,\u001b[49m\n\u001b[32m    808\u001b[39m \u001b[43m    \u001b[49m\u001b[43mfull_schema_reask\u001b[49m\u001b[43m=\u001b[49m\u001b[43mfull_schema_reask\u001b[49m\u001b[43m,\u001b[49m\n\u001b[32m    809\u001b[39m \u001b[43m    \u001b[49m\u001b[43m*\u001b[49m\u001b[43margs\u001b[49m\u001b[43m,\u001b[49m\n\u001b[32m    810\u001b[39m \u001b[43m    \u001b[49m\u001b[43m*\u001b[49m\u001b[43m*\u001b[49m\u001b[43mkwargs\u001b[49m\u001b[43m,\u001b[49m\n\u001b[32m    811\u001b[39m \u001b[43m\u001b[49m\u001b[43m)\u001b[49m\n",
      "\u001b[36mFile \u001b[39m\u001b[32m~/Documents/GitHub/revou-gen-ai-tutorial/venv/lib/python3.11/site-packages/guardrails/telemetry/common.py:100\u001b[39m, in \u001b[36mwrap_with_otel_context.<locals>.wrapped_func\u001b[39m\u001b[34m(*args, **kwargs)\u001b[39m\n\u001b[32m     97\u001b[39m token = context.attach(outer_scope_otel_context)\n\u001b[32m     98\u001b[39m \u001b[38;5;28;01mtry\u001b[39;00m:\n\u001b[32m     99\u001b[39m     \u001b[38;5;66;03m# Execute 'func' within the attached context\u001b[39;00m\n\u001b[32m--> \u001b[39m\u001b[32m100\u001b[39m     \u001b[38;5;28;01mreturn\u001b[39;00m \u001b[43mfunc\u001b[49m\u001b[43m(\u001b[49m\u001b[43m*\u001b[49m\u001b[43margs\u001b[49m\u001b[43m,\u001b[49m\u001b[43m \u001b[49m\u001b[43m*\u001b[49m\u001b[43m*\u001b[49m\u001b[43mkwargs\u001b[49m\u001b[43m)\u001b[49m\n\u001b[32m    101\u001b[39m \u001b[38;5;28;01mfinally\u001b[39;00m:\n\u001b[32m    102\u001b[39m     \u001b[38;5;66;03m# Ensure the context is detached after execution\u001b[39;00m\n\u001b[32m    103\u001b[39m     \u001b[38;5;66;03m#   to maintain correct context management\u001b[39;00m\n\u001b[32m    104\u001b[39m     context.detach(token)\n",
      "\u001b[36mFile \u001b[39m\u001b[32m~/Documents/GitHub/revou-gen-ai-tutorial/venv/lib/python3.11/site-packages/guardrails/guard.py:778\u001b[39m, in \u001b[36mGuard._execute.<locals>.__exec\u001b[39m\u001b[34m(self, llm_api, llm_output, prompt_params, num_reasks, messages, metadata, full_schema_reask, *args, **kwargs)\u001b[39m\n\u001b[32m    776\u001b[39m \u001b[38;5;28mself\u001b[39m.history.push(call_log)\n\u001b[32m    777\u001b[39m \u001b[38;5;66;03m# Otherwise, call the LLM synchronously\u001b[39;00m\n\u001b[32m--> \u001b[39m\u001b[32m778\u001b[39m \u001b[38;5;28;01mreturn\u001b[39;00m \u001b[38;5;28;43mself\u001b[39;49m\u001b[43m.\u001b[49m\u001b[43m_exec\u001b[49m\u001b[43m(\u001b[49m\n\u001b[32m    779\u001b[39m \u001b[43m    \u001b[49m\u001b[43mllm_api\u001b[49m\u001b[43m=\u001b[49m\u001b[43mllm_api\u001b[49m\u001b[43m,\u001b[49m\n\u001b[32m    780\u001b[39m \u001b[43m    \u001b[49m\u001b[43mllm_output\u001b[49m\u001b[43m=\u001b[49m\u001b[43mllm_output\u001b[49m\u001b[43m,\u001b[49m\n\u001b[32m    781\u001b[39m \u001b[43m    \u001b[49m\u001b[43mprompt_params\u001b[49m\u001b[43m=\u001b[49m\u001b[43mprompt_params\u001b[49m\u001b[43m,\u001b[49m\n\u001b[32m    782\u001b[39m \u001b[43m    \u001b[49m\u001b[43mnum_reasks\u001b[49m\u001b[43m=\u001b[49m\u001b[38;5;28;43mself\u001b[39;49m\u001b[43m.\u001b[49m\u001b[43m_num_reasks\u001b[49m\u001b[43m,\u001b[49m\n\u001b[32m    783\u001b[39m \u001b[43m    \u001b[49m\u001b[43mmessages\u001b[49m\u001b[43m=\u001b[49m\u001b[43mmessages\u001b[49m\u001b[43m,\u001b[49m\n\u001b[32m    784\u001b[39m \u001b[43m    \u001b[49m\u001b[43mmetadata\u001b[49m\u001b[43m=\u001b[49m\u001b[43mmetadata\u001b[49m\u001b[43m,\u001b[49m\n\u001b[32m    785\u001b[39m \u001b[43m    \u001b[49m\u001b[43mfull_schema_reask\u001b[49m\u001b[43m=\u001b[49m\u001b[43mfull_schema_reask\u001b[49m\u001b[43m,\u001b[49m\n\u001b[32m    786\u001b[39m \u001b[43m    \u001b[49m\u001b[43mcall_log\u001b[49m\u001b[43m=\u001b[49m\u001b[43mcall_log\u001b[49m\u001b[43m,\u001b[49m\n\u001b[32m    787\u001b[39m \u001b[43m    \u001b[49m\u001b[43m*\u001b[49m\u001b[43margs\u001b[49m\u001b[43m,\u001b[49m\n\u001b[32m    788\u001b[39m \u001b[43m    \u001b[49m\u001b[43m*\u001b[49m\u001b[43m*\u001b[49m\u001b[43mkwargs\u001b[49m\u001b[43m,\u001b[49m\n\u001b[32m    789\u001b[39m \u001b[43m\u001b[49m\u001b[43m)\u001b[49m\n",
      "\u001b[36mFile \u001b[39m\u001b[32m~/Documents/GitHub/revou-gen-ai-tutorial/venv/lib/python3.11/site-packages/guardrails/guard.py:877\u001b[39m, in \u001b[36mGuard._exec\u001b[39m\u001b[34m(self, llm_api, llm_output, call_log, prompt_params, num_reasks, metadata, full_schema_reask, messages, *args, **kwargs)\u001b[39m\n\u001b[32m    857\u001b[39m \u001b[38;5;28;01melse\u001b[39;00m:\n\u001b[32m    858\u001b[39m     \u001b[38;5;66;03m# Otherwise, use Runner\u001b[39;00m\n\u001b[32m    859\u001b[39m     runner = Runner(\n\u001b[32m    860\u001b[39m         output_type=\u001b[38;5;28mself\u001b[39m._output_type,\n\u001b[32m    861\u001b[39m         output_schema=\u001b[38;5;28mself\u001b[39m.output_schema.to_dict(),\n\u001b[32m   (...)\u001b[39m\u001b[32m    875\u001b[39m         exec_options=\u001b[38;5;28mself\u001b[39m._exec_opts,\n\u001b[32m    876\u001b[39m     )\n\u001b[32m--> \u001b[39m\u001b[32m877\u001b[39m     call = \u001b[43mrunner\u001b[49m\u001b[43m(\u001b[49m\u001b[43mcall_log\u001b[49m\u001b[43m=\u001b[49m\u001b[43mcall_log\u001b[49m\u001b[43m,\u001b[49m\u001b[43m \u001b[49m\u001b[43mprompt_params\u001b[49m\u001b[43m=\u001b[49m\u001b[43mprompt_params\u001b[49m\u001b[43m)\u001b[49m\n\u001b[32m    878\u001b[39m     \u001b[38;5;28;01mreturn\u001b[39;00m ValidationOutcome[OT].from_guard_history(call)\n",
      "\u001b[36mFile \u001b[39m\u001b[32m~/Documents/GitHub/revou-gen-ai-tutorial/venv/lib/python3.11/site-packages/guardrails/hub_telemetry/hub_tracing.py:150\u001b[39m, in \u001b[36mtrace.<locals>.decorator.<locals>.wrapper\u001b[39m\u001b[34m(*args, **kwargs)\u001b[39m\n\u001b[32m    148\u001b[39m         \u001b[38;5;28;01mreturn\u001b[39;00m resp\n\u001b[32m    149\u001b[39m \u001b[38;5;28;01melse\u001b[39;00m:\n\u001b[32m--> \u001b[39m\u001b[32m150\u001b[39m     \u001b[38;5;28;01mreturn\u001b[39;00m \u001b[43mfn\u001b[49m\u001b[43m(\u001b[49m\u001b[43m*\u001b[49m\u001b[43margs\u001b[49m\u001b[43m,\u001b[49m\u001b[43m \u001b[49m\u001b[43m*\u001b[49m\u001b[43m*\u001b[49m\u001b[43mkwargs\u001b[49m\u001b[43m)\u001b[49m\n",
      "\u001b[36mFile \u001b[39m\u001b[32m~/Documents/GitHub/revou-gen-ai-tutorial/venv/lib/python3.11/site-packages/guardrails/run/runner.py:200\u001b[39m, in \u001b[36mRunner.__call__\u001b[39m\u001b[34m(self, call_log, prompt_params)\u001b[39m\n\u001b[32m    197\u001b[39m \u001b[38;5;28;01mexcept\u001b[39;00m \u001b[38;5;167;01mException\u001b[39;00m \u001b[38;5;28;01mas\u001b[39;00m e:\n\u001b[32m    198\u001b[39m     \u001b[38;5;66;03m# Because Pydantic v1 doesn't respect property setters\u001b[39;00m\n\u001b[32m    199\u001b[39m     call_log.exception = e\n\u001b[32m--> \u001b[39m\u001b[32m200\u001b[39m     \u001b[38;5;28;01mraise\u001b[39;00m e\n\u001b[32m    201\u001b[39m \u001b[38;5;28;01mreturn\u001b[39;00m call_log\n",
      "\u001b[36mFile \u001b[39m\u001b[32m~/Documents/GitHub/revou-gen-ai-tutorial/venv/lib/python3.11/site-packages/guardrails/run/runner.py:170\u001b[39m, in \u001b[36mRunner.__call__\u001b[39m\u001b[34m(self, call_log, prompt_params)\u001b[39m\n\u001b[32m    167\u001b[39m index = \u001b[32m0\u001b[39m\n\u001b[32m    168\u001b[39m \u001b[38;5;28;01mfor\u001b[39;00m index \u001b[38;5;129;01min\u001b[39;00m \u001b[38;5;28mrange\u001b[39m(\u001b[38;5;28mself\u001b[39m.num_reasks + \u001b[32m1\u001b[39m):\n\u001b[32m    169\u001b[39m     \u001b[38;5;66;03m# Run a single step.\u001b[39;00m\n\u001b[32m--> \u001b[39m\u001b[32m170\u001b[39m     iteration = \u001b[38;5;28;43mself\u001b[39;49m\u001b[43m.\u001b[49m\u001b[43mstep\u001b[49m\u001b[43m(\u001b[49m\n\u001b[32m    171\u001b[39m \u001b[43m        \u001b[49m\u001b[43mindex\u001b[49m\u001b[43m=\u001b[49m\u001b[43mindex\u001b[49m\u001b[43m,\u001b[49m\n\u001b[32m    172\u001b[39m \u001b[43m        \u001b[49m\u001b[43mapi\u001b[49m\u001b[43m=\u001b[49m\u001b[38;5;28;43mself\u001b[39;49m\u001b[43m.\u001b[49m\u001b[43mapi\u001b[49m\u001b[43m,\u001b[49m\n\u001b[32m    173\u001b[39m \u001b[43m        \u001b[49m\u001b[43mmessages\u001b[49m\u001b[43m=\u001b[49m\u001b[43mmessages\u001b[49m\u001b[43m,\u001b[49m\n\u001b[32m    174\u001b[39m \u001b[43m        \u001b[49m\u001b[43mprompt_params\u001b[49m\u001b[43m=\u001b[49m\u001b[43mprompt_params\u001b[49m\u001b[43m,\u001b[49m\n\u001b[32m    175\u001b[39m \u001b[43m        \u001b[49m\u001b[43moutput_schema\u001b[49m\u001b[43m=\u001b[49m\u001b[43moutput_schema\u001b[49m\u001b[43m,\u001b[49m\n\u001b[32m    176\u001b[39m \u001b[43m        \u001b[49m\u001b[43moutput\u001b[49m\u001b[43m=\u001b[49m\u001b[38;5;28;43mself\u001b[39;49m\u001b[43m.\u001b[49m\u001b[43moutput\u001b[49m\u001b[43m \u001b[49m\u001b[38;5;28;43;01mif\u001b[39;49;00m\u001b[43m \u001b[49m\u001b[43mindex\u001b[49m\u001b[43m \u001b[49m\u001b[43m==\u001b[49m\u001b[43m \u001b[49m\u001b[32;43m0\u001b[39;49m\u001b[43m \u001b[49m\u001b[38;5;28;43;01melse\u001b[39;49;00m\u001b[43m \u001b[49m\u001b[38;5;28;43;01mNone\u001b[39;49;00m\u001b[43m,\u001b[49m\n\u001b[32m    177\u001b[39m \u001b[43m        \u001b[49m\u001b[43mcall_log\u001b[49m\u001b[43m=\u001b[49m\u001b[43mcall_log\u001b[49m\u001b[43m,\u001b[49m\n\u001b[32m    178\u001b[39m \u001b[43m    \u001b[49m\u001b[43m)\u001b[49m\n\u001b[32m    180\u001b[39m     \u001b[38;5;66;03m# Loop again?\u001b[39;00m\n\u001b[32m    181\u001b[39m     \u001b[38;5;28;01mif\u001b[39;00m \u001b[38;5;129;01mnot\u001b[39;00m \u001b[38;5;28mself\u001b[39m.do_loop(index, iteration.reasks):\n",
      "\u001b[36mFile \u001b[39m\u001b[32m~/Documents/GitHub/revou-gen-ai-tutorial/venv/lib/python3.11/site-packages/guardrails/hub_telemetry/hub_tracing.py:150\u001b[39m, in \u001b[36mtrace.<locals>.decorator.<locals>.wrapper\u001b[39m\u001b[34m(*args, **kwargs)\u001b[39m\n\u001b[32m    148\u001b[39m         \u001b[38;5;28;01mreturn\u001b[39;00m resp\n\u001b[32m    149\u001b[39m \u001b[38;5;28;01melse\u001b[39;00m:\n\u001b[32m--> \u001b[39m\u001b[32m150\u001b[39m     \u001b[38;5;28;01mreturn\u001b[39;00m \u001b[43mfn\u001b[49m\u001b[43m(\u001b[49m\u001b[43m*\u001b[49m\u001b[43margs\u001b[49m\u001b[43m,\u001b[49m\u001b[43m \u001b[49m\u001b[43m*\u001b[49m\u001b[43m*\u001b[49m\u001b[43mkwargs\u001b[49m\u001b[43m)\u001b[49m\n",
      "\u001b[36mFile \u001b[39m\u001b[32m~/Documents/GitHub/revou-gen-ai-tutorial/venv/lib/python3.11/site-packages/guardrails/telemetry/runner_tracing.py:104\u001b[39m, in \u001b[36mtrace_step.<locals>.trace_step_wrapper\u001b[39m\u001b[34m(*args, **kwargs)\u001b[39m\n\u001b[32m    102\u001b[39m             add_step_attributes(step_span, \u001b[38;5;28;01mNone\u001b[39;00m, *args, **kwargs)\n\u001b[32m    103\u001b[39m             add_user_attributes(step_span)\n\u001b[32m--> \u001b[39m\u001b[32m104\u001b[39m             \u001b[38;5;28;01mraise\u001b[39;00m e\n\u001b[32m    105\u001b[39m \u001b[38;5;28;01melse\u001b[39;00m:\n\u001b[32m    106\u001b[39m     \u001b[38;5;28;01mreturn\u001b[39;00m fn(*args, **kwargs)\n",
      "\u001b[36mFile \u001b[39m\u001b[32m~/Documents/GitHub/revou-gen-ai-tutorial/venv/lib/python3.11/site-packages/guardrails/telemetry/runner_tracing.py:96\u001b[39m, in \u001b[36mtrace_step.<locals>.trace_step_wrapper\u001b[39m\u001b[34m(*args, **kwargs)\u001b[39m\n\u001b[32m     92\u001b[39m     step_span.set_attribute(\n\u001b[32m     93\u001b[39m         SpanAttributes.OPENINFERENCE_SPAN_KIND, \u001b[33m\"\u001b[39m\u001b[33mGUARDRAIL\u001b[39m\u001b[33m\"\u001b[39m\n\u001b[32m     94\u001b[39m     )\n\u001b[32m     95\u001b[39m \u001b[38;5;28;01mtry\u001b[39;00m:\n\u001b[32m---> \u001b[39m\u001b[32m96\u001b[39m     response = \u001b[43mfn\u001b[49m\u001b[43m(\u001b[49m\u001b[43m*\u001b[49m\u001b[43margs\u001b[49m\u001b[43m,\u001b[49m\u001b[43m \u001b[49m\u001b[43m*\u001b[49m\u001b[43m*\u001b[49m\u001b[43mkwargs\u001b[49m\u001b[43m)\u001b[49m\n\u001b[32m     97\u001b[39m     add_step_attributes(step_span, response, *args, **kwargs)\n\u001b[32m     98\u001b[39m     add_user_attributes(step_span)\n",
      "\u001b[36mFile \u001b[39m\u001b[32m~/Documents/GitHub/revou-gen-ai-tutorial/venv/lib/python3.11/site-packages/guardrails/run/runner.py:284\u001b[39m, in \u001b[36mRunner.step\u001b[39m\u001b[34m(self, index, output_schema, call_log, api, messages, prompt_params, output)\u001b[39m\n\u001b[32m    282\u001b[39m     iteration.outputs.error = error_message\n\u001b[32m    283\u001b[39m     iteration.outputs.exception = e\n\u001b[32m--> \u001b[39m\u001b[32m284\u001b[39m     \u001b[38;5;28;01mraise\u001b[39;00m e\n\u001b[32m    285\u001b[39m \u001b[38;5;28;01mreturn\u001b[39;00m iteration\n",
      "\u001b[36mFile \u001b[39m\u001b[32m~/Documents/GitHub/revou-gen-ai-tutorial/venv/lib/python3.11/site-packages/guardrails/run/runner.py:269\u001b[39m, in \u001b[36mRunner.step\u001b[39m\u001b[34m(self, index, output_schema, call_log, api, messages, prompt_params, output)\u001b[39m\n\u001b[32m    266\u001b[39m     reasks, _ = \u001b[38;5;28mself\u001b[39m.introspect(parsed_output)\n\u001b[32m    267\u001b[39m \u001b[38;5;28;01melse\u001b[39;00m:\n\u001b[32m    268\u001b[39m     \u001b[38;5;66;03m# Validate: run output validation.\u001b[39;00m\n\u001b[32m--> \u001b[39m\u001b[32m269\u001b[39m     validated_output = \u001b[38;5;28;43mself\u001b[39;49m\u001b[43m.\u001b[49m\u001b[43mvalidate\u001b[49m\u001b[43m(\u001b[49m\n\u001b[32m    270\u001b[39m \u001b[43m        \u001b[49m\u001b[43miteration\u001b[49m\u001b[43m,\u001b[49m\u001b[43m \u001b[49m\u001b[43mindex\u001b[49m\u001b[43m,\u001b[49m\u001b[43m \u001b[49m\u001b[43mparsed_output\u001b[49m\u001b[43m,\u001b[49m\u001b[43m \u001b[49m\u001b[43moutput_schema\u001b[49m\n\u001b[32m    271\u001b[39m \u001b[43m    \u001b[49m\u001b[43m)\u001b[49m\n\u001b[32m    272\u001b[39m     iteration.outputs.validation_response = validated_output\n\u001b[32m    274\u001b[39m     \u001b[38;5;66;03m# Introspect: inspect validated output for reasks.\u001b[39;00m\n",
      "\u001b[36mFile \u001b[39m\u001b[32m~/Documents/GitHub/revou-gen-ai-tutorial/venv/lib/python3.11/site-packages/guardrails/hub_telemetry/hub_tracing.py:150\u001b[39m, in \u001b[36mtrace.<locals>.decorator.<locals>.wrapper\u001b[39m\u001b[34m(*args, **kwargs)\u001b[39m\n\u001b[32m    148\u001b[39m         \u001b[38;5;28;01mreturn\u001b[39;00m resp\n\u001b[32m    149\u001b[39m \u001b[38;5;28;01melse\u001b[39;00m:\n\u001b[32m--> \u001b[39m\u001b[32m150\u001b[39m     \u001b[38;5;28;01mreturn\u001b[39;00m \u001b[43mfn\u001b[49m\u001b[43m(\u001b[49m\u001b[43m*\u001b[49m\u001b[43margs\u001b[49m\u001b[43m,\u001b[49m\u001b[43m \u001b[49m\u001b[43m*\u001b[49m\u001b[43m*\u001b[49m\u001b[43mkwargs\u001b[49m\u001b[43m)\u001b[49m\n",
      "\u001b[36mFile \u001b[39m\u001b[32m~/Documents/GitHub/revou-gen-ai-tutorial/venv/lib/python3.11/site-packages/guardrails/run/runner.py:465\u001b[39m, in \u001b[36mRunner.validate\u001b[39m\u001b[34m(self, iteration, attempt_number, parsed_output, output_schema, stream, **kwargs)\u001b[39m\n\u001b[32m    462\u001b[39m \u001b[38;5;28;01mif\u001b[39;00m \u001b[38;5;28mself\u001b[39m.output_type != OutputTypes.STRING:\n\u001b[32m    463\u001b[39m     stream = \u001b[38;5;28;01mNone\u001b[39;00m\n\u001b[32m--> \u001b[39m\u001b[32m465\u001b[39m validated_output, metadata = \u001b[43mvalidator_service\u001b[49m\u001b[43m.\u001b[49m\u001b[43mvalidate\u001b[49m\u001b[43m(\u001b[49m\n\u001b[32m    466\u001b[39m \u001b[43m    \u001b[49m\u001b[43mvalue\u001b[49m\u001b[43m=\u001b[49m\u001b[43mparsed_output\u001b[49m\u001b[43m,\u001b[49m\n\u001b[32m    467\u001b[39m \u001b[43m    \u001b[49m\u001b[43mmetadata\u001b[49m\u001b[43m=\u001b[49m\u001b[38;5;28;43mself\u001b[39;49m\u001b[43m.\u001b[49m\u001b[43mmetadata\u001b[49m\u001b[43m,\u001b[49m\n\u001b[32m    468\u001b[39m \u001b[43m    \u001b[49m\u001b[43mvalidator_map\u001b[49m\u001b[43m=\u001b[49m\u001b[38;5;28;43mself\u001b[39;49m\u001b[43m.\u001b[49m\u001b[43mvalidation_map\u001b[49m\u001b[43m,\u001b[49m\n\u001b[32m    469\u001b[39m \u001b[43m    \u001b[49m\u001b[43miteration\u001b[49m\u001b[43m=\u001b[49m\u001b[43miteration\u001b[49m\u001b[43m,\u001b[49m\n\u001b[32m    470\u001b[39m \u001b[43m    \u001b[49m\u001b[43mdisable_tracer\u001b[49m\u001b[43m=\u001b[49m\u001b[38;5;28;43mself\u001b[39;49m\u001b[43m.\u001b[49m\u001b[43m_disable_tracer\u001b[49m\u001b[43m,\u001b[49m\n\u001b[32m    471\u001b[39m \u001b[43m    \u001b[49m\u001b[43mpath\u001b[49m\u001b[43m=\u001b[49m\u001b[33;43m\"\u001b[39;49m\u001b[33;43m$\u001b[39;49m\u001b[33;43m\"\u001b[39;49m\u001b[43m,\u001b[49m\n\u001b[32m    472\u001b[39m \u001b[43m    \u001b[49m\u001b[43mstream\u001b[49m\u001b[43m=\u001b[49m\u001b[43mstream\u001b[49m\u001b[43m,\u001b[49m\n\u001b[32m    473\u001b[39m \u001b[43m    \u001b[49m\u001b[43m*\u001b[49m\u001b[43m*\u001b[49m\u001b[43mkwargs\u001b[49m\u001b[43m,\u001b[49m\n\u001b[32m    474\u001b[39m \u001b[43m\u001b[49m\u001b[43m)\u001b[49m\n\u001b[32m    475\u001b[39m \u001b[38;5;28mself\u001b[39m.metadata.update(metadata)\n\u001b[32m    476\u001b[39m validated_output = validator_service.post_process_validation(\n\u001b[32m    477\u001b[39m     validated_output, attempt_number, iteration, \u001b[38;5;28mself\u001b[39m.output_type\n\u001b[32m    478\u001b[39m )\n",
      "\u001b[36mFile \u001b[39m\u001b[32m~/Documents/GitHub/revou-gen-ai-tutorial/venv/lib/python3.11/site-packages/guardrails/validator_service/__init__.py:91\u001b[39m, in \u001b[36mvalidate\u001b[39m\u001b[34m(value, metadata, validator_map, iteration, disable_tracer, path, **kwargs)\u001b[39m\n\u001b[32m     85\u001b[39m         warnings.warn(\n\u001b[32m     86\u001b[39m             \u001b[33m\"\u001b[39m\u001b[33mCould not obtain an event loop.\u001b[39m\u001b[33m\"\u001b[39m\n\u001b[32m     87\u001b[39m             \u001b[33m\"\u001b[39m\u001b[33m Falling back to synchronous validation.\u001b[39m\u001b[33m\"\u001b[39m\n\u001b[32m     88\u001b[39m         )\n\u001b[32m     89\u001b[39m         validator_service = SequentialValidatorService(disable_tracer)\n\u001b[32m---> \u001b[39m\u001b[32m91\u001b[39m \u001b[38;5;28;01mreturn\u001b[39;00m \u001b[43mvalidator_service\u001b[49m\u001b[43m.\u001b[49m\u001b[43mvalidate\u001b[49m\u001b[43m(\u001b[49m\n\u001b[32m     92\u001b[39m \u001b[43m    \u001b[49m\u001b[43mvalue\u001b[49m\u001b[43m,\u001b[49m\n\u001b[32m     93\u001b[39m \u001b[43m    \u001b[49m\u001b[43mmetadata\u001b[49m\u001b[43m,\u001b[49m\n\u001b[32m     94\u001b[39m \u001b[43m    \u001b[49m\u001b[43mvalidator_map\u001b[49m\u001b[43m,\u001b[49m\n\u001b[32m     95\u001b[39m \u001b[43m    \u001b[49m\u001b[43miteration\u001b[49m\u001b[43m,\u001b[49m\n\u001b[32m     96\u001b[39m \u001b[43m    \u001b[49m\u001b[43mpath\u001b[49m\u001b[43m,\u001b[49m\n\u001b[32m     97\u001b[39m \u001b[43m    \u001b[49m\u001b[43mpath\u001b[49m\u001b[43m,\u001b[49m\n\u001b[32m     98\u001b[39m \u001b[43m    \u001b[49m\u001b[43mloop\u001b[49m\u001b[43m=\u001b[49m\u001b[43mloop\u001b[49m\u001b[43m,\u001b[49m\u001b[43m  \u001b[49m\u001b[38;5;66;43;03m# type: ignore It exists when we need it to.\u001b[39;49;00m\n\u001b[32m     99\u001b[39m \u001b[43m    \u001b[49m\u001b[43m*\u001b[49m\u001b[43m*\u001b[49m\u001b[43mkwargs\u001b[49m\u001b[43m,\u001b[49m\n\u001b[32m    100\u001b[39m \u001b[43m\u001b[49m\u001b[43m)\u001b[49m\n",
      "\u001b[36mFile \u001b[39m\u001b[32m~/Documents/GitHub/revou-gen-ai-tutorial/venv/lib/python3.11/site-packages/guardrails/validator_service/sequential_validator_service.py:460\u001b[39m, in \u001b[36mSequentialValidatorService.validate\u001b[39m\u001b[34m(self, value, metadata, validator_map, iteration, absolute_path, reference_path, stream, **kwargs)\u001b[39m\n\u001b[32m    457\u001b[39m         value[key] = child_value\n\u001b[32m    459\u001b[39m \u001b[38;5;66;03m# Then validate the parent value\u001b[39;00m\n\u001b[32m--> \u001b[39m\u001b[32m460\u001b[39m value, metadata = \u001b[38;5;28;43mself\u001b[39;49m\u001b[43m.\u001b[49m\u001b[43mrun_validators\u001b[49m\u001b[43m(\u001b[49m\n\u001b[32m    461\u001b[39m \u001b[43m    \u001b[49m\u001b[43miteration\u001b[49m\u001b[43m,\u001b[49m\n\u001b[32m    462\u001b[39m \u001b[43m    \u001b[49m\u001b[43mvalidator_map\u001b[49m\u001b[43m,\u001b[49m\n\u001b[32m    463\u001b[39m \u001b[43m    \u001b[49m\u001b[43mvalue\u001b[49m\u001b[43m,\u001b[49m\n\u001b[32m    464\u001b[39m \u001b[43m    \u001b[49m\u001b[43mmetadata\u001b[49m\u001b[43m,\u001b[49m\n\u001b[32m    465\u001b[39m \u001b[43m    \u001b[49m\u001b[43mabsolute_path\u001b[49m\u001b[43m,\u001b[49m\n\u001b[32m    466\u001b[39m \u001b[43m    \u001b[49m\u001b[43mreference_path\u001b[49m\u001b[43m,\u001b[49m\n\u001b[32m    467\u001b[39m \u001b[43m    \u001b[49m\u001b[43mstream\u001b[49m\u001b[43m=\u001b[49m\u001b[43mstream\u001b[49m\u001b[43m,\u001b[49m\n\u001b[32m    468\u001b[39m \u001b[43m    \u001b[49m\u001b[43m*\u001b[49m\u001b[43m*\u001b[49m\u001b[43mkwargs\u001b[49m\u001b[43m,\u001b[49m\n\u001b[32m    469\u001b[39m \u001b[43m\u001b[49m\u001b[43m)\u001b[49m\n\u001b[32m    470\u001b[39m \u001b[38;5;28;01mreturn\u001b[39;00m value, metadata\n",
      "\u001b[36mFile \u001b[39m\u001b[32m~/Documents/GitHub/revou-gen-ai-tutorial/venv/lib/python3.11/site-packages/guardrails/validator_service/sequential_validator_service.py:380\u001b[39m, in \u001b[36mSequentialValidatorService.run_validators\u001b[39m\u001b[34m(self, iteration, validator_map, value, metadata, absolute_property_path, reference_property_path, stream, **kwargs)\u001b[39m\n\u001b[32m    370\u001b[39m         fixed_value = result.fix_value\n\u001b[32m    371\u001b[39m         rechecked_value = \u001b[38;5;28mself\u001b[39m.run_validator_sync(\n\u001b[32m    372\u001b[39m             validator,\n\u001b[32m    373\u001b[39m             fixed_value,\n\u001b[32m   (...)\u001b[39m\u001b[32m    378\u001b[39m             **kwargs,\n\u001b[32m    379\u001b[39m         )\n\u001b[32m--> \u001b[39m\u001b[32m380\u001b[39m     value = \u001b[38;5;28;43mself\u001b[39;49m\u001b[43m.\u001b[49m\u001b[43mperform_correction\u001b[49m\u001b[43m(\u001b[49m\n\u001b[32m    381\u001b[39m \u001b[43m        \u001b[49m\u001b[43mresult\u001b[49m\u001b[43m,\u001b[49m\n\u001b[32m    382\u001b[39m \u001b[43m        \u001b[49m\u001b[43mvalue\u001b[49m\u001b[43m,\u001b[49m\n\u001b[32m    383\u001b[39m \u001b[43m        \u001b[49m\u001b[43mvalidator\u001b[49m\u001b[43m,\u001b[49m\n\u001b[32m    384\u001b[39m \u001b[43m        \u001b[49m\u001b[43mrechecked_value\u001b[49m\u001b[43m=\u001b[49m\u001b[43mrechecked_value\u001b[49m\u001b[43m,\u001b[49m\n\u001b[32m    385\u001b[39m \u001b[43m    \u001b[49m\u001b[43m)\u001b[49m\n\u001b[32m    386\u001b[39m \u001b[38;5;28;01melif\u001b[39;00m \u001b[38;5;28misinstance\u001b[39m(result, PassResult):\n\u001b[32m    387\u001b[39m     \u001b[38;5;28;01mif\u001b[39;00m (\n\u001b[32m    388\u001b[39m         validator.override_value_on_pass\n\u001b[32m    389\u001b[39m         \u001b[38;5;129;01mand\u001b[39;00m result.value_override \u001b[38;5;129;01mis\u001b[39;00m \u001b[38;5;129;01mnot\u001b[39;00m result.ValueOverrideSentinel\n\u001b[32m    390\u001b[39m     ):\n",
      "\u001b[36mFile \u001b[39m\u001b[32m~/Documents/GitHub/revou-gen-ai-tutorial/venv/lib/python3.11/site-packages/guardrails/validator_service/validator_service_base.py:106\u001b[39m, in \u001b[36mValidatorServiceBase.perform_correction\u001b[39m\u001b[34m(self, result, value, validator, rechecked_value)\u001b[39m\n\u001b[32m    101\u001b[39m     \u001b[38;5;28;01mreturn\u001b[39;00m FieldReAsk(\n\u001b[32m    102\u001b[39m         incorrect_value=value,\n\u001b[32m    103\u001b[39m         fail_results=[result],\n\u001b[32m    104\u001b[39m     )\n\u001b[32m    105\u001b[39m \u001b[38;5;28;01mif\u001b[39;00m on_fail_descriptor == OnFailAction.EXCEPTION:\n\u001b[32m--> \u001b[39m\u001b[32m106\u001b[39m     \u001b[38;5;28;01mraise\u001b[39;00m ValidationError(\n\u001b[32m    107\u001b[39m         \u001b[33m\"\u001b[39m\u001b[33mValidation failed for field with errors: \u001b[39m\u001b[33m\"\u001b[39m\n\u001b[32m    108\u001b[39m         + \u001b[33m\"\u001b[39m\u001b[33m, \u001b[39m\u001b[33m\"\u001b[39m.join([result.error_message])\n\u001b[32m    109\u001b[39m     )\n\u001b[32m    110\u001b[39m \u001b[38;5;28;01mif\u001b[39;00m on_fail_descriptor == OnFailAction.FILTER:\n\u001b[32m    111\u001b[39m     \u001b[38;5;28;01mreturn\u001b[39;00m Filter()\n",
      "\u001b[31mValidationError\u001b[39m: Validation failed for field with errors: Value has length greater than 12. Please return a shorter output, that is shorter than 12 characters."
     ]
    }
   ],
   "source": [
    "# print(guard.parse(\"Caesar\").validation_passed)  # Guardrail Passes\n",
    "#print(\n",
    "#    guard.parse(\"Caesar Salad\")\n",
    "#    .validation_passed\n",
    "#)  # Guardrail Fails due to regex match\n",
    "print(\n",
    "    guard.parse(\"Caesarisagreatleader\")\n",
    "    .validation_passed\n",
    ")  # Guardrail Fails due to length"
   ]
  },
  {
   "cell_type": "markdown",
   "id": "d27ccf8f",
   "metadata": {},
   "source": [
    "---\n",
    "## on_fail Actions "
   ]
  },
  {
   "cell_type": "code",
   "execution_count": 15,
   "id": "93466a92",
   "metadata": {},
   "outputs": [],
   "source": [
    "# setup, run imports\n",
    "try:\n",
    "    from guardrails.hub import DetectPII\n",
    "except ImportError:\n",
    "    install(\"hub://guardrails/detect_pii\")\n",
    "    from guardrails.hub import DetectPII"
   ]
  },
  {
   "cell_type": "code",
   "execution_count": 16,
   "id": "afbf3f3a",
   "metadata": {},
   "outputs": [
    {
     "name": "stderr",
     "output_type": "stream",
     "text": [
      "WARNING:presidio-analyzer:Recognizer not added to registry because language is not supported by registry - CreditCardRecognizer supported languages: es, registry supported languages: en\n",
      "WARNING:presidio-analyzer:Recognizer not added to registry because language is not supported by registry - CreditCardRecognizer supported languages: it, registry supported languages: en\n",
      "WARNING:presidio-analyzer:Recognizer not added to registry because language is not supported by registry - CreditCardRecognizer supported languages: pl, registry supported languages: en\n",
      "WARNING:presidio-analyzer:Recognizer not added to registry because language is not supported by registry - EsNifRecognizer supported languages: es, registry supported languages: en\n",
      "WARNING:presidio-analyzer:Recognizer not added to registry because language is not supported by registry - EsNieRecognizer supported languages: es, registry supported languages: en\n",
      "WARNING:presidio-analyzer:Recognizer not added to registry because language is not supported by registry - ItDriverLicenseRecognizer supported languages: it, registry supported languages: en\n",
      "WARNING:presidio-analyzer:Recognizer not added to registry because language is not supported by registry - ItFiscalCodeRecognizer supported languages: it, registry supported languages: en\n",
      "WARNING:presidio-analyzer:Recognizer not added to registry because language is not supported by registry - ItVatCodeRecognizer supported languages: it, registry supported languages: en\n",
      "WARNING:presidio-analyzer:Recognizer not added to registry because language is not supported by registry - ItIdentityCardRecognizer supported languages: it, registry supported languages: en\n",
      "WARNING:presidio-analyzer:Recognizer not added to registry because language is not supported by registry - ItPassportRecognizer supported languages: it, registry supported languages: en\n",
      "WARNING:presidio-analyzer:Recognizer not added to registry because language is not supported by registry - PlPeselRecognizer supported languages: pl, registry supported languages: en\n",
      "WARNING:presidio-analyzer:Entity DOMAIN_NAME doesn't have the corresponding recognizer in language : en\n"
     ]
    },
    {
     "name": "stdout",
     "output_type": "stream",
     "text": [
      "output validation failed\n",
      "Validation failed for field with errors: The following text in your response contains PII:\n",
      "Hello, my name is John Doe and my email is john.doe@example.com\n"
     ]
    }
   ],
   "source": [
    "# Raising Exception\n",
    "guard = Guard().use(\n",
    "    DetectPII(pii_entities=\"pii\", on_fail=\"exception\")\n",
    ")\n",
    "\n",
    "try:\n",
    "    guard.validate(\"Hello, my name is John Doe and my email is john.doe@example.com\")\n",
    "except Exception as e:\n",
    "    print(\"output validation failed\")\n",
    "    print(e)"
   ]
  },
  {
   "cell_type": "code",
   "execution_count": 17,
   "id": "64e9bdef",
   "metadata": {},
   "outputs": [
    {
     "name": "stderr",
     "output_type": "stream",
     "text": [
      "WARNING:presidio-analyzer:Recognizer not added to registry because language is not supported by registry - CreditCardRecognizer supported languages: es, registry supported languages: en\n",
      "WARNING:presidio-analyzer:Recognizer not added to registry because language is not supported by registry - CreditCardRecognizer supported languages: it, registry supported languages: en\n",
      "WARNING:presidio-analyzer:Recognizer not added to registry because language is not supported by registry - CreditCardRecognizer supported languages: pl, registry supported languages: en\n",
      "WARNING:presidio-analyzer:Recognizer not added to registry because language is not supported by registry - EsNifRecognizer supported languages: es, registry supported languages: en\n",
      "WARNING:presidio-analyzer:Recognizer not added to registry because language is not supported by registry - EsNieRecognizer supported languages: es, registry supported languages: en\n",
      "WARNING:presidio-analyzer:Recognizer not added to registry because language is not supported by registry - ItDriverLicenseRecognizer supported languages: it, registry supported languages: en\n",
      "WARNING:presidio-analyzer:Recognizer not added to registry because language is not supported by registry - ItFiscalCodeRecognizer supported languages: it, registry supported languages: en\n",
      "WARNING:presidio-analyzer:Recognizer not added to registry because language is not supported by registry - ItVatCodeRecognizer supported languages: it, registry supported languages: en\n",
      "WARNING:presidio-analyzer:Recognizer not added to registry because language is not supported by registry - ItIdentityCardRecognizer supported languages: it, registry supported languages: en\n",
      "WARNING:presidio-analyzer:Recognizer not added to registry because language is not supported by registry - ItPassportRecognizer supported languages: it, registry supported languages: en\n",
      "WARNING:presidio-analyzer:Recognizer not added to registry because language is not supported by registry - PlPeselRecognizer supported languages: pl, registry supported languages: en\n",
      "WARNING:presidio-analyzer:Entity DOMAIN_NAME doesn't have the corresponding recognizer in language : en\n"
     ]
    },
    {
     "data": {
      "text/plain": [
       "ValidationOutcome(call_id='14362570304', raw_llm_output='Hello, my name is John Doe and my email is john.doe@example.com', validation_summaries=[ValidationSummary(validator_name='DetectPII', validator_status='fail', property_path='$', failure_reason='The following text in your response contains PII:\\nHello, my name is John Doe and my email is john.doe@example.com', error_spans=[ErrorSpan(start=18, end=26, reason='PII detected in John Doe')])], validated_output='Hello, my name is John Doe and my email is john.doe@example.com', reask=None, validation_passed=False, error=None)"
      ]
     },
     "execution_count": 17,
     "metadata": {},
     "output_type": "execute_result"
    }
   ],
   "source": [
    "# Doing Nothing\n",
    "guard = Guard().use(\n",
    "    DetectPII(pii_entities=\"pii\", on_fail=\"noop\")\n",
    ")\n",
    "\n",
    "guard.validate(\"Hello, my name is John Doe and my email is john.doe@example.com\")"
   ]
  },
  {
   "cell_type": "code",
   "execution_count": 18,
   "id": "9776e495",
   "metadata": {},
   "outputs": [
    {
     "name": "stderr",
     "output_type": "stream",
     "text": [
      "WARNING:presidio-analyzer:Recognizer not added to registry because language is not supported by registry - CreditCardRecognizer supported languages: es, registry supported languages: en\n",
      "WARNING:presidio-analyzer:Recognizer not added to registry because language is not supported by registry - CreditCardRecognizer supported languages: it, registry supported languages: en\n",
      "WARNING:presidio-analyzer:Recognizer not added to registry because language is not supported by registry - CreditCardRecognizer supported languages: pl, registry supported languages: en\n",
      "WARNING:presidio-analyzer:Recognizer not added to registry because language is not supported by registry - EsNifRecognizer supported languages: es, registry supported languages: en\n",
      "WARNING:presidio-analyzer:Recognizer not added to registry because language is not supported by registry - EsNieRecognizer supported languages: es, registry supported languages: en\n",
      "WARNING:presidio-analyzer:Recognizer not added to registry because language is not supported by registry - ItDriverLicenseRecognizer supported languages: it, registry supported languages: en\n",
      "WARNING:presidio-analyzer:Recognizer not added to registry because language is not supported by registry - ItFiscalCodeRecognizer supported languages: it, registry supported languages: en\n",
      "WARNING:presidio-analyzer:Recognizer not added to registry because language is not supported by registry - ItVatCodeRecognizer supported languages: it, registry supported languages: en\n",
      "WARNING:presidio-analyzer:Recognizer not added to registry because language is not supported by registry - ItIdentityCardRecognizer supported languages: it, registry supported languages: en\n",
      "WARNING:presidio-analyzer:Recognizer not added to registry because language is not supported by registry - ItPassportRecognizer supported languages: it, registry supported languages: en\n",
      "WARNING:presidio-analyzer:Recognizer not added to registry because language is not supported by registry - PlPeselRecognizer supported languages: pl, registry supported languages: en\n",
      "WARNING:presidio-analyzer:Entity DOMAIN_NAME doesn't have the corresponding recognizer in language : en\n"
     ]
    }
   ],
   "source": [
    "# Doing Nothing\n",
    "guard = Guard().use(\n",
    "    DetectPII(pii_entities=\"pii\", on_fail=\"fix\")\n",
    ")\n",
    "\n",
    "validation_result = guard.validate(\"Hello, my name is John Doe and my email is john.doe@example.com\")"
   ]
  },
  {
   "cell_type": "code",
   "execution_count": 19,
   "id": "0ace2bbf",
   "metadata": {},
   "outputs": [
    {
     "data": {
      "text/plain": [
       "'Hello, my name is <PERSON> and my email is <EMAIL_ADDRESS>'"
      ]
     },
     "execution_count": 19,
     "metadata": {},
     "output_type": "execute_result"
    }
   ],
   "source": [
    "validation_result.validated_output"
   ]
  },
  {
   "cell_type": "code",
   "execution_count": 21,
   "id": "1ebacf58",
   "metadata": {},
   "outputs": [
    {
     "data": {
      "text/plain": [
       "AIMessage(content=\"Sure! Here's a fake person and email address for you:\\n\\nName: Alex Morgan  \\nEmail: alex.morgan@example.com\", additional_kwargs={'refusal': None}, response_metadata={'token_usage': {'completion_tokens': 24, 'prompt_tokens': 15, 'total_tokens': 39, 'completion_tokens_details': {'accepted_prediction_tokens': 0, 'audio_tokens': 0, 'reasoning_tokens': 0, 'rejected_prediction_tokens': 0}, 'prompt_tokens_details': {'audio_tokens': 0, 'cached_tokens': 0}}, 'model_name': 'gpt-4.1-nano-2025-04-14', 'system_fingerprint': 'fp_f12167b370', 'id': 'chatcmpl-BcpVcDHecK1C8su0MDMtIuYk0mw8n', 'service_tier': 'default', 'finish_reason': 'stop', 'logprobs': None}, id='run--04709f5a-4c1c-4ce4-b1aa-cbc15b138f99-0', usage_metadata={'input_tokens': 15, 'output_tokens': 24, 'total_tokens': 39, 'input_token_details': {'audio': 0, 'cache_read': 0}, 'output_token_details': {'audio': 0, 'reasoning': 0}})"
      ]
     },
     "execution_count": 21,
     "metadata": {},
     "output_type": "execute_result"
    }
   ],
   "source": [
    "messages=[{\n",
    "        \"role\": \"user\",\n",
    "        \"content\": \"Make up a fake person and email address\",\n",
    "    }]\n",
    "llm.invoke(messages)"
   ]
  },
  {
   "cell_type": "code",
   "execution_count": 22,
   "id": "03c01f5d",
   "metadata": {},
   "outputs": [
    {
     "name": "stderr",
     "output_type": "stream",
     "text": [
      "WARNING:presidio-analyzer:Recognizer not added to registry because language is not supported by registry - CreditCardRecognizer supported languages: es, registry supported languages: en\n",
      "WARNING:presidio-analyzer:Recognizer not added to registry because language is not supported by registry - CreditCardRecognizer supported languages: it, registry supported languages: en\n",
      "WARNING:presidio-analyzer:Recognizer not added to registry because language is not supported by registry - CreditCardRecognizer supported languages: pl, registry supported languages: en\n",
      "WARNING:presidio-analyzer:Recognizer not added to registry because language is not supported by registry - EsNifRecognizer supported languages: es, registry supported languages: en\n",
      "WARNING:presidio-analyzer:Recognizer not added to registry because language is not supported by registry - EsNieRecognizer supported languages: es, registry supported languages: en\n",
      "WARNING:presidio-analyzer:Recognizer not added to registry because language is not supported by registry - ItDriverLicenseRecognizer supported languages: it, registry supported languages: en\n",
      "WARNING:presidio-analyzer:Recognizer not added to registry because language is not supported by registry - ItFiscalCodeRecognizer supported languages: it, registry supported languages: en\n",
      "WARNING:presidio-analyzer:Recognizer not added to registry because language is not supported by registry - ItVatCodeRecognizer supported languages: it, registry supported languages: en\n",
      "WARNING:presidio-analyzer:Recognizer not added to registry because language is not supported by registry - ItIdentityCardRecognizer supported languages: it, registry supported languages: en\n",
      "WARNING:presidio-analyzer:Recognizer not added to registry because language is not supported by registry - ItPassportRecognizer supported languages: it, registry supported languages: en\n",
      "WARNING:presidio-analyzer:Recognizer not added to registry because language is not supported by registry - PlPeselRecognizer supported languages: pl, registry supported languages: en\n",
      "/Users/hizkiafebianto/Documents/GitHub/revou-gen-ai-tutorial/venv/lib/python3.11/site-packages/guardrails/validator_service/__init__.py:85: UserWarning: Could not obtain an event loop. Falling back to synchronous validation.\n",
      "  warnings.warn(\n",
      "WARNING:presidio-analyzer:Entity DOMAIN_NAME doesn't have the corresponding recognizer in language : en\n",
      "WARNING:presidio-analyzer:Entity DOMAIN_NAME doesn't have the corresponding recognizer in language : en\n"
     ]
    },
    {
     "name": "stdout",
     "output_type": "stream",
     "text": [
      "Validated output:  Sure! Here's a fictional person without any personal identifiable information:\n",
      "\n",
      "**Name:** <PERSON>  \n",
      "**Email:** <EMAIL_ADDRESS>  \n",
      "\n",
      "Feel free to use this for any creative purposes!\n",
      "Number of reasks:  1\n"
     ]
    }
   ],
   "source": [
    "guard = Guard().use(\n",
    "    DetectPII(pii_entities=\"pii\", on_fail=\"reask\"),\n",
    ")\n",
    "\n",
    "res = guard(\n",
    "    messages=[{\n",
    "        \"role\": \"user\",\n",
    "        \"content\": \"Make up a fake person and email address\",\n",
    "    }],\n",
    "    model='gpt-4o-mini',\n",
    "    num_reasks=1\n",
    ")\n",
    "\n",
    "print(\"Validated output: \", res.validated_output)\n",
    "print(\"Number of reasks: \", len(guard.history.last.iterations) - 1)"
   ]
  },
  {
   "cell_type": "markdown",
   "id": "9f8be08f",
   "metadata": {},
   "source": [
    "---\n",
    "# Handling Structured Data "
   ]
  },
  {
   "cell_type": "code",
   "execution_count": 86,
   "id": "b84f98da",
   "metadata": {},
   "outputs": [
    {
     "data": {
      "text/html": [
       "<pre style=\"white-space:pre;overflow-x:auto;line-height:normal;font-family:Menlo,'DejaVu Sans Mono',consolas,'Courier New',monospace\">Installing hub:<span style=\"color: #800080; text-decoration-color: #800080\">//guardrails/</span><span style=\"color: #ff00ff; text-decoration-color: #ff00ff\">lowercase...</span>\n",
       "</pre>\n"
      ],
      "text/plain": [
       "Installing hub:\u001b[35m/\u001b[0m\u001b[35m/guardrails/\u001b[0m\u001b[95mlowercase...\u001b[0m\n"
      ]
     },
     "metadata": {},
     "output_type": "display_data"
    },
    {
     "data": {
      "text/html": [
       "<pre style=\"white-space:pre;overflow-x:auto;line-height:normal;font-family:Menlo,'DejaVu Sans Mono',consolas,'Courier New',monospace\">✅Successfully installed guardrails/lowercase version <span style=\"color: #008080; text-decoration-color: #008080; font-weight: bold\">0.0</span>.<span style=\"color: #008080; text-decoration-color: #008080; font-weight: bold\">0</span>!\n",
       "\n",
       "\n",
       "</pre>\n"
      ],
      "text/plain": [
       "✅Successfully installed guardrails/lowercase version \u001b[1;36m0.0\u001b[0m.\u001b[1;36m0\u001b[0m!\n",
       "\n",
       "\n"
      ]
     },
     "metadata": {},
     "output_type": "display_data"
    },
    {
     "data": {
      "text/plain": [
       "<module 'guardrails_grhub_lowercase' from '/Users/hizkiafebianto/Documents/GitHub/revou-gen-ai-tutorial/venv/lib/python3.11/site-packages/guardrails_grhub_lowercase/__init__.py'>"
      ]
     },
     "execution_count": 86,
     "metadata": {},
     "output_type": "execute_result"
    }
   ],
   "source": [
    "install(\"hub://guardrails/lowercase\")"
   ]
  },
  {
   "cell_type": "code",
   "execution_count": 87,
   "id": "76e2cb3f",
   "metadata": {},
   "outputs": [
    {
     "data": {
      "text/html": [
       "<pre style=\"white-space:pre;overflow-x:auto;line-height:normal;font-family:Menlo,'DejaVu Sans Mono',consolas,'Courier New',monospace\">Installing hub:<span style=\"color: #800080; text-decoration-color: #800080\">//guardrails/</span><span style=\"color: #ff00ff; text-decoration-color: #ff00ff\">valid_range...</span>\n",
       "</pre>\n"
      ],
      "text/plain": [
       "Installing hub:\u001b[35m/\u001b[0m\u001b[35m/guardrails/\u001b[0m\u001b[95mvalid_range...\u001b[0m\n"
      ]
     },
     "metadata": {},
     "output_type": "display_data"
    },
    {
     "data": {
      "text/html": [
       "<pre style=\"white-space:pre;overflow-x:auto;line-height:normal;font-family:Menlo,'DejaVu Sans Mono',consolas,'Courier New',monospace\">✅Successfully installed guardrails/valid_range version <span style=\"color: #008080; text-decoration-color: #008080; font-weight: bold\">0.0</span>.<span style=\"color: #008080; text-decoration-color: #008080; font-weight: bold\">0</span>!\n",
       "\n",
       "\n",
       "</pre>\n"
      ],
      "text/plain": [
       "✅Successfully installed guardrails/valid_range version \u001b[1;36m0.0\u001b[0m.\u001b[1;36m0\u001b[0m!\n",
       "\n",
       "\n"
      ]
     },
     "metadata": {},
     "output_type": "display_data"
    },
    {
     "data": {
      "text/plain": [
       "<module 'guardrails_grhub_valid_range' from '/Users/hizkiafebianto/Documents/GitHub/revou-gen-ai-tutorial/venv/lib/python3.11/site-packages/guardrails_grhub_valid_range/__init__.py'>"
      ]
     },
     "execution_count": 87,
     "metadata": {},
     "output_type": "execute_result"
    }
   ],
   "source": [
    "install(\"hub://guardrails/valid_range\")"
   ]
  },
  {
   "cell_type": "code",
   "execution_count": 90,
   "id": "e3c53e43",
   "metadata": {},
   "outputs": [
    {
     "name": "stdout",
     "output_type": "stream",
     "text": [
      "[{'item': 'burger', 'quantity': 1}, {'item': 'large fries', 'quantity': 2}, {'item': 'coke zero', 'quantity': 1}]\n"
     ]
    }
   ],
   "source": [
    "from guardrails.hub import LowerCase, ValidRange\n",
    "\n",
    "prompt = \"\"\"\n",
    "Given the following fast food order, please provide a summary of the orders.\n",
    "${order}\n",
    "${gr.complete_xml_suffix_v2}\n",
    "\"\"\"\n",
    "\n",
    "order = \"\"\"I want a BURGER with two LARGE FRIES and a coke zero.\"\"\"\n",
    "\n",
    "# MinimumOneRange is a hypothetical custom validator that an integer > 0 is supplied\n",
    "class Lineitem(BaseModel):\n",
    "    item: str = Field(description=\"The name of the item being ordered.\", validators=[LowerCase(on_fail=\"fix\")])\n",
    "    quantity: int = Field(description=\"The quantity of the item being ordered\", validators=[ValidRange(min=1, max=10, on_fail=\"fix\")])\n",
    "\n",
    "guard = Guard.from_pydantic(output_class=List[Lineitem])\n",
    "\n",
    "response = guard(\n",
    "    model=\"gpt-4.1\",\n",
    "    messages=[{\n",
    "        \"role\": \"system\",\n",
    "        \"content\": \"You are a helpful assistant.\"\n",
    "    },{\n",
    "        \"role\": \"user\",\n",
    "        \"content\": prompt\n",
    "    }],\n",
    "    prompt_params={\"order\": order},\n",
    ")\n",
    "\n",
    "print(response.validated_output)\n",
    "\n",
    "# [{'item': 'burger', 'quantity': 1},\n",
    "#  {'item': 'fries', 'quantity': 2},\n",
    "#  {'item': 'coke zero', 'quantity': 1}]"
   ]
  },
  {
   "cell_type": "code",
   "execution_count": 91,
   "id": "e306e459",
   "metadata": {},
   "outputs": [
    {
     "data": {
      "text/plain": [
       "True"
      ]
     },
     "execution_count": 91,
     "metadata": {},
     "output_type": "execute_result"
    }
   ],
   "source": [
    "response.validation_passed"
   ]
  },
  {
   "cell_type": "code",
   "execution_count": 92,
   "id": "ed350b32",
   "metadata": {},
   "outputs": [
    {
     "data": {
      "text/plain": [
       "'[\\n  {\"item\": \"burger\", \"quantity\": 1},\\n  {\"item\": \"large fries\", \"quantity\": 2},\\n  {\"item\": \"coke zero\", \"quantity\": 1}\\n]'"
      ]
     },
     "execution_count": 92,
     "metadata": {},
     "output_type": "execute_result"
    }
   ],
   "source": [
    "response.raw_llm_output"
   ]
  },
  {
   "cell_type": "code",
   "execution_count": 93,
   "id": "e29700d5",
   "metadata": {},
   "outputs": [
    {
     "data": {
      "text/plain": [
       "[{'item': 'burger', 'quantity': 1},\n",
       " {'item': 'large fries', 'quantity': 2},\n",
       " {'item': 'coke zero', 'quantity': 1}]"
      ]
     },
     "execution_count": 93,
     "metadata": {},
     "output_type": "execute_result"
    }
   ],
   "source": [
    "response.validated_output"
   ]
  },
  {
   "cell_type": "markdown",
   "id": "b00dae15",
   "metadata": {},
   "source": [
    "# END"
   ]
  }
 ],
 "metadata": {
  "kernelspec": {
   "display_name": "venv",
   "language": "python",
   "name": "python3"
  },
  "language_info": {
   "codemirror_mode": {
    "name": "ipython",
    "version": 3
   },
   "file_extension": ".py",
   "mimetype": "text/x-python",
   "name": "python",
   "nbconvert_exporter": "python",
   "pygments_lexer": "ipython3",
   "version": "3.11.5"
  }
 },
 "nbformat": 4,
 "nbformat_minor": 5
}
