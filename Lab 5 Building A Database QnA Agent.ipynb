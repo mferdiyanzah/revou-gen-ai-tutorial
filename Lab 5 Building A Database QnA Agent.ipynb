{
 "cells": [
  {
   "cell_type": "markdown",
   "id": "afc0f566",
   "metadata": {},
   "source": [
    "# Lab 5: Building A Database QnA Agent"
   ]
  },
  {
   "cell_type": "markdown",
   "id": "75d78c9d",
   "metadata": {},
   "source": [
    "Before we dive into building our Database QnA Agent, let's revisit the concept of a Tool.\n",
    "\n",
    "1. AI Message with Tool Calls: When LLMs determine that they need to call some tools to fulfill a user's request, they return an AIMessage with the tool_calls parameter populated. At this stage, the tools have not been executed yet.\n",
    "\n",
    "2. Tool Node: The execution of tools occurs in the Tool Node. This node must be placed directly after the node that invoked the tool, and it must include the tools being called. The result of the execution will be returned as Tool Messages.\n",
    "\n",
    "3. Tool Message: This is the response from the Tool Node containing the result of the execution. You can directly append this Tool Message to the graph state.\n",
    "\n",
    "\n",
    "### A Simple Agent with Tool Calling"
   ]
  },
  {
   "cell_type": "code",
   "execution_count": null,
   "id": "83d717c4",
   "metadata": {},
   "outputs": [],
   "source": [
    "# loading environment variables \n",
    "from dotenv import load_dotenv\n",
    "load_dotenv(override=True)  # take environment variables"
   ]
  },
  {
   "cell_type": "code",
   "execution_count": null,
   "id": "0ff3ba2a",
   "metadata": {},
   "outputs": [],
   "source": [
    "from langchain.chat_models import init_chat_model\n",
    "from langgraph.prebuilt import create_react_agent\n",
    "\n",
    "def add(a: int, b: int) -> int:\n",
    "    \"\"\"Add two numbers\"\"\"\n",
    "    return a + b\n",
    "\n",
    "def multiply(a: int, b: int) -> int:\n",
    "    \"\"\"Multiply two numbers.\"\"\"\n",
    "    return a * b\n",
    "\n",
    "model = init_chat_model(\"openai:gpt-4.1-nano\", temperature=0)\n",
    "tools = [add, multiply]\n",
    "agent = create_react_agent(\n",
    "    # disable parallel tool calls\n",
    "    model=model.bind_tools(tools, parallel_tool_calls=False),\n",
    "    tools=tools\n",
    ")\n",
    "\n",
    "# Show graph \n",
    "from IPython.display import Image, display\n",
    "display(Image(agent.get_graph(xray=True).draw_mermaid_png()))"
   ]
  },
  {
   "cell_type": "code",
   "execution_count": null,
   "id": "29a388ba",
   "metadata": {},
   "outputs": [],
   "source": [
    "agent.invoke(\n",
    "    {\"messages\": [{\"role\": \"user\", \"content\": \"what's 12 + 5 and 14 * 7?\"}]}\n",
    ")"
   ]
  },
  {
   "cell_type": "markdown",
   "id": "e033be2d",
   "metadata": {},
   "source": [
    "## Initialize Database"
   ]
  },
  {
   "cell_type": "code",
   "execution_count": null,
   "id": "f9f92b84",
   "metadata": {},
   "outputs": [],
   "source": [
    "import sqlite3\n",
    "\n",
    "# Connect to the database\n",
    "# Automatically creating a database if it does not exist\n",
    "DB_PATH = './sqlite/chinook.db'\n",
    "connection = sqlite3.connect(DB_PATH)"
   ]
  },
  {
   "cell_type": "code",
   "execution_count": null,
   "id": "c1ade309",
   "metadata": {},
   "outputs": [],
   "source": [
    "# Check the created database \n",
    "\n",
    "# create a cursor\n",
    "cursor = connection.cursor()\n",
    "\n",
    "# Get tables\n",
    "cursor.execute(\"SELECT name FROM sqlite_master WHERE type='table';\")\n",
    "tables = cursor.fetchall()\n",
    "\n",
    "for table in tables:\n",
    "    print(table)"
   ]
  },
  {
   "cell_type": "code",
   "execution_count": null,
   "id": "e7208d29",
   "metadata": {},
   "outputs": [],
   "source": [
    "# Populate database \n",
    "seed = \"\"\n",
    "with open('./sqlite/chinook.sql', 'r') as f:\n",
    "    seed = f.read()\n",
    "\n",
    "# execute the script\n",
    "cursor.executescript(seed)\n",
    "\n",
    "# Get tables again \n",
    "cursor.execute(\"SELECT name FROM sqlite_master WHERE type='table';\")\n",
    "tables = cursor.fetchall()\n",
    "\n",
    "for table in tables:\n",
    "    print(table[0])"
   ]
  },
  {
   "cell_type": "code",
   "execution_count": null,
   "id": "4b46c6df",
   "metadata": {},
   "outputs": [],
   "source": [
    "# Supporting function \n",
    "def create_cursor(path_to_db:str):\n",
    "    connection = sqlite3.connect(path_to_db)\n",
    "    return connection.cursor()"
   ]
  },
  {
   "cell_type": "markdown",
   "id": "11c4d898",
   "metadata": {},
   "source": [
    "# Build Tools\n"
   ]
  },
  {
   "cell_type": "code",
   "execution_count": null,
   "id": "534569ee",
   "metadata": {},
   "outputs": [],
   "source": [
    "from langchain_core.tools import tool\n",
    "\n",
    "@tool(\"get_table_list\", parse_docstring=True)\n",
    "def get_table_list(db_name):\n",
    "    \"\"\" \n",
    "        A tool to get a list of all tables from the database. The tool requires database connection and returns list of tables inside the database. \n",
    "\n",
    "        Args:\n",
    "        db_name = database connection \n",
    "\n",
    "        Return: \n",
    "        list of table names\n",
    "    \"\"\"\n",
    "    # create a cursor \n",
    "    cursor = create_cursor(db_name)\n",
    "\n",
    "    # get table list\n",
    "    cursor.execute(\"SELECT name FROM sqlite_master WHERE type='table';\")\n",
    "    tables = cursor.fetchall()  \n",
    "\n",
    "    # return\n",
    "    return [table[0] for table in tables]\n",
    "\n",
    "@tool(\"get_table_schema\", parse_docstring=True)\n",
    "def get_table_schema(table_list, db_name):\n",
    "    \"\"\" \n",
    "        This tool fetches table schema and a connetion to the database. It will return column names, column data types, default values. \n",
    "\n",
    "        Args: \n",
    "        table_list = list of table names\n",
    "        db_name = database name or path to database\n",
    "\n",
    "        Return: \n",
    "        A string containing schema of tables in the table_list\n",
    "    \"\"\"\n",
    "    # create a cursor \n",
    "    cursor = create_cursor(db_name)\n",
    "\n",
    "    # get table info\n",
    "    output_string = \"\"\n",
    "    for table in table_list: \n",
    "        cursor.execute(f\"PRAGMA table_info({table});\")\n",
    "        column_list = cursor.fetchall()  \n",
    "    \n",
    "        # constructing output \n",
    "        constructed_tbl_info = \"\"\n",
    "        if len(column_list) == 0: \n",
    "            field_names = \"Table is not found. Try a different name.\"\n",
    "        else:\n",
    "            field_names = \" | \".join([column[0] for column in cursor.description])\n",
    "            for column in column_list: \n",
    "                cid = column[0]\n",
    "                name = column[1]\n",
    "                type = column[2]\n",
    "                notnull =  \"True\" if column[3] == 1 else \"False\"\n",
    "                default_value = column[4]\n",
    "                pk = \"Primary Key\" if column[5] == 1 else \"Not PK\"\n",
    "                constructed_tbl_info += f\"\\t{cid} | {name} | {type} | {notnull} | {default_value} | {pk} \\n\"\n",
    "\n",
    "        output_string += f\"\"\"Table name: {table}\\n\\t{field_names}\\n{constructed_tbl_info}\\n\"\"\"\n",
    "\n",
    "    return output_string\n"
   ]
  },
  {
   "cell_type": "code",
   "execution_count": null,
   "id": "128f0fd8",
   "metadata": {},
   "outputs": [],
   "source": [
    "# Check the get table list tool \n",
    "get_table_list.invoke({\"db_name\":DB_PATH})"
   ]
  },
  {
   "cell_type": "code",
   "execution_count": null,
   "id": "0d3ae7be",
   "metadata": {},
   "outputs": [],
   "source": [
    "# Check get table schema tool \n",
    "# print(get_table_schema.invoke({\"table_list\":['artists'], \"db_name\": DB_PATH}))\n",
    "# print(get_table_schema.invoke({\"table_list\":['artists','employees','playlists'], \"db_name\": DB_PATH}))\n",
    "print(get_table_schema.invoke({\"table_list\":['artists','employee','playlist'], \"db_name\": DB_PATH}))"
   ]
  },
  {
   "cell_type": "markdown",
   "id": "381d1c4e",
   "metadata": {},
   "source": [
    "## Initiating LLM and Loading Environment Variables"
   ]
  },
  {
   "cell_type": "code",
   "execution_count": null,
   "id": "59b79aa1",
   "metadata": {},
   "outputs": [],
   "source": [
    "# loading environment variables \n",
    "from dotenv import load_dotenv\n",
    "load_dotenv(override=True)  # take environment variables"
   ]
  },
  {
   "cell_type": "code",
   "execution_count": null,
   "id": "f66cf21d",
   "metadata": {},
   "outputs": [],
   "source": [
    "# Initiating Langchain Chat Models\n",
    "from langchain.chat_models import init_chat_model\n",
    "model = init_chat_model(\"gpt-4.1-mini\", model_provider= \"openai\")"
   ]
  },
  {
   "cell_type": "markdown",
   "id": "04603095",
   "metadata": {},
   "source": [
    "## Build Get Table and Get Schema Nodes"
   ]
  },
  {
   "cell_type": "code",
   "execution_count": null,
   "id": "07947190",
   "metadata": {},
   "outputs": [],
   "source": [
    "# Make Query \n",
    "# Check Query \n",
    "# Check Result\n",
    "\n",
    "from langgraph.prebuilt import ToolNode\n",
    "from langgraph.graph import MessagesState\n",
    "from typing import Any, Annotated, Literal\n",
    "from langchain_core.messages import AIMessage, HumanMessage, ToolMessage, SystemMessage\n",
    "\n",
    "# expand the MessagesState\n",
    "class DBGraphState(MessagesState):\n",
    "    db_name: Annotated[Any, \"Database location\"]\n",
    "    user_question: Annotated[str, \"User question that must be answered by querying the database\"]\n",
    "\n",
    "# the first node\n",
    "def list_tables(state: DBGraphState):\n",
    "    tool_call = {\n",
    "        \"name\": \"get_table_list\",\n",
    "        \"args\": {\n",
    "            \"db_name\": state[\"db_name\"]\n",
    "        },\n",
    "        \"id\": \"abc123\",\n",
    "        \"type\": \"tool_call\"\n",
    "    }\n",
    "    tool_call_message = AIMessage(content=\"I am calling a tool to get list of tables from the database.\", tool_calls=[tool_call])\n",
    "    tool_message = get_table_list.invoke(tool_call)\n",
    "    response = AIMessage(content=f\"Available tables: {tool_message.content}\")\n",
    "\n",
    "    return {'messages': response}\n",
    "\n",
    "# the second node\n",
    "def get_schema_node(state: DBGraphState):\n",
    "    \n",
    "    input_question = state[\"user_question\"]\n",
    "    available_tables = state[\"messages\"][-1]\n",
    "    db_name = state[\"db_name\"]\n",
    "    instruction = [SystemMessage(content=f'''You are a business analyst from Dexa and an SQL expert. You receive a question from the user and a list of available\n",
    "                                table in the database. Use the tool to get the structures of possible tables that you will use to construct the query later.\n",
    "                                db_name = {db_name}\n",
    "                                Here is the question from the user: {input_question}''')\n",
    "                    ] + [available_tables]\n",
    "    model_with_tools = model.bind_tools([get_table_schema], tool_choice=\"any\")\n",
    "    response = model_with_tools.invoke(instruction)\n",
    "\n",
    "    # invoking tool \n",
    "    return {\"messages\": response}\n",
    "\n",
    "invoking_tool_node = ToolNode([get_table_schema], name=\"invoking_tool_node\")"
   ]
  },
  {
   "cell_type": "markdown",
   "id": "d4b5b9d8",
   "metadata": {},
   "source": [
    "## Build the Graph"
   ]
  },
  {
   "cell_type": "code",
   "execution_count": null,
   "id": "d92980e0",
   "metadata": {},
   "outputs": [],
   "source": [
    "from langgraph.graph import StateGraph, START, END\n",
    "from langchain_core.messages import HumanMessage, SystemMessage, AIMessage\n",
    "\n",
    "builder = StateGraph(DBGraphState)\n",
    "builder.add_node(\"get_table_list\", list_tables)\n",
    "builder.add_node(get_schema_node)\n",
    "builder.add_node(invoking_tool_node, \"invoking_tool_node\")\n",
    "\n",
    "builder.add_edge(START, \"get_table_list\")\n",
    "builder.add_edge(\"get_table_list\",\"get_schema_node\")\n",
    "builder.add_edge(\"get_schema_node\",\"invoking_tool_node\")\n",
    "builder.add_edge(\"invoking_tool_node\", END)\n",
    "\n",
    "graph = builder.compile()\n",
    "\n",
    "# Show graph \n",
    "from IPython.display import Image, display\n",
    "display(Image(graph.get_graph(xray=True).draw_mermaid_png()))"
   ]
  },
  {
   "cell_type": "markdown",
   "id": "ee83a357",
   "metadata": {},
   "source": [
    "## Invoke the graph"
   ]
  },
  {
   "cell_type": "code",
   "execution_count": null,
   "id": "fbb56a2f",
   "metadata": {},
   "outputs": [],
   "source": [
    "user_question = \"How many customers does our employee represents, on average?\"\n",
    "\n",
    "response = graph.invoke({\"messages\":HumanMessage(content=user_question), \"db_name\": DB_PATH, \"user_question\" : user_question})\n",
    "\n",
    "for m in response['messages']: \n",
    "    m.pretty_print()"
   ]
  },
  {
   "cell_type": "markdown",
   "id": "d352c811",
   "metadata": {},
   "source": [
    "## Building Query Generation Node"
   ]
  },
  {
   "cell_type": "code",
   "execution_count": null,
   "id": "2690c967",
   "metadata": {},
   "outputs": [],
   "source": [
    "## Let's build the node\n",
    "\n",
    "def write_query(state:DBGraphState):\n",
    "    dialect = \"sqlite\"\n",
    "    top_k = 10\n",
    "    instruction = SystemMessage(content=f'''You are an agent designed to interact with a SQL database.\n",
    "                        Given an input question, create a syntactically correct {dialect} query to run,\n",
    "                        then look at the results of the query and return the answer. Unless the user\n",
    "                        specifies a specific number of examples they wish to obtain, always limit your\n",
    "                        query to at most {top_k} results.\n",
    "\n",
    "                        You can order the results by a relevant column to return the most interesting\n",
    "                        examples in the database. Never query for all the columns from a specific table,\n",
    "                        only ask for the relevant columns given the question.\n",
    "\n",
    "                        DO NOT make any DML statements (INSERT, UPDATE, DELETE, DROP etc.) to the database.''')\n",
    "    \n",
    "    response = model.invoke([instruction] + state[\"messages\"])    \n",
    "   \n",
    "    return {\"messages\": response}\n"
   ]
  },
  {
   "cell_type": "code",
   "execution_count": null,
   "id": "c42415e2",
   "metadata": {},
   "outputs": [],
   "source": [
    "builder = StateGraph(DBGraphState)\n",
    "builder.add_node(\"get_table_list\", list_tables)\n",
    "builder.add_node(get_schema_node)\n",
    "builder.add_node(invoking_tool_node, \"invoking_tool_node\")\n",
    "builder.add_node(write_query)\n",
    "\n",
    "builder.add_edge(START, \"get_table_list\")\n",
    "builder.add_edge(\"get_table_list\",\"get_schema_node\")\n",
    "builder.add_edge(\"get_schema_node\",\"invoking_tool_node\")\n",
    "builder.add_edge(\"invoking_tool_node\", \"write_query\")\n",
    "builder.add_edge(\"write_query\", END)\n",
    "\n",
    "graph = builder.compile()\n",
    "\n",
    "# Show graph \n",
    "from IPython.display import Image, display\n",
    "display(Image(graph.get_graph(xray=True).draw_mermaid_png()))"
   ]
  },
  {
   "cell_type": "code",
   "execution_count": null,
   "id": "18d3ddd3",
   "metadata": {},
   "outputs": [],
   "source": [
    "user_question = \"How many customers does our employee represents, on average?\"\n",
    "\n",
    "response = graph.invoke({\"messages\":HumanMessage(content=user_question), \"db_name\": DB_PATH, \"user_question\" : user_question})\n",
    "\n",
    "for m in response['messages']: \n",
    "    m.pretty_print()"
   ]
  },
  {
   "cell_type": "markdown",
   "id": "5d3fca37",
   "metadata": {},
   "source": [
    "## Writing Runing Query Tool"
   ]
  },
  {
   "cell_type": "code",
   "execution_count": null,
   "id": "da583c73",
   "metadata": {},
   "outputs": [],
   "source": [
    "## tool for running query \n",
    "@tool(\"running_query\", parse_docstring=True)\n",
    "def running_query(query:str, db_name:str):\n",
    "    \"\"\"\n",
    "        This tool runs the given query against a database names db_name.\n",
    "\n",
    "        Args: \n",
    "        query = query statement that will be executed \n",
    "        db_name = location of the database to which the query will be executed\n",
    "\n",
    "        Return: \n",
    "        result of the query in string.\n",
    "    \"\"\"\n",
    "    # creating cursor\n",
    "    cursor = create_cursor(db_name)\n",
    "\n",
    "    # executing the query\n",
    "    cursor.execute(query)\n",
    "    query_result = cursor.fetchall()\n",
    "\n",
    "    # constructing output \n",
    "    data_string = \"\"\n",
    "    if len(query_result) == 0: \n",
    "        field_names = \"No data is returned.\"\n",
    "    else:\n",
    "        field_names = \" | \".join([column[0] for column in cursor.description])\n",
    "        for record in query_result: \n",
    "            data_string += \" | \".join([str(cell) for cell in record]) + \"\\n\"\n",
    "\n",
    "    output_string = f\"\"\"{field_names}\\n{data_string}\\n\"\"\"\n",
    "    return output_string\n"
   ]
  },
  {
   "cell_type": "code",
   "execution_count": null,
   "id": "d33beaa8",
   "metadata": {},
   "outputs": [],
   "source": [
    "## Testing Running Query Tool\n",
    "query_sample = \"\"\"SELECT * FROM employees limit 20\"\"\"\n",
    "print(running_query.invoke({\"query\": query_sample, \"db_name\": DB_PATH}))"
   ]
  },
  {
   "cell_type": "markdown",
   "id": "c77af194",
   "metadata": {},
   "source": [
    "## Defining Final Nodes"
   ]
  },
  {
   "cell_type": "code",
   "execution_count": null,
   "id": "1415de48",
   "metadata": {},
   "outputs": [],
   "source": [
    "def check_query(state: DBGraphState):\n",
    "    dialect = 'sqlite'\n",
    "    instruction = SystemMessage(content=f'''You are a SQL expert with a strong attention to detail.\n",
    "    Double check the {dialect} query for common mistakes, including:\n",
    "    - Using NOT IN with NULL values\n",
    "    - Using UNION when UNION ALL should have been used\n",
    "    - Using BETWEEN for exclusive ranges\n",
    "    - Data type mismatch in predicates\n",
    "    - Properly quoting identifiers\n",
    "    - Using the correct number of arguments for functions\n",
    "    - Casting to the correct data type\n",
    "    - Using the proper columns for joins\n",
    "\n",
    "    If there are any of the above mistakes, rewrite the query. If there are no mistakes,\n",
    "    just reproduce the original query.\n",
    "\n",
    "    Forbid any DML statements (INSERT, UPDATE, DELETE, DROP, TRUNCATE). If the query statement contains those statements, respond by \"Forbidden query\"\n",
    "    ''')\n",
    "    \n",
    "    response = model.invoke([instruction] + state[\"messages\"])    \n",
    "    return {\"messages\": response}\n",
    "\n",
    "def run_query_node(state:DBGraphState):\n",
    "    query_checking_result = state[\"messages\"][-1]\n",
    "    dialect = 'sqlite'\n",
    "    db_name = DB_PATH\n",
    "    instruction = [SystemMessage(content=f'''If the last node is resulted in a forbidden query, proceed to the next node, explain why it is forbidden and skip calling tool.\n",
    "                                 If the result is a valid {dialect} query statement, run the query by calling the given tool.\n",
    "                                database_name = {db_name}\n",
    "                                '''), query_checking_result]\n",
    "    \n",
    "    # Let the model decide \n",
    "    model_with_tools = model.bind_tools([running_query])\n",
    "    model_response = model_with_tools.invoke(instruction)\n",
    "    \n",
    "    response = [model_response]\n",
    "    \n",
    "    # Manually calling tools \n",
    "    if model_response.tool_calls: \n",
    "        result = []\n",
    "        for tool_call in model_response.tool_calls:\n",
    "            tool_invocation_result = running_query.invoke(tool_call['args'])\n",
    "            result.append(ToolMessage(content=tool_invocation_result, tool_call_id=tool_call[\"id\"]))\n",
    "            \n",
    "        response += result\n",
    "\n",
    "    return {\"messages\": response}\n",
    "\n",
    "def final_answer(state:DBGraphState):\n",
    "    user_question = state['user_question']\n",
    "    query_result = state['messages'][-1]\n",
    "    instruction= [SystemMessage(content=f'''Decide whether you can answer user question from the query result. If you have enough information, \n",
    "                               respond with the answer. \n",
    "                               If you do not have enough information, tell me your plan to get more accurate answer.\n",
    "                               Here is the user question: {user_question}\n",
    "                               Here is the query result: \\n {query_result}\n",
    "                               ''')]\n",
    "    response = model.invoke(instruction)\n",
    "\n",
    "    return {\"messages\": response}\n",
    "\n",
    "# conditional node\n",
    "def is_enough(state:DBGraphState) -> Literal['write_query', END]:\n",
    "    user_question = state['user_question']\n",
    "    last_responses = state['messages'][-3:]\n",
    "    instruction = [SystemMessage(content=f\"\"\"Answer only with 'enough' or 'not enough'. Answer with 'enough', if your response indicate that \n",
    "                                there is enough information from the tool message to answer user question. Answer with 'enough' when \n",
    "                                the user asks you to perform a forbidden query. Answer with 'not enough' if otherwise.\n",
    "                                User question = {user_question}\"\"\")\n",
    "                                ] + last_responses\n",
    "\n",
    "    response = model.invoke(instruction)\n",
    "    response.content\n",
    "    if response.content == 'enough':\n",
    "        return END\n",
    "    else:\n",
    "        return \"write_query\"\n"
   ]
  },
  {
   "cell_type": "code",
   "execution_count": null,
   "id": "a3cf58bc",
   "metadata": {},
   "outputs": [],
   "source": [
    "builder = StateGraph(DBGraphState)\n",
    "builder.add_node(\"get_table_list\", list_tables)\n",
    "builder.add_node(get_schema_node)\n",
    "builder.add_node(invoking_tool_node, \"invoking_tool_node\")\n",
    "builder.add_node(write_query)\n",
    "builder.add_node(check_query)\n",
    "builder.add_node(run_query_node)\n",
    "builder.add_node(final_answer)\n",
    "\n",
    "builder.add_edge(START, \"get_table_list\")\n",
    "builder.add_edge(\"get_table_list\",\"get_schema_node\")\n",
    "builder.add_edge(\"get_schema_node\",\"invoking_tool_node\")\n",
    "builder.add_edge(\"invoking_tool_node\", \"write_query\")\n",
    "builder.add_edge(\"write_query\", \"check_query\")\n",
    "builder.add_edge(\"check_query\", \"run_query_node\")\n",
    "builder.add_edge(\"run_query_node\", \"final_answer\")\n",
    "builder.add_conditional_edges(\"final_answer\", is_enough)\n",
    "\n",
    "graph = builder.compile()\n",
    "\n",
    "# Show graph \n",
    "from IPython.display import Image, display\n",
    "display(Image(graph.get_graph(xray=True).draw_mermaid_png()))"
   ]
  },
  {
   "cell_type": "markdown",
   "id": "b7e7c36c",
   "metadata": {},
   "source": [
    "## Testing the Agent"
   ]
  },
  {
   "cell_type": "code",
   "execution_count": null,
   "id": "237dc6e3",
   "metadata": {},
   "outputs": [],
   "source": [
    "user_question = \"How many customers does our employee represents, on average?\"\n",
    "\n",
    "response = graph.invoke({\"messages\":HumanMessage(content=user_question), \"db_name\": DB_PATH, \"user_question\" : user_question})\n",
    "\n",
    "for m in response['messages']: \n",
    "    m.pretty_print()"
   ]
  },
  {
   "cell_type": "code",
   "execution_count": null,
   "id": "c007af06",
   "metadata": {},
   "outputs": [],
   "source": [
    "user_question = \"which artist name is the most popular?\"\n",
    "\n",
    "response = graph.invoke({\"messages\":HumanMessage(content=user_question), \"db_name\": DB_PATH, \"user_question\" : user_question})\n",
    "\n",
    "for m in response['messages']: \n",
    "    m.pretty_print()"
   ]
  },
  {
   "cell_type": "code",
   "execution_count": null,
   "id": "bade59b1",
   "metadata": {},
   "outputs": [],
   "source": [
    "for event in graph.stream({\"messages\":HumanMessage(content=user_question), \"db_name\": DB_PATH, \"user_question\" : user_question}):\n",
    "    print(event)"
   ]
  },
  {
   "cell_type": "code",
   "execution_count": null,
   "id": "bea6a636",
   "metadata": {},
   "outputs": [],
   "source": [
    "user_question = \"How is the monthly sales of Iron Maiden in the last 3 months from the latest date in the database? Sales is measured by number of invoices that contain the tracks from Iron Maiden.\"\n",
    "\n",
    "response = graph.invoke({\"messages\":HumanMessage(content=user_question), \"db_name\": DB_PATH, \"user_question\" : user_question})\n",
    "\n",
    "for m in response['messages']: \n",
    "    m.pretty_print()"
   ]
  },
  {
   "cell_type": "code",
   "execution_count": null,
   "id": "f40c87d6",
   "metadata": {},
   "outputs": [],
   "source": [
    "user_question = \"delete table playlists\"\n",
    "\n",
    "response = graph.invoke({\"messages\":HumanMessage(content=user_question), \"db_name\": DB_PATH, \"user_question\" : user_question})\n",
    "\n",
    "for m in response['messages']: \n",
    "    m.pretty_print()"
   ]
  },
  {
   "cell_type": "code",
   "execution_count": null,
   "id": "38702eb1",
   "metadata": {},
   "outputs": [],
   "source": [
    "user_question = \"truncate table playlists\"\n",
    "\n",
    "response = graph.invoke({\"messages\":HumanMessage(content=user_question), \"db_name\": DB_PATH, \"user_question\" : user_question})\n",
    "\n",
    "for m in response['messages']: \n",
    "    m.pretty_print()"
   ]
  },
  {
   "cell_type": "markdown",
   "id": "995825de",
   "metadata": {},
   "source": [
    "# END"
   ]
  }
 ],
 "metadata": {
  "kernelspec": {
   "display_name": "venv",
   "language": "python",
   "name": "python3"
  },
  "language_info": {
   "codemirror_mode": {
    "name": "ipython",
    "version": 3
   },
   "file_extension": ".py",
   "mimetype": "text/x-python",
   "name": "python",
   "nbconvert_exporter": "python",
   "pygments_lexer": "ipython3",
   "version": "3.11.5"
  }
 },
 "nbformat": 4,
 "nbformat_minor": 5
}
