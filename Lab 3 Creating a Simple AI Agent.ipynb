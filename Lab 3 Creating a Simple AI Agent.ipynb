{
 "cells": [
  {
   "cell_type": "markdown",
   "id": "31eb82ef",
   "metadata": {},
   "source": [
    "# LAB 3: Creating a simple AI Agent with Langchain"
   ]
  },
  {
   "cell_type": "markdown",
   "id": "f1e2a34f",
   "metadata": {},
   "source": [
    "## Initiation"
   ]
  },
  {
   "cell_type": "code",
   "execution_count": null,
   "id": "ad6f52e6",
   "metadata": {},
   "outputs": [],
   "source": [
    "# Run this cell if you have not installed langchain in your environment\n",
    "!pip install langchain\n",
    "!pip install langchain-openai"
   ]
  },
  {
   "cell_type": "code",
   "execution_count": null,
   "id": "a58d2533",
   "metadata": {},
   "outputs": [],
   "source": [
    "# loading environment variables \n",
    "from dotenv import load_dotenv\n",
    "load_dotenv(override=True)  # take environment variables"
   ]
  },
  {
   "cell_type": "code",
   "execution_count": null,
   "id": "33f26eec",
   "metadata": {},
   "outputs": [],
   "source": [
    "# Explain how to generate apikey from Tavily dashboard\n",
    "TAVILY_API_KEY = \"<insert your tavily key here>\""
   ]
  },
  {
   "cell_type": "code",
   "execution_count": null,
   "id": "c68dc1f1",
   "metadata": {},
   "outputs": [],
   "source": [
    "# Initiating Langchain Chat Models\n",
    "from langchain.chat_models import init_chat_model\n",
    "model = init_chat_model(\"gpt-4.1-mini\", model_provider= \"openai\")"
   ]
  },
  {
   "cell_type": "code",
   "execution_count": null,
   "id": "45e96612",
   "metadata": {},
   "outputs": [],
   "source": [
    "# Since we need a tool from langchain community, we need to install the package first\n",
    "!pip install langchain-community"
   ]
  },
  {
   "cell_type": "markdown",
   "id": "2be4e035",
   "metadata": {},
   "source": [
    "## Tool Calling with Langchain"
   ]
  },
  {
   "cell_type": "code",
   "execution_count": null,
   "id": "7bfb58e4",
   "metadata": {},
   "outputs": [],
   "source": [
    "# Tool 1: Google Search\n",
    "from langchain_community.tools.tavily_search import TavilySearchResults\n",
    "search = TavilySearchResults(max_results=2)\n",
    "search.invoke(\"langchain tutorial\")"
   ]
  },
  {
   "cell_type": "code",
   "execution_count": null,
   "id": "5653952d",
   "metadata": {},
   "outputs": [],
   "source": [
    "# Tool 2: Weather\n",
    "import requests\n",
    "from langchain_core.tools import tool\n",
    "\n",
    "@tool(parse_docstring=True)\n",
    "def get_weather(latitude, longitude):\n",
    "    \"\"\"\n",
    "        Use this tool to get current temperature and wind speed around a certain location. Search longitude and latitude from the internet.\n",
    "\n",
    "        args:\n",
    "            latitude : latitude value of the location\n",
    "            longitude : longitude value of the location\n",
    "    \"\"\"\n",
    "    response = requests.get(f\"https://api.open-meteo.com/v1/forecast?latitude={latitude}&longitude={longitude}&current=temperature_2m,wind_speed_10m&hourly=temperature_2m,relative_humidity_2m,wind_speed_10m\")\n",
    "    data = response.json()\n",
    "    return data['current']"
   ]
  },
  {
   "cell_type": "code",
   "execution_count": null,
   "id": "abfe03ea",
   "metadata": {},
   "outputs": [],
   "source": [
    "# Testing Tool 2\n",
    "get_weather.invoke({'latitude': \"-6.8999\", \"longitude\": \"108.89998\"})"
   ]
  },
  {
   "cell_type": "code",
   "execution_count": null,
   "id": "f8e7905e",
   "metadata": {},
   "outputs": [],
   "source": [
    "!pip install yfinance"
   ]
  },
  {
   "cell_type": "code",
   "execution_count": null,
   "id": "f288d7ac",
   "metadata": {},
   "outputs": [],
   "source": [
    "# Tool 3: Stock Price \n",
    "import yfinance as yf\n",
    "\n",
    "@tool(parse_docstring=True)\n",
    "def get_stock_price(ticker: str) -> str:\n",
    "    '''\n",
    "        This function is called to get the latest closing stock price of a company. \n",
    "        \n",
    "        Args:\n",
    "            ticker (str): The stock ticker symbol (e.g., 'AAPL', 'GOOG').\n",
    "\n",
    "        Returns:\n",
    "            str: A message with the latest closing stock price, or an error message if data is unavailable.\n",
    "    '''\n",
    "    stock = yf.Ticker(ticker)\n",
    "    data = stock.history(period=\"1d\")\n",
    "    if data.empty:\n",
    "        return f\"No data found for {ticker}.\"\n",
    "    latest_price = data['Close'].iloc[-1]\n",
    "    return f\"The latest closing price of {ticker} is ${latest_price:.2f}\""
   ]
  },
  {
   "cell_type": "code",
   "execution_count": null,
   "id": "66a6f9d9",
   "metadata": {},
   "outputs": [],
   "source": [
    "get_stock_price.invoke(\"AAPL\")"
   ]
  },
  {
   "cell_type": "code",
   "execution_count": null,
   "id": "a6ff7795",
   "metadata": {},
   "outputs": [],
   "source": [
    "tools = [search, get_weather, get_stock_price]"
   ]
  },
  {
   "cell_type": "markdown",
   "id": "fa4db26c",
   "metadata": {},
   "source": [
    "## Building The AI Agent with Langchain"
   ]
  },
  {
   "cell_type": "code",
   "execution_count": null,
   "id": "7a48c932",
   "metadata": {},
   "outputs": [],
   "source": [
    "model_with_tools = model.bind_tools(tools)"
   ]
  },
  {
   "cell_type": "code",
   "execution_count": null,
   "id": "5d64a5f8",
   "metadata": {},
   "outputs": [],
   "source": [
    "# No Tool Calling\n",
    "from langchain_core.messages import HumanMessage\n",
    "\n",
    "response = model_with_tools.invoke([HumanMessage(content=\"Hi!\")])\n",
    "\n",
    "print(f\"ContentString: {response.content}\")\n",
    "print(f\"ToolCalls: {response.tool_calls}\")"
   ]
  },
  {
   "cell_type": "code",
   "execution_count": null,
   "id": "e7b3dea3",
   "metadata": {},
   "outputs": [],
   "source": [
    "# calling weather\n",
    "response = model_with_tools.invoke([HumanMessage(content=\"What's the weather in SF?\")])\n",
    "\n",
    "print(f\"ContentString: {response.content}\")\n",
    "print(f\"ToolCalls: {response.tool_calls}\")"
   ]
  },
  {
   "cell_type": "code",
   "execution_count": null,
   "id": "1a54742e",
   "metadata": {},
   "outputs": [],
   "source": [
    "from langchain.agents import create_tool_calling_agent\n",
    "from langchain import hub\n",
    "\n",
    "# Get the prompt to use - you can modify this!\n",
    "prompt = hub.pull(\"hwchase17/openai-functions-agent\")\n",
    "agent = create_tool_calling_agent(model, tools, prompt)"
   ]
  },
  {
   "cell_type": "code",
   "execution_count": null,
   "id": "f84de62e",
   "metadata": {},
   "outputs": [],
   "source": [
    "prompt.pretty_print()"
   ]
  },
  {
   "cell_type": "code",
   "execution_count": null,
   "id": "be7ef24d",
   "metadata": {},
   "outputs": [],
   "source": [
    "from langchain.agents import AgentExecutor\n",
    "\n",
    "agent_executor = AgentExecutor(agent=agent, tools=tools)"
   ]
  },
  {
   "cell_type": "code",
   "execution_count": null,
   "id": "7dcc21a0",
   "metadata": {},
   "outputs": [],
   "source": [
    "agent_executor.invoke({\"input\": \"whats the weather in sf?\"})"
   ]
  },
  {
   "cell_type": "code",
   "execution_count": null,
   "id": "eec8f9fe",
   "metadata": {},
   "outputs": [],
   "source": [
    "agent_executor.invoke({\"input\": \"Give me the stock price of Tesla\"})"
   ]
  },
  {
   "cell_type": "code",
   "execution_count": null,
   "id": "d4bf9875",
   "metadata": {},
   "outputs": [],
   "source": [
    "# Calling two tools\n",
    "for event in agent_executor.stream({\"input\": \"what's the wind speed in Sumber?\"}):\n",
    "    print(event)"
   ]
  },
  {
   "cell_type": "markdown",
   "id": "1cb1cb69",
   "metadata": {},
   "source": [
    "## END"
   ]
  }
 ],
 "metadata": {
  "kernelspec": {
   "display_name": "venv",
   "language": "python",
   "name": "python3"
  },
  "language_info": {
   "codemirror_mode": {
    "name": "ipython",
    "version": 3
   },
   "file_extension": ".py",
   "mimetype": "text/x-python",
   "name": "python",
   "nbconvert_exporter": "python",
   "pygments_lexer": "ipython3",
   "version": "3.11.5"
  }
 },
 "nbformat": 4,
 "nbformat_minor": 5
}
