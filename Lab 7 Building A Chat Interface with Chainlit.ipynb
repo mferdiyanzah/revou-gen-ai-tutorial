{
 "cells": [
  {
   "cell_type": "markdown",
   "id": "ddfafe98",
   "metadata": {},
   "source": [
    "# Lab 7: Building A Chat Interface with Streamlit"
   ]
  },
  {
   "cell_type": "markdown",
   "id": "48cb7f62",
   "metadata": {},
   "source": [
    "## Install Streamlit\n",
    "Streamlit is an open-source app framework built specifically for machine learning and data science projects.\n",
    "\n",
    "> pip install streamlit \n",
    "\n",
    "Test the installation by launching the sample app\n",
    "> streamlit hello"
   ]
  },
  {
   "cell_type": "markdown",
   "id": "72f8ed4c",
   "metadata": {},
   "source": []
  }
 ],
 "metadata": {
  "kernelspec": {
   "display_name": "venv",
   "language": "python",
   "name": "python3"
  },
  "language_info": {
   "codemirror_mode": {
    "name": "ipython",
    "version": 3
   },
   "file_extension": ".py",
   "mimetype": "text/x-python",
   "name": "python",
   "nbconvert_exporter": "python",
   "pygments_lexer": "ipython3",
   "version": "3.11.5"
  }
 },
 "nbformat": 4,
 "nbformat_minor": 5
}
