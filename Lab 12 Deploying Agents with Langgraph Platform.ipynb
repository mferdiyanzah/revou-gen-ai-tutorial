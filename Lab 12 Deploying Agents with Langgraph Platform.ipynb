{
 "cells": [
  {
   "cell_type": "markdown",
   "id": "e62e5661",
   "metadata": {},
   "source": [
    "# Lab 12: Deploying Agents with Langgraph Platform"
   ]
  },
  {
   "cell_type": "markdown",
   "id": "939b4fbf",
   "metadata": {},
   "source": [
    "## Local Deployment\n",
    "This guide shows you how to run a LangGraph application locally."
   ]
  },
  {
   "cell_type": "markdown",
   "id": "04bfb10e",
   "metadata": {},
   "source": [
    "### 1. Install the Langgraph CLI \n",
    "\n",
    "pip install --upgrade \"langgraph-cli[inmem]\""
   ]
  },
  {
   "cell_type": "markdown",
   "id": "69750cc0",
   "metadata": {},
   "source": [
    "### 2. Create a Langgraph App \n",
    "\n",
    "Create a new app from the new-langgraph-project-python <a href=\"https://github.com/langchain-ai/new-langgraph-project\"> template </a> "
   ]
  },
  {
   "cell_type": "markdown",
   "id": "6a60d95d",
   "metadata": {},
   "source": [
    "### 3. Install Dependencies\n",
    "pip install -e .\n",
    "\n",
    "pip install -r requirements.txt"
   ]
  },
  {
   "cell_type": "markdown",
   "id": "bf1ca66f",
   "metadata": {},
   "source": [
    "### 4. Create and .env File \n",
    "You will find a .env.example in the root of your new LangGraph app. Create a .env file in the root of your new LangGraph app and copy the contents of the .env.example file into it, filling in the necessary API keys:\n",
    "\n",
    "LANGSMITH_API_KEY=lsv2..."
   ]
  },
  {
   "cell_type": "markdown",
   "id": "4a9f37ce",
   "metadata": {},
   "source": [
    "### 5. Launch the Graph Server \n",
    "> langgraph dev\n",
    "\n",
    "Sample output: \n",
    ">    Ready!\n",
    ">\n",
    ">    - API: [http://localhost:2024](http://localhost:2024/)\n",
    ">\n",
    ">    - Docs: http://localhost:2024/docs\n",
    ">\n",
    ">    - LangGraph Studio Web UI: https://smith.langchain.com/studio/?baseUrl=http://127.0.0.1:2024"
   ]
  },
  {
   "cell_type": "markdown",
   "id": "a87cc875",
   "metadata": {},
   "source": [
    "### 6. Test Your Application in Langgraph Studio \n",
    "LangGraph Studio is a specialized UI that you can connect to LangGraph API server to visualize, interact with, and debug your application locally. Test your graph in LangGraph Studio by visiting the URL provided in the output of the langgraph dev command:\n",
    ">    - LangGraph Studio Web UI: https://smith.langchain.com/studio/?baseUrl=http://127.0.0.1:2024"
   ]
  },
  {
   "cell_type": "markdown",
   "id": "2e19530a",
   "metadata": {},
   "source": [
    "### 7. Test the API \n",
    "1. Install the Langgraph Python SDK \n",
    "\n",
    "> pip install langgraph-sdk\n",
    "\n",
    "2. Send a message to the assistant: \n"
   ]
  },
  {
   "cell_type": "code",
   "execution_count": 16,
   "id": "b984c218",
   "metadata": {},
   "outputs": [
    {
     "name": "stdout",
     "output_type": "stream",
     "text": [
      "LangGraph is a framework or tool designed to represent and manage knowledge and information in the form of graphs, often used in the context of natural language processing (NLP) and artificial intelligence (AI). It typically involves constructing knowledge graphs that capture the relationships between concepts, entities, or pieces of information extracted from text or other data sources.\n",
      "\n",
      "Specifically, LangGraph may refer to systems that combine language understanding with graph-based representations to enhance tasks such as question answering, information retrieval, reasoning, or knowledge discovery. By structuring linguistic and semantic information into a graph format, LangGraph facilitates more efficient querying and reasoning over complex data.\n",
      "\n",
      "If you have a particular context or source where LangGraph is mentioned (e.g., a research paper, a specific software project, or a product), please provide more details, and I can offer a more precise explanation."
     ]
    }
   ],
   "source": [
    "from langgraph_sdk import get_sync_client\n",
    "\n",
    "client = get_sync_client(url=\"https://revou-deployment-0f91b40ea9f0564990432e42acdb2f30.us.langgraph.app\")\n",
    "\n",
    "for chunk in client.runs.stream(\n",
    "    None,  # Threadless run\n",
    "    \"agent\", # Name of assistant. Defined in langgraph.json.\n",
    "    input={\n",
    "        \"messages\": [{\n",
    "            \"role\": \"human\",\n",
    "            \"content\": \"What is LangGraph?\",\n",
    "        }],\n",
    "    },\n",
    "    stream_mode=\"messages-tuple\",\n",
    "):\n",
    "    #print(f\"Receiving new event of type: {chunk.event}...\")\n",
    "    #print(chunk.data)\n",
    "    #print(\"\\n\\n\")\n",
    "    if chunk.event == 'messages':\n",
    "        print(chunk.data[0]['content'], end=\"\", flush=True)"
   ]
  },
  {
   "cell_type": "markdown",
   "id": "9fcf9ec0",
   "metadata": {},
   "source": [
    "# END"
   ]
  }
 ],
 "metadata": {
  "kernelspec": {
   "display_name": "venv",
   "language": "python",
   "name": "python3"
  },
  "language_info": {
   "codemirror_mode": {
    "name": "ipython",
    "version": 3
   },
   "file_extension": ".py",
   "mimetype": "text/x-python",
   "name": "python",
   "nbconvert_exporter": "python",
   "pygments_lexer": "ipython3",
   "version": "3.11.5"
  }
 },
 "nbformat": 4,
 "nbformat_minor": 5
}
